{
 "cells": [
  {
   "cell_type": "markdown",
   "id": "2d459350",
   "metadata": {},
   "source": [
    "# 단순선형회귀분석"
   ]
  },
  {
   "cell_type": "code",
   "execution_count": 187,
   "id": "138fed1e",
   "metadata": {},
   "outputs": [
    {
     "data": {
      "text/plain": [
       "<torch._C.Generator at 0x2cbbcfc28d0>"
      ]
     },
     "execution_count": 187,
     "metadata": {},
     "output_type": "execute_result"
    }
   ],
   "source": [
    "import torch\n",
    "import torch.nn as nn\n",
    "import torch.nn.functional as F\n",
    "torch.manual_seed(1)                 "
   ]
  },
  {
   "cell_type": "code",
   "execution_count": 188,
   "id": "5be23149",
   "metadata": {},
   "outputs": [
    {
     "name": "stdout",
     "output_type": "stream",
     "text": [
      "Epoch    0/2000 Cost: 13.103541\n",
      "Epoch  100/2000 Cost: 0.002791\n",
      "Epoch  200/2000 Cost: 0.001724\n",
      "Epoch  300/2000 Cost: 0.001066\n",
      "Epoch  400/2000 Cost: 0.000658\n",
      "Epoch  500/2000 Cost: 0.000407\n",
      "Epoch  600/2000 Cost: 0.000251\n",
      "Epoch  700/2000 Cost: 0.000155\n",
      "Epoch  800/2000 Cost: 0.000096\n",
      "Epoch  900/2000 Cost: 0.000059\n",
      "Epoch 1000/2000 Cost: 0.000037\n",
      "Epoch 1100/2000 Cost: 0.000023\n",
      "Epoch 1200/2000 Cost: 0.000014\n",
      "Epoch 1300/2000 Cost: 0.000009\n",
      "Epoch 1400/2000 Cost: 0.000005\n",
      "Epoch 1500/2000 Cost: 0.000003\n",
      "Epoch 1600/2000 Cost: 0.000002\n",
      "Epoch 1700/2000 Cost: 0.000001\n",
      "Epoch 1800/2000 Cost: 0.000001\n",
      "Epoch 1900/2000 Cost: 0.000000\n",
      "Epoch 2000/2000 Cost: 0.000000\n"
     ]
    }
   ],
   "source": [
    "x_train = torch.FloatTensor([[1], [2], [3]])\n",
    "y_train = torch.FloatTensor([[2], [4], [6]])\n",
    "\n",
    "# 모델을 선언 및 초기화. 단순 선형 회귀이므로 input_dim=1, output_dim=1.\n",
    "model = nn.Linear(1,1)\n",
    "optimizer = torch.optim.SGD(model.parameters(), lr=0.01) \n",
    "nb_epochs = 2000\n",
    "\n",
    "for epoch in range(nb_epochs+1):\n",
    "    prediction = model(x_train)\n",
    "    cost = F.mse_loss(prediction, y_train)\n",
    "    # gradient를 0으로 초기화\n",
    "    optimizer.zero_grad()\n",
    "    # 비용 함수를 미분하여 gradient 계산\n",
    "    cost.backward() \n",
    "    # W와 b를 업데이트\n",
    "    optimizer.step()\n",
    "\n",
    "    if epoch % 100 == 0:\n",
    "    # 100번마다 로그 출력\n",
    "      print('Epoch {:4d}/{} Cost: {:.6f}'.format(\n",
    "          epoch, nb_epochs, cost.item()\n",
    "      ))"
   ]
  },
  {
   "cell_type": "code",
   "execution_count": 189,
   "id": "70599a10",
   "metadata": {},
   "outputs": [
    {
     "name": "stdout",
     "output_type": "stream",
     "text": [
      "학습 이후 파라미터 [Parameter containing:\n",
      "tensor([[1.9994]], requires_grad=True), Parameter containing:\n",
      "tensor([0.0014], requires_grad=True)]\n"
     ]
    }
   ],
   "source": [
    "# 학습 이후 파라미터 값 (weight, bias)\n",
    "print('학습 이후 파라미터',list(model.parameters()))"
   ]
  },
  {
   "cell_type": "code",
   "execution_count": 190,
   "id": "2da1c434",
   "metadata": {},
   "outputs": [
    {
     "name": "stdout",
     "output_type": "stream",
     "text": [
      "훈련 후 입력이 4일 때의 예측값 : tensor([[7.9989]], grad_fn=<AddmmBackward0>)\n"
     ]
    }
   ],
   "source": [
    "# 임의의 값을 넣어 예측 test\n",
    "new_var =  torch.FloatTensor([[4.0]]) \n",
    "# 입력한 값 4에 대해서 예측값 y를 리턴받아서 pred_y에 저장\n",
    "pred_y = model(new_var) # forward 연산\n",
    "# y = 2x 이므로 입력이 4라면 y가 8에 가까운 값이 나와야 제대로 학습이 된 것\n",
    "print(\"훈련 후 입력이 4일 때의 예측값 :\", pred_y) "
   ]
  },
  {
   "cell_type": "markdown",
   "id": "0d0f87c4",
   "metadata": {},
   "source": [
    "# 다중선형회귀분석"
   ]
  },
  {
   "cell_type": "code",
   "execution_count": null,
   "id": "d036a820",
   "metadata": {},
   "outputs": [],
   "source": [
    "import torch\n",
    "import torch.nn as nn\n",
    "import torch.nn.functional as F\n",
    "torch.manual_seed(1)                 "
   ]
  },
  {
   "cell_type": "code",
   "execution_count": 194,
   "id": "e5352cae",
   "metadata": {},
   "outputs": [
    {
     "name": "stdout",
     "output_type": "stream",
     "text": [
      "Epoch    0/2000 Cost: 31667.599609\n",
      "Epoch  100/2000 Cost: 0.225993\n",
      "Epoch  200/2000 Cost: 0.223911\n",
      "Epoch  300/2000 Cost: 0.221941\n",
      "Epoch  400/2000 Cost: 0.220059\n",
      "Epoch  500/2000 Cost: 0.218271\n",
      "Epoch  600/2000 Cost: 0.216575\n",
      "Epoch  700/2000 Cost: 0.214950\n",
      "Epoch  800/2000 Cost: 0.213413\n",
      "Epoch  900/2000 Cost: 0.211952\n",
      "Epoch 1000/2000 Cost: 0.210559\n",
      "Epoch 1100/2000 Cost: 0.209230\n",
      "Epoch 1200/2000 Cost: 0.207967\n",
      "Epoch 1300/2000 Cost: 0.206762\n",
      "Epoch 1400/2000 Cost: 0.205618\n",
      "Epoch 1500/2000 Cost: 0.204529\n",
      "Epoch 1600/2000 Cost: 0.203481\n",
      "Epoch 1700/2000 Cost: 0.202486\n",
      "Epoch 1800/2000 Cost: 0.201539\n",
      "Epoch 1900/2000 Cost: 0.200634\n",
      "Epoch 2000/2000 Cost: 0.199770\n"
     ]
    }
   ],
   "source": [
    "torch.manual_seed(1) # 한번 사용되면 다시 시드 지정\n",
    "\n",
    "\n",
    "x_train = torch.FloatTensor([[73, 80, 75],\n",
    "                             [93, 88, 93],\n",
    "                             [89, 91, 90],\n",
    "                             [96, 98, 100],\n",
    "                             [73, 66, 70]])\n",
    "y_train = torch.FloatTensor([[152], [185], [180], [196], [142]])\n",
    "\n",
    "# 모델을 선언 및 초기화. 다중 선형 회귀이므로 input_dim=3, output_dim=1.\n",
    "model = nn.Linear(3,1)\n",
    "\n",
    "optimizer = torch.optim.SGD(model.parameters(), lr=1e-5) \n",
    "nb_epochs = 2000\n",
    "for epoch in range(nb_epochs+1):\n",
    "\n",
    "    # model(x_train)은 model.forward(x_train)와 동일함.\n",
    "    prediction = model(x_train)\n",
    "    \n",
    "    cost = F.mse_loss(prediction, y_train) # <== 파이토치에서 제공하는 평균 제곱 오차 함수\n",
    "\n",
    "    # gradient를 0으로 초기화\n",
    "    optimizer.zero_grad()\n",
    "    # 비용 함수를 미분하여 gradient 계산\n",
    "    cost.backward()\n",
    "    # W와 b를 업데이트\n",
    "    optimizer.step()\n",
    "\n",
    "    if epoch % 100 == 0:\n",
    "    # 100번마다 로그 출력\n",
    "      print('Epoch {:4d}/{} Cost: {:.6f}'.format(\n",
    "          epoch, nb_epochs, cost.item()\n",
    "      ))"
   ]
  },
  {
   "cell_type": "code",
   "execution_count": 195,
   "id": "4ee131d7",
   "metadata": {},
   "outputs": [
    {
     "name": "stdout",
     "output_type": "stream",
     "text": [
      "학습 이후 파라미터 [Parameter containing:\n",
      "tensor([[0.9778, 0.4539, 0.5768]], requires_grad=True), Parameter containing:\n",
      "tensor([0.2802], requires_grad=True)]\n"
     ]
    }
   ],
   "source": [
    "# 학습 이후 파라미터 값 (weight, bias)   - 생각보다 변동이 큼\n",
    "print('학습 이후 파라미터',list(model.parameters()))"
   ]
  },
  {
   "cell_type": "code",
   "execution_count": 196,
   "id": "21df551b",
   "metadata": {},
   "outputs": [
    {
     "name": "stdout",
     "output_type": "stream",
     "text": [
      "훈련 후 입력이 73, 80, 75일 때의 예측값 : tensor([[151.2306]], grad_fn=<AddmmBackward0>)\n"
     ]
    }
   ],
   "source": [
    "# 임의의 입력 [73, 80, 75]를 선언\n",
    "new_var =  torch.FloatTensor([[73, 80, 75]]) \n",
    "# 입력한 값 [73, 80, 75]에 대해서 예측값 y를 리턴받아서 pred_y에 저장\n",
    "pred_y = model(new_var) \n",
    "print(\"훈련 후 입력이 73, 80, 75일 때의 예측값 :\", pred_y) "
   ]
  },
  {
   "cell_type": "markdown",
   "id": "296305a4",
   "metadata": {},
   "source": [
    "# Mini-Batch 적용"
   ]
  },
  {
   "cell_type": "code",
   "execution_count": 5,
   "id": "235ec94c",
   "metadata": {},
   "outputs": [],
   "source": [
    "import torch\n",
    "import torch.nn as nn\n",
    "import torch.nn.functional as F\n",
    "\n",
    "from torch.utils.data import TensorDataset \n",
    "from torch.utils.data import DataLoader # 데이터로더"
   ]
  },
  {
   "cell_type": "code",
   "execution_count": 53,
   "id": "9773468f",
   "metadata": {},
   "outputs": [
    {
     "name": "stdout",
     "output_type": "stream",
     "text": [
      "Epoch    0/20 Batch 1/3 Cost: 7139.530273\n",
      "Epoch    0/20 Batch 2/3 Cost: 2163.698730\n",
      "Epoch    0/20 Batch 3/3 Cost: 1129.725464\n",
      "Epoch    1/20 Batch 1/3 Cost: 176.478180\n",
      "Epoch    1/20 Batch 2/3 Cost: 53.319839\n",
      "Epoch    1/20 Batch 3/3 Cost: 18.632021\n",
      "Epoch    2/20 Batch 1/3 Cost: 2.259949\n",
      "Epoch    2/20 Batch 2/3 Cost: 5.099573\n",
      "Epoch    2/20 Batch 3/3 Cost: 5.797091\n",
      "Epoch    3/20 Batch 1/3 Cost: 1.514429\n",
      "Epoch    3/20 Batch 2/3 Cost: 1.648437\n",
      "Epoch    3/20 Batch 3/3 Cost: 3.328553\n",
      "Epoch    4/20 Batch 1/3 Cost: 1.843488\n",
      "Epoch    4/20 Batch 2/3 Cost: 1.954591\n",
      "Epoch    4/20 Batch 3/3 Cost: 1.615935\n",
      "Epoch    5/20 Batch 1/3 Cost: 1.754194\n",
      "Epoch    5/20 Batch 2/3 Cost: 0.706354\n",
      "Epoch    5/20 Batch 3/3 Cost: 4.578487\n",
      "Epoch    6/20 Batch 1/3 Cost: 1.684383\n",
      "Epoch    6/20 Batch 2/3 Cost: 3.101316\n",
      "Epoch    6/20 Batch 3/3 Cost: 1.414109\n",
      "Epoch    7/20 Batch 1/3 Cost: 0.328983\n",
      "Epoch    7/20 Batch 2/3 Cost: 5.211092\n",
      "Epoch    7/20 Batch 3/3 Cost: 1.118716\n",
      "Epoch    8/20 Batch 1/3 Cost: 0.403220\n",
      "Epoch    8/20 Batch 2/3 Cost: 4.740472\n",
      "Epoch    8/20 Batch 3/3 Cost: 1.451698\n",
      "Epoch    9/20 Batch 1/3 Cost: 2.205938\n",
      "Epoch    9/20 Batch 2/3 Cost: 1.309003\n",
      "Epoch    9/20 Batch 3/3 Cost: 1.552407\n",
      "Epoch   10/20 Batch 1/3 Cost: 1.812280\n",
      "Epoch   10/20 Batch 2/3 Cost: 2.254448\n",
      "Epoch   10/20 Batch 3/3 Cost: 0.929128\n",
      "Epoch   11/20 Batch 1/3 Cost: 0.344669\n",
      "Epoch   11/20 Batch 2/3 Cost: 2.227684\n",
      "Epoch   11/20 Batch 3/3 Cost: 3.884212\n",
      "Epoch   12/20 Batch 1/3 Cost: 1.906333\n",
      "Epoch   12/20 Batch 2/3 Cost: 1.322984\n",
      "Epoch   12/20 Batch 3/3 Cost: 2.242636\n",
      "Epoch   13/20 Batch 1/3 Cost: 2.325404\n",
      "Epoch   13/20 Batch 2/3 Cost: 1.363660\n",
      "Epoch   13/20 Batch 3/3 Cost: 1.437540\n",
      "Epoch   14/20 Batch 1/3 Cost: 1.993658\n",
      "Epoch   14/20 Batch 2/3 Cost: 0.511005\n",
      "Epoch   14/20 Batch 3/3 Cost: 4.738009\n",
      "Epoch   15/20 Batch 1/3 Cost: 1.923364\n",
      "Epoch   15/20 Batch 2/3 Cost: 1.793366\n",
      "Epoch   15/20 Batch 3/3 Cost: 2.949435\n",
      "Epoch   16/20 Batch 1/3 Cost: 1.711877\n",
      "Epoch   16/20 Batch 2/3 Cost: 1.914267\n",
      "Epoch   16/20 Batch 3/3 Cost: 1.485240\n",
      "Epoch   17/20 Batch 1/3 Cost: 0.608961\n",
      "Epoch   17/20 Batch 2/3 Cost: 4.609445\n",
      "Epoch   17/20 Batch 3/3 Cost: 1.301687\n",
      "Epoch   18/20 Batch 1/3 Cost: 2.355182\n",
      "Epoch   18/20 Batch 2/3 Cost: 1.498277\n",
      "Epoch   18/20 Batch 3/3 Cost: 0.808479\n",
      "Epoch   19/20 Batch 1/3 Cost: 0.328503\n",
      "Epoch   19/20 Batch 2/3 Cost: 4.782828\n",
      "Epoch   19/20 Batch 3/3 Cost: 1.373899\n",
      "Epoch   20/20 Batch 1/3 Cost: 1.451635\n",
      "Epoch   20/20 Batch 2/3 Cost: 2.187861\n",
      "Epoch   20/20 Batch 3/3 Cost: 1.022556\n"
     ]
    }
   ],
   "source": [
    "x_train  =  torch.FloatTensor([[73,  80,  75], \n",
    "                               [93,  88,  93], \n",
    "                               [89,  91,  90], \n",
    "                               [96,  98,  100],   \n",
    "                               [73,  66,  70]])  \n",
    "y_train  =  torch.FloatTensor([[152],  [185],  [180],  [196],  [142]])\n",
    "# x_train, y_train 결합\n",
    "dataset = TensorDataset(x_train, y_train)\n",
    "\n",
    "# DataLoader : Mini-Batch 묶기, 효율적인 데이터 로딩 및 학습\n",
    "dataloader = DataLoader(dataset, batch_size=2, shuffle=True)\n",
    "\n",
    "model = nn.Linear(3,1)\n",
    "optimizer = torch.optim.SGD(model.parameters(), lr=1e-5) \n",
    "\n",
    "nb_epochs = 20\n",
    "for epoch in range(nb_epochs + 1):\n",
    "    for batch_idx, samples in enumerate(dataloader):\n",
    "        x_train, y_train = samples\n",
    "        prediction = model(x_train)\n",
    "        cost = F.mse_loss(prediction, y_train)\n",
    "        optimizer.zero_grad()\n",
    "        cost.backward()\n",
    "        optimizer.step()\n",
    "\n",
    "        print('Epoch {:4d}/{} Batch {}/{} Cost: {:.6f}'.format(\n",
    "            epoch, nb_epochs, batch_idx+1, len(dataloader),\n",
    "            cost.item()\n",
    "            ))\n"
   ]
  },
  {
   "cell_type": "code",
   "execution_count": 49,
   "id": "d34a0f03",
   "metadata": {},
   "outputs": [
    {
     "name": "stdout",
     "output_type": "stream",
     "text": [
      "훈련 후 입력이 73, 80, 75일 때의 예측값 : tensor([[154.3330]], grad_fn=<AddmmBackward0>)\n"
     ]
    }
   ],
   "source": [
    "# 임의의 입력 [73, 80, 75]를 선언\n",
    "new_var =  torch.FloatTensor([[73, 80, 75]]) \n",
    "# 입력한 값 [73, 80, 75]에 대해서 예측값 y를 리턴받아서 pred_y에 저장\n",
    "pred_y = model(new_var) \n",
    "print(\"훈련 후 입력이 73, 80, 75일 때의 예측값 :\", pred_y) \n"
   ]
  },
  {
   "cell_type": "markdown",
   "id": "2346c9e6",
   "metadata": {},
   "source": [
    "# Custom Dataset 적용"
   ]
  },
  {
   "cell_type": "code",
   "execution_count": 54,
   "id": "99ec901b",
   "metadata": {},
   "outputs": [],
   "source": [
    "import torch\n",
    "import torch.nn.functional as F\n",
    "from torch.utils.data import Dataset\n",
    "from torch.utils.data import DataLoader"
   ]
  },
  {
   "cell_type": "code",
   "execution_count": 55,
   "id": "37ea9feb",
   "metadata": {},
   "outputs": [],
   "source": [
    "# Dataset 상속\n",
    "class CustomDataset(Dataset):\n",
    "    def __init__(self):\n",
    "        self.x_data = [[73, 80, 75],\n",
    "                       [93, 88, 93],\n",
    "                       [89, 91, 90],\n",
    "                       [96, 98, 100],\n",
    "                       [73, 66, 70]]\n",
    "        self.y_data = [[152], [185], [180], [196], [142]]\n",
    "\n",
    "  # 총 데이터의 개수를 리턴\n",
    "    def __len__(self): \n",
    "        return len(self.x_data)\n",
    "\n",
    "  # 인덱스를 입력받아 그에 맵핑되는 입출력 데이터를 파이토치의 Tensor 형태로 리턴\n",
    "    def __getitem__(self, idx): \n",
    "        x = torch.FloatTensor(self.x_data[idx])\n",
    "        y = torch.FloatTensor(self.y_data[idx])\n",
    "        return x, y\n"
   ]
  },
  {
   "cell_type": "code",
   "execution_count": 56,
   "id": "6403dd51",
   "metadata": {},
   "outputs": [
    {
     "name": "stdout",
     "output_type": "stream",
     "text": [
      "Epoch    0/20 Batch 1/3 Cost: 36619.468750\n",
      "Epoch    0/20 Batch 2/3 Cost: 26480.734375\n",
      "Epoch    0/20 Batch 3/3 Cost: 7586.458984\n",
      "Epoch    1/20 Batch 1/3 Cost: 1090.621338\n",
      "Epoch    1/20 Batch 2/3 Cost: 359.783020\n",
      "Epoch    1/20 Batch 3/3 Cost: 139.550659\n",
      "Epoch    2/20 Batch 1/3 Cost: 48.982479\n",
      "Epoch    2/20 Batch 2/3 Cost: 1.199898\n",
      "Epoch    2/20 Batch 3/3 Cost: 37.996418\n",
      "Epoch    3/20 Batch 1/3 Cost: 3.248415\n",
      "Epoch    3/20 Batch 2/3 Cost: 15.308191\n",
      "Epoch    3/20 Batch 3/3 Cost: 13.908771\n",
      "Epoch    4/20 Batch 1/3 Cost: 15.284612\n",
      "Epoch    4/20 Batch 2/3 Cost: 15.877931\n",
      "Epoch    4/20 Batch 3/3 Cost: 10.694125\n",
      "Epoch    5/20 Batch 1/3 Cost: 15.074713\n",
      "Epoch    5/20 Batch 2/3 Cost: 9.557363\n",
      "Epoch    5/20 Batch 3/3 Cost: 12.363804\n",
      "Epoch    6/20 Batch 1/3 Cost: 25.678646\n",
      "Epoch    6/20 Batch 2/3 Cost: 11.756993\n",
      "Epoch    6/20 Batch 3/3 Cost: 0.118510\n",
      "Epoch    7/20 Batch 1/3 Cost: 15.583706\n",
      "Epoch    7/20 Batch 2/3 Cost: 8.489288\n",
      "Epoch    7/20 Batch 3/3 Cost: 1.581824\n",
      "Epoch    8/20 Batch 1/3 Cost: 11.246813\n",
      "Epoch    8/20 Batch 2/3 Cost: 6.283670\n",
      "Epoch    8/20 Batch 3/3 Cost: 15.712848\n",
      "Epoch    9/20 Batch 1/3 Cost: 13.347052\n",
      "Epoch    9/20 Batch 2/3 Cost: 0.957135\n",
      "Epoch    9/20 Batch 3/3 Cost: 24.043598\n",
      "Epoch   10/20 Batch 1/3 Cost: 11.141153\n",
      "Epoch   10/20 Batch 2/3 Cost: 11.201831\n",
      "Epoch   10/20 Batch 3/3 Cost: 11.217736\n",
      "Epoch   11/20 Batch 1/3 Cost: 13.427335\n",
      "Epoch   11/20 Batch 2/3 Cost: 9.544721\n",
      "Epoch   11/20 Batch 3/3 Cost: 4.919263\n",
      "Epoch   12/20 Batch 1/3 Cost: 6.056814\n",
      "Epoch   12/20 Batch 2/3 Cost: 22.539955\n",
      "Epoch   12/20 Batch 3/3 Cost: 7.362425\n",
      "Epoch   13/20 Batch 1/3 Cost: 1.225054\n",
      "Epoch   13/20 Batch 2/3 Cost: 15.431629\n",
      "Epoch   13/20 Batch 3/3 Cost: 15.369018\n",
      "Epoch   14/20 Batch 1/3 Cost: 8.152677\n",
      "Epoch   14/20 Batch 2/3 Cost: 14.962536\n",
      "Epoch   14/20 Batch 3/3 Cost: 14.214658\n",
      "Epoch   15/20 Batch 1/3 Cost: 8.178749\n",
      "Epoch   15/20 Batch 2/3 Cost: 15.216522\n",
      "Epoch   15/20 Batch 3/3 Cost: 14.008650\n",
      "Epoch   16/20 Batch 1/3 Cost: 16.326790\n",
      "Epoch   16/20 Batch 2/3 Cost: 16.120358\n",
      "Epoch   16/20 Batch 3/3 Cost: 7.150826\n",
      "Epoch   17/20 Batch 1/3 Cost: 7.151753\n",
      "Epoch   17/20 Batch 2/3 Cost: 8.486866\n",
      "Epoch   17/20 Batch 3/3 Cost: 16.574650\n",
      "Epoch   18/20 Batch 1/3 Cost: 0.325558\n",
      "Epoch   18/20 Batch 2/3 Cost: 22.977188\n",
      "Epoch   18/20 Batch 3/3 Cost: 17.812016\n",
      "Epoch   19/20 Batch 1/3 Cost: 9.236998\n",
      "Epoch   19/20 Batch 2/3 Cost: 9.165343\n",
      "Epoch   19/20 Batch 3/3 Cost: 14.854052\n",
      "Epoch   20/20 Batch 1/3 Cost: 10.028899\n",
      "Epoch   20/20 Batch 2/3 Cost: 7.599066\n",
      "Epoch   20/20 Batch 3/3 Cost: 24.898632\n"
     ]
    }
   ],
   "source": [
    "dataset = CustomDataset()\n",
    "dataloader = DataLoader(dataset, batch_size=2, shuffle=True)\n",
    "\n",
    "model = torch.nn.Linear(3,1)\n",
    "optimizer = torch.optim.SGD(model.parameters(), lr=1e-5) \n",
    "\n",
    "nb_epochs = 20\n",
    "for epoch in range(nb_epochs + 1):\n",
    "    for batch_idx, samples in enumerate(dataloader):\n",
    "        x_train, y_train = samples\n",
    "        prediction = model(x_train)\n",
    "        cost = F.mse_loss(prediction, y_train)\n",
    "        optimizer.zero_grad()\n",
    "        cost.backward()\n",
    "        optimizer.step()\n",
    "\n",
    "        print('Epoch {:4d}/{} Batch {}/{} Cost: {:.6f}'.format(\n",
    "            epoch, nb_epochs, batch_idx+1, len(dataloader),\n",
    "            cost.item()\n",
    "            ))\n"
   ]
  },
  {
   "cell_type": "code",
   "execution_count": 57,
   "id": "c1fec701",
   "metadata": {},
   "outputs": [
    {
     "name": "stdout",
     "output_type": "stream",
     "text": [
      "훈련 후 입력이 73, 80, 75일 때의 예측값 : tensor([[156.0870]], grad_fn=<AddmmBackward0>)\n"
     ]
    }
   ],
   "source": [
    "# 임의의 입력 [73, 80, 75]를 선언\n",
    "new_var =  torch.FloatTensor([[73, 80, 75]]) \n",
    "# 입력한 값 [73, 80, 75]에 대해서 예측값 y를 리턴받아서 pred_y에 저장\n",
    "pred_y = model(new_var) \n",
    "print(\"훈련 후 입력이 73, 80, 75일 때의 예측값 :\", pred_y) "
   ]
  }
 ],
 "metadata": {
  "kernelspec": {
   "display_name": "torch",
   "language": "python",
   "name": "torch"
  },
  "language_info": {
   "codemirror_mode": {
    "name": "ipython",
    "version": 3
   },
   "file_extension": ".py",
   "mimetype": "text/x-python",
   "name": "python",
   "nbconvert_exporter": "python",
   "pygments_lexer": "ipython3",
   "version": "3.8.17"
  }
 },
 "nbformat": 4,
 "nbformat_minor": 5
}
