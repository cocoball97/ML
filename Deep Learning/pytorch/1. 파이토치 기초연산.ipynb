{
 "cells": [
  {
   "cell_type": "code",
   "execution_count": 13,
   "id": "4bea2e52",
   "metadata": {},
   "outputs": [],
   "source": [
    "import torch\n",
    "import numpy as np"
   ]
  },
  {
   "cell_type": "markdown",
   "id": "631ddffd",
   "metadata": {},
   "source": [
    "## 3차원 텐서 (차원, 행, 열)"
   ]
  },
  {
   "cell_type": "markdown",
   "id": "67b5fbe2",
   "metadata": {},
   "source": [
    "## 브로드캐스팅 : 자동으로 크기를 맞춰서 연산을 수행하는 기능"
   ]
  },
  {
   "cell_type": "code",
   "execution_count": 3,
   "id": "df7a6147",
   "metadata": {},
   "outputs": [
    {
     "name": "stdout",
     "output_type": "stream",
     "text": [
      "tensor([[4., 5.]])\n"
     ]
    }
   ],
   "source": [
    "# 브로드캐스팅은 편리하지만, 자동으로 실행되는 기능이므로 굉장히 주의해서 사용해야 합니다. \n",
    "# 사용자가 두 텐서의 크기가 같다고 착각하고 덧셈 연산을 수행했다고 가정해보겠습니다. \n",
    "# 하지만 실제로 이 두 텐서의 크기는 달랐고 브로드캐스팅이 수행되어 덧셈 연산이 수행되었습니다.\n",
    "# 두 텐서의 크기가 다르다고 에러를 발생시킨다면 연산이 잘못되었음을 알 수 있지만 \n",
    "# 브로드캐스팅은 자동으로 수행되므로 사용자는 나중에 원하는 결과가 나오지 않더라도 어디서 문제가 발생했는지 찾기가 굉장히 어려움\n",
    "\n",
    "\n",
    "# Vector + scalar                   차원이 일치하지 않음에도 결과 출력\n",
    "m1 = torch.FloatTensor([[1, 2]])\n",
    "m2 = torch.FloatTensor([3]) # [3] -> [3, 3]\n",
    "print(m1 + m2)"
   ]
  },
  {
   "cell_type": "markdown",
   "id": "3157198b",
   "metadata": {},
   "source": [
    "## 차원이 다른 벡터간의 연산 (행렬, 원소 곱셈)"
   ]
  },
  {
   "cell_type": "code",
   "execution_count": 4,
   "id": "2f431d15",
   "metadata": {},
   "outputs": [
    {
     "name": "stdout",
     "output_type": "stream",
     "text": [
      "tensor([[4., 5.],\n",
      "        [5., 6.]])\n"
     ]
    }
   ],
   "source": [
    "# 2 x 1 Vector + 1 x 2 Vector      차원이 다른 벡터간의 연산\n",
    "m1 = torch.FloatTensor([[1, 2]])\n",
    "m2 = torch.FloatTensor([[3], [4]])\n",
    "print(m1 + m2)"
   ]
  },
  {
   "cell_type": "code",
   "execution_count": 5,
   "id": "3ff5303e",
   "metadata": {},
   "outputs": [
    {
     "name": "stdout",
     "output_type": "stream",
     "text": [
      "Shape of Matrix 1:  torch.Size([2, 2])\n",
      "Shape of Matrix 2:  torch.Size([2, 1])\n",
      "tensor([[ 5.],\n",
      "        [11.]])\n"
     ]
    }
   ],
   "source": [
    "# 행렬 곱셈. matmul()을 통해 수행합니다.\n",
    "\n",
    "m1 = torch.FloatTensor([[1, 2], [3, 4]])\n",
    "m2 = torch.FloatTensor([[1], [2]])\n",
    "print('Shape of Matrix 1: ', m1.shape) # 2 x 2\n",
    "print('Shape of Matrix 2: ', m2.shape) # 2 x 1\n",
    "print(m1.matmul(m2)) # 2 x 1"
   ]
  },
  {
   "cell_type": "code",
   "execution_count": 6,
   "id": "1fd25ad7",
   "metadata": {},
   "outputs": [
    {
     "name": "stdout",
     "output_type": "stream",
     "text": [
      "Shape of Matrix 1:  torch.Size([2, 2])\n",
      "Shape of Matrix 2:  torch.Size([2, 1])\n",
      "tensor([[1., 2.],\n",
      "        [6., 8.]])\n",
      "tensor([[1., 2.],\n",
      "        [6., 8.]])\n"
     ]
    }
   ],
   "source": [
    "# 원소 별 곱셈. 브로드캐스트 진행 후, 행렬원소끼리 곱하는 것.\n",
    "\n",
    "m1 = torch.FloatTensor([[1, 2], [3, 4]])\n",
    "m2 = torch.FloatTensor([[1], [2]])\n",
    "print('Shape of Matrix 1: ', m1.shape) # 2 x 2\n",
    "print('Shape of Matrix 2: ', m2.shape) # 2 x 1\n",
    "print(m1 * m2) # 2 x 2\n",
    "print(m1.mul(m2))"
   ]
  },
  {
   "cell_type": "code",
   "execution_count": 72,
   "id": "fc66e7a0",
   "metadata": {},
   "outputs": [
    {
     "name": "stdout",
     "output_type": "stream",
     "text": [
      "tensor([[2., 4.],\n",
      "        [6., 8.]])\n",
      "tensor([[1., 2.],\n",
      "        [3., 4.]])\n",
      "\n",
      "덮어쓰기\n",
      "tensor([[2., 4.],\n",
      "        [6., 8.]])\n",
      "tensor([[2., 4.],\n",
      "        [6., 8.]])\n"
     ]
    }
   ],
   "source": [
    "x = torch.FloatTensor([[1, 2], [3, 4]])\n",
    "print(x.mul(2.))  # 곱하기 2를 수행한 결과를 변수 x에 값을 저장하면서 결과를 출력\n",
    "print(x) # 기존의 값 출력\n",
    "\n",
    "\n",
    "# 덮어쓰기\n",
    "print('\\n덮어쓰기')\n",
    "x = torch.FloatTensor([[1, 2], [3, 4]])\n",
    "print(x.mul_(2.))  # 곱하기 2를 수행한 결과를 변수 x에 값을 저장하면서 결과를 출력\n",
    "print(x) # 기존의 값 출력"
   ]
  },
  {
   "cell_type": "markdown",
   "id": "6ce8157a",
   "metadata": {},
   "source": [
    "## 텐서 연산"
   ]
  },
  {
   "cell_type": "code",
   "execution_count": 7,
   "id": "b7ceb412",
   "metadata": {},
   "outputs": [
    {
     "name": "stdout",
     "output_type": "stream",
     "text": [
      "tensor(2.5000)\n",
      "tensor([2., 3.])\n",
      "tensor([1.5000, 3.5000])\n",
      "tensor([1.5000, 3.5000])\n"
     ]
    }
   ],
   "source": [
    "t = torch.FloatTensor([[1, 2], [3, 4]])\n",
    "print(t.mean())       # 전체 평균값\n",
    "print(t.mean(dim=0))  # 입력에서 첫번째 차원(행)을 제거, 열의 평균값\n",
    "print(t.mean(dim=1))  # 입력에서 첫번째 차원(열)을 제거, 행의 평균값\n",
    "print(t.mean(dim=-1)) # 마지막 차원(열)을 제거"
   ]
  },
  {
   "cell_type": "code",
   "execution_count": 8,
   "id": "185bf7d7",
   "metadata": {},
   "outputs": [
    {
     "name": "stdout",
     "output_type": "stream",
     "text": [
      "torch.return_types.max(\n",
      "values=tensor([3., 4.]),\n",
      "indices=tensor([1, 1]))\n"
     ]
    }
   ],
   "source": [
    "# 최대(Max)는 원소의 최대값을 리턴하고, 아그맥스(ArgMax)는 최대값을 가진 인덱스를 리턴\n",
    "print(t.max(dim=0))    # max에 dim 인자를 주면 argmax도 함께 리턴"
   ]
  },
  {
   "cell_type": "markdown",
   "id": "f70d0ccc",
   "metadata": {},
   "source": [
    "### view, squeeze, unsqueeze는 원소 수를 유지하며 모양과 차원을 조절"
   ]
  },
  {
   "cell_type": "markdown",
   "id": "1170feb4",
   "metadata": {},
   "source": [
    "### view : 원소의 수를 유지하며 텐서 크기변경 (contigious)  reshape 비슷"
   ]
  },
  {
   "cell_type": "code",
   "execution_count": 18,
   "id": "9863ba1f",
   "metadata": {},
   "outputs": [
    {
     "name": "stdout",
     "output_type": "stream",
     "text": [
      "torch.Size([2, 2, 3])\n",
      "torch.Size([4, 3])\n"
     ]
    }
   ],
   "source": [
    "t = np.array([[[0, 1, 2],\n",
    "               [3, 4, 5]],\n",
    "              [[6, 7, 8],\n",
    "               [9, 10, 11]]])\n",
    "ft = torch.FloatTensor(t)\n",
    "print(ft.shape)\n",
    "print(ft.view([-1, 3]).shape) # 2"
   ]
  },
  {
   "cell_type": "markdown",
   "id": "5aae4a41",
   "metadata": {},
   "source": [
    "## squeeze : 1인 차원을 제거한다  <> unsqueeze : 차원 추가"
   ]
  },
  {
   "cell_type": "code",
   "execution_count": 20,
   "id": "25861e0a",
   "metadata": {},
   "outputs": [
    {
     "name": "stdout",
     "output_type": "stream",
     "text": [
      "torch.Size([3, 1])\n",
      "torch.Size([3])\n"
     ]
    }
   ],
   "source": [
    "# 3 by 1  2차원 텐서 > 1차원 벡터\n",
    "ft = torch.FloatTensor([[0], [1], [2]])\n",
    "print(ft.shape)\n",
    "print(ft.squeeze().shape)"
   ]
  },
  {
   "cell_type": "code",
   "execution_count": 34,
   "id": "d7df81ca",
   "metadata": {},
   "outputs": [
    {
     "name": "stdout",
     "output_type": "stream",
     "text": [
      "torch.Size([3])\n",
      "tensor([[0., 1., 2.]])\n",
      "torch.Size([1, 3])\n",
      "\n",
      "View 사용\n",
      "torch.Size([3])\n",
      "tensor([[0., 1., 2.]])\n",
      "torch.Size([1, 3])\n"
     ]
    }
   ],
   "source": [
    "# 1차원 벡터 > 2차원 텐서\n",
    "ft = torch.Tensor([0, 1, 2])\n",
    "print(ft.shape)\n",
    "print(ft.unsqueeze(0)) # 인덱스가 0부터 시작하므로 0은 첫번째 차원을 의미한다.\n",
    "print(ft.unsqueeze(0).shape)\n",
    "\n",
    "# view를 이용한 2차원 만들기\n",
    "print('\\nView 사용')\n",
    "print(ft.shape)\n",
    "print(ft.view(1, -1))\n",
    "print(ft.view(1, -1).shape)"
   ]
  },
  {
   "cell_type": "markdown",
   "id": "166a038f",
   "metadata": {},
   "source": [
    "## 연결(concatenate)"
   ]
  },
  {
   "cell_type": "code",
   "execution_count": 36,
   "id": "12d31754",
   "metadata": {},
   "outputs": [],
   "source": [
    "x = torch.FloatTensor([[1, 2], [3, 4]])\n",
    "y = torch.FloatTensor([[5, 6], [7, 8]])"
   ]
  },
  {
   "cell_type": "code",
   "execution_count": 37,
   "id": "7306c816",
   "metadata": {},
   "outputs": [
    {
     "name": "stdout",
     "output_type": "stream",
     "text": [
      "tensor([[1., 2.],\n",
      "        [3., 4.],\n",
      "        [5., 6.],\n",
      "        [7., 8.]])\n"
     ]
    }
   ],
   "source": [
    "print(torch.cat([x, y], dim=0)) # 행을 기준으로 concat"
   ]
  },
  {
   "cell_type": "code",
   "execution_count": 38,
   "id": "83e174a0",
   "metadata": {},
   "outputs": [
    {
     "name": "stdout",
     "output_type": "stream",
     "text": [
      "tensor([[1., 2., 5., 6.],\n",
      "        [3., 4., 7., 8.]])\n"
     ]
    }
   ],
   "source": [
    "print(torch.cat([x, y], dim=1)) # 열을 기준으로 concat"
   ]
  },
  {
   "cell_type": "markdown",
   "id": "d742ea64",
   "metadata": {},
   "source": [
    "## 스태킹"
   ]
  },
  {
   "cell_type": "code",
   "execution_count": 54,
   "id": "40fc513e",
   "metadata": {},
   "outputs": [],
   "source": [
    "x = torch.FloatTensor([1, 4])\n",
    "y = torch.FloatTensor([2, 5])\n",
    "z = torch.FloatTensor([3, 6])"
   ]
  },
  {
   "cell_type": "code",
   "execution_count": 62,
   "id": "70044fe2",
   "metadata": {},
   "outputs": [
    {
     "name": "stdout",
     "output_type": "stream",
     "text": [
      "tensor([[1., 4.],\n",
      "        [2., 5.],\n",
      "        [3., 6.]])\n",
      "tensor([[1., 2., 3.],\n",
      "        [4., 5., 6.]])\n"
     ]
    }
   ],
   "source": [
    "print(torch.stack([x, y, z]))\n",
    "print(torch.stack([x, y, z],dim=1))"
   ]
  },
  {
   "cell_type": "code",
   "execution_count": 61,
   "id": "7e8a55cb",
   "metadata": {},
   "outputs": [
    {
     "name": "stdout",
     "output_type": "stream",
     "text": [
      "tensor([[1., 4.],\n",
      "        [2., 5.],\n",
      "        [3., 6.]])\n",
      "tensor([1., 4., 2., 5., 3., 6.])\n"
     ]
    }
   ],
   "source": [
    "# 스태킹과 같은 작업 - 차원 변경후 연결\n",
    "print(torch.cat([x.unsqueeze(0), y.unsqueeze(0), z.unsqueeze(0)], dim=0))\n",
    "\n",
    "# 단순 연결하였을 떄, 구조가 다름   X,Y,Z 는 1차원 벡터이기 떄문\n",
    "print(torch.cat([x, y, z], dim=0))"
   ]
  }
 ],
 "metadata": {
  "kernelspec": {
   "display_name": "torch",
   "language": "python",
   "name": "torch"
  },
  "language_info": {
   "codemirror_mode": {
    "name": "ipython",
    "version": 3
   },
   "file_extension": ".py",
   "mimetype": "text/x-python",
   "name": "python",
   "nbconvert_exporter": "python",
   "pygments_lexer": "ipython3",
   "version": "3.8.17"
  }
 },
 "nbformat": 4,
 "nbformat_minor": 5
}
