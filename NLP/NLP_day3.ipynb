{
  "nbformat": 4,
  "nbformat_minor": 0,
  "metadata": {
    "colab": {
      "private_outputs": true,
      "provenance": []
    },
    "kernelspec": {
      "name": "python3",
      "display_name": "Python 3"
    },
    "language_info": {
      "name": "python"
    }
  },
  "cells": [
    {
      "cell_type": "code",
      "execution_count": null,
      "metadata": {
        "id": "IXlNVFmVaxuM"
      },
      "outputs": [],
      "source": [
        "\"\"\"\n",
        "keras.io\n",
        "인공신경망\n",
        "-입력:3차원, 출력:2차원\n",
        "\"\"\"\n",
        "from tensorflow.keras.models import Sequential\n",
        "from tensorflow.keras.layers import Dense, Embedding, SimpleRNN\n",
        "from tensorflow.keras.preprocessing.text import Tokenizer\n",
        "from tensorflow.keras.preprocessing.sequence import pad_sequences\n",
        "\n",
        "\n",
        "\n",
        "#framework"
      ]
    },
    {
      "cell_type": "code",
      "source": [
        "model=Sequential()"
      ],
      "metadata": {
        "id": "RjxR2jYtZO74"
      },
      "execution_count": null,
      "outputs": []
    },
    {
      "cell_type": "code",
      "source": [
        "model.add(Dense(2, input_dim=3, activation=\"softmax\"))\n",
        "#    (출력차원, input_dim=입력차원, activation=활성화함수명)"
      ],
      "metadata": {
        "id": "LwMVrqZQZ_AI"
      },
      "execution_count": null,
      "outputs": []
    },
    {
      "cell_type": "code",
      "source": [
        "model.summary()"
      ],
      "metadata": {
        "id": "kVxLmWSaarO3"
      },
      "execution_count": null,
      "outputs": []
    },
    {
      "cell_type": "code",
      "source": [
        "#입력, 히든계층은 주로 활성화 함수로 relu가 사용\n",
        "#입력:4차원, 출력:8차원\n",
        "model=Sequential()\n",
        "model.add(Dense(8, input_dim=4, activation='relu')) #leaky relu\n",
        "model.add(Dense(6, activation='relu')) #leaky relu\n",
        "model.add(Dense(3, activation='softmax'))\n",
        "model.summary()\n",
        "\n"
      ],
      "metadata": {
        "id": "-sxmNbTcbCiX"
      },
      "execution_count": null,
      "outputs": []
    },
    {
      "cell_type": "code",
      "source": [
        "tok=Tokenizer()"
      ],
      "metadata": {
        "id": "K6HLwLgqe8hO"
      },
      "execution_count": null,
      "outputs": []
    },
    {
      "cell_type": "code",
      "source": [
        "train=\"Can I look around?\""
      ],
      "metadata": {
        "id": "D94iNRLphd0N"
      },
      "execution_count": null,
      "outputs": []
    },
    {
      "cell_type": "code",
      "source": [
        "tok.fit_on_texts([train]) #Voc 생성"
      ],
      "metadata": {
        "id": "QqzPy8YfhuSd"
      },
      "execution_count": null,
      "outputs": []
    },
    {
      "cell_type": "code",
      "source": [
        "tok.index_word\n",
        "#tok.word_index"
      ],
      "metadata": {
        "id": "cPxWwpnxiBB1"
      },
      "execution_count": null,
      "outputs": []
    },
    {
      "cell_type": "code",
      "source": [
        "#새로운 문장을 인코딩\n",
        "text=\"Can I look at my phone after lasik\""
      ],
      "metadata": {
        "id": "rwyGYitaiSEj"
      },
      "execution_count": null,
      "outputs": []
    },
    {
      "cell_type": "code",
      "source": [
        "seq=tok.texts_to_sequences([text])[0]\n",
        "seq"
      ],
      "metadata": {
        "id": "w5fK_NOjizVb"
      },
      "execution_count": null,
      "outputs": []
    },
    {
      "cell_type": "code",
      "source": [
        "pad_sequences([[1,2,3],[2,3],[3,4,5,6]], maxlen=3)\n",
        "pad_sequences([[1,2,3],[2,3],[3,4,5,6]], maxlen=3, padding='pre')"
      ],
      "metadata": {
        "id": "58zGomfTjWat"
      },
      "execution_count": null,
      "outputs": []
    },
    {
      "cell_type": "code",
      "source": [
        "\"\"\"\n",
        "원핫인코딩:메모리 많이 차지, 대부분 0, 1또는0\n",
        "임베딩벡터:적게 차지, 실수\n",
        "\n",
        "ex) 1만차원 원핫벡터 -> 10차원 임베딩벡터\n",
        "model.add(Embedding(1만(vocab_size),10(output_dim), 3(입력길이)))\n",
        "\n",
        "\"\"\""
      ],
      "metadata": {
        "id": "EbuXBmjnnu-5"
      },
      "execution_count": null,
      "outputs": []
    },
    {
      "cell_type": "code",
      "source": [
        "matplotlib.org"
      ],
      "metadata": {
        "id": "u6QiRFh6snwi"
      },
      "execution_count": null,
      "outputs": []
    },
    {
      "cell_type": "code",
      "source": [
        "import pandas as pd\n",
        "from sklearn.datasets import fetch_20newsgroups\n",
        "import matplotlib.pyplot as plt\n",
        "from tensorflow.keras.utils import to_categorical"
      ],
      "metadata": {
        "id": "4K8ZniXIsKai"
      },
      "execution_count": null,
      "outputs": []
    },
    {
      "cell_type": "code",
      "source": [
        "plotly.com\n",
        "matplotlib.org\n",
        "tableau.com\n",
        "folium.org\n",
        "seaborn, pandas"
      ],
      "metadata": {
        "id": "N5jlJkAysuHJ"
      },
      "execution_count": null,
      "outputs": []
    },
    {
      "cell_type": "code",
      "source": [
        "news=fetch_20newsgroups(subset='train')"
      ],
      "metadata": {
        "id": "mnYajQP2suq6"
      },
      "execution_count": null,
      "outputs": []
    },
    {
      "cell_type": "code",
      "source": [
        "news"
      ],
      "metadata": {
        "id": "NoxQyxoDuNWo"
      },
      "execution_count": null,
      "outputs": []
    },
    {
      "cell_type": "code",
      "source": [
        "news.keys() #dict_keys(['data', 'filenames', 'target_names', 'target', 'DESCR'])"
      ],
      "metadata": {
        "id": "oiLoX4ImuO0Y"
      },
      "execution_count": null,
      "outputs": []
    },
    {
      "cell_type": "code",
      "source": [
        "len(news.data) #11314"
      ],
      "metadata": {
        "id": "b3J_G3O7umXo"
      },
      "execution_count": null,
      "outputs": []
    },
    {
      "cell_type": "code",
      "source": [
        "len(news.target_names) #뉴스 카테고리 이름들"
      ],
      "metadata": {
        "id": "LrZa72yiu64Q"
      },
      "execution_count": null,
      "outputs": []
    },
    {
      "cell_type": "code",
      "source": [
        "#11314개의 뉴스기사, 20개의 뉴스 카테고리\n",
        "news.data[9]"
      ],
      "metadata": {
        "id": "5VnawaTKvL2G"
      },
      "execution_count": null,
      "outputs": []
    },
    {
      "cell_type": "code",
      "source": [
        "news.target[9] #4번 카테고리, 'comp.sys.mac.hardware',\n",
        "news.target_names\n",
        "news.target_names[4]"
      ],
      "metadata": {
        "id": "d_U3YGFA0n5w"
      },
      "execution_count": null,
      "outputs": []
    },
    {
      "cell_type": "code",
      "source": [
        "https://datascienceschool.net/"
      ],
      "metadata": {
        "id": "asG_xd260zZu"
      },
      "execution_count": null,
      "outputs": []
    },
    {
      "cell_type": "code",
      "source": [
        "news.data\n",
        "#1. From: 부터 Subject: 사이에는 이메일 주소가 있음. ex)lerxst@wam.umd.edu\n",
        "#이메일 주소를 추출하시오. str.extract(정규표현식) => 정규표현식에\n",
        "#부합되는 문자열을 추출\n",
        "\n",
        "#뉴스기사.split(\"From: \")[1].split(\"(\")[0]\n",
        "#\"From: lerxst@wam.umd.edu (where is my thing)\\nSubject: WHAT\".split(\"From: \")[1].split(\" (\")[0]"
      ],
      "metadata": {
        "id": "c1y6MFvY2Xc-"
      },
      "execution_count": null,
      "outputs": []
    },
    {
      "cell_type": "code",
      "source": [
        "news.target"
      ],
      "metadata": {
        "id": "Q8FOL3ja42YG"
      },
      "execution_count": null,
      "outputs": []
    },
    {
      "cell_type": "code",
      "source": [
        "df=pd.DataFrame(news.data, columns=['article'])\n",
        "df\n",
        "df['target']=news.target"
      ],
      "metadata": {
        "id": "tLZak6a74fbO"
      },
      "execution_count": null,
      "outputs": []
    },
    {
      "cell_type": "code",
      "source": [
        "df"
      ],
      "metadata": {
        "id": "zM-swv3g5IlW"
      },
      "execution_count": null,
      "outputs": []
    },
    {
      "cell_type": "code",
      "source": [
        "df.info()"
      ],
      "metadata": {
        "id": "uIsMH9Up5aO9"
      },
      "execution_count": null,
      "outputs": []
    },
    {
      "cell_type": "code",
      "source": [
        "df['target'].value_counts().plot(kind='bar')"
      ],
      "metadata": {
        "id": "AKRQe6Vq5i4d"
      },
      "execution_count": null,
      "outputs": []
    },
    {
      "cell_type": "code",
      "source": [
        "test=fetch_20newsgroups(subset='test', shuffle=True)"
      ],
      "metadata": {
        "id": "6xGz0fUS6BUV"
      },
      "execution_count": null,
      "outputs": []
    },
    {
      "cell_type": "code",
      "source": [
        "len(test) #5\n",
        "len(test.data) #7532"
      ],
      "metadata": {
        "id": "FGczuKG46Oxs"
      },
      "execution_count": null,
      "outputs": []
    },
    {
      "cell_type": "code",
      "source": [
        "train_article=df['article']\n",
        "train_target=df['target']"
      ],
      "metadata": {
        "id": "uhlmyDPm6QpM"
      },
      "execution_count": null,
      "outputs": []
    },
    {
      "cell_type": "code",
      "source": [
        "test_article=test.data\n",
        "test_target=test.target"
      ],
      "metadata": {
        "id": "Yurcgl9m657H"
      },
      "execution_count": null,
      "outputs": []
    },
    {
      "cell_type": "code",
      "source": [
        "len(test_article)\n",
        "len(test_target)"
      ],
      "metadata": {
        "id": "D2sEcgCK7P7W"
      },
      "execution_count": null,
      "outputs": []
    },
    {
      "cell_type": "code",
      "source": [
        "def pre_processing_data(trainData, testData, ty):#(트레인,테스트,유형분류)\n",
        "    tok=Tokenizer(num_words=10000)\n",
        "    tok.fit_on_texts(trainData)\n",
        "    xtrain=tok.texts_to_matrix(trainData, mode=ty)\n",
        "    xtest=tok.texts_to_matrix(testData, mode=ty)\n",
        "    return xtrain, xtest, tok.index_word"
      ],
      "metadata": {
        "id": "LgC-l9kp7UHf"
      },
      "execution_count": null,
      "outputs": []
    },
    {
      "cell_type": "code",
      "source": [
        "xtrain, xtest,indexWord=pre_processing_data(train_article, test_article, \"binary\")"
      ],
      "metadata": {
        "id": "icYba_C28B7O"
      },
      "execution_count": null,
      "outputs": []
    },
    {
      "cell_type": "code",
      "source": [],
      "metadata": {
        "id": "brrZcKaGCaF1"
      },
      "execution_count": null,
      "outputs": []
    }
  ]
}