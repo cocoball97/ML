{
 "cells": [
  {
   "cell_type": "code",
   "execution_count": null,
   "id": "fdee8d18",
   "metadata": {},
   "outputs": [],
   "source": [
    "# Gradio : 인공지능 및 머신러닝 모델을 쉽게 웹 인터페이스로 변환해주는 라이브러리"
   ]
  },
  {
   "cell_type": "code",
   "execution_count": 17,
   "id": "ee597dd5",
   "metadata": {
    "collapsed": true
   },
   "outputs": [
    {
     "name": "stdout",
     "output_type": "stream",
     "text": [
      "Requirement already satisfied: gradio in c:\\users\\administrator\\anaconda3\\envs\\tf\\lib\\site-packages (3.39.0)Note: you may need to restart the kernel to use updated packages.\n"
     ]
    },
    {
     "name": "stderr",
     "output_type": "stream",
     "text": [
      "WARNING: Ignoring invalid distribution -illow (c:\\users\\administrator\\anaconda3\\envs\\tf\\lib\\site-packages)\n",
      "WARNING: Ignoring invalid distribution -illow (c:\\users\\administrator\\anaconda3\\envs\\tf\\lib\\site-packages)\n"
     ]
    },
    {
     "name": "stdout",
     "output_type": "stream",
     "text": [
      "\n",
      "Requirement already satisfied: aiofiles<24.0,>=22.0 in c:\\users\\administrator\\anaconda3\\envs\\tf\\lib\\site-packages (from gradio) (23.1.0)\n",
      "Requirement already satisfied: aiohttp~=3.0 in c:\\users\\administrator\\anaconda3\\envs\\tf\\lib\\site-packages (from gradio) (3.8.5)\n",
      "Requirement already satisfied: altair<6.0,>=4.2.0 in c:\\users\\administrator\\anaconda3\\envs\\tf\\lib\\site-packages (from gradio) (5.0.1)\n",
      "Requirement already satisfied: fastapi in c:\\users\\administrator\\anaconda3\\envs\\tf\\lib\\site-packages (from gradio) (0.100.1)\n",
      "Requirement already satisfied: ffmpy in c:\\users\\administrator\\anaconda3\\envs\\tf\\lib\\site-packages (from gradio) (0.3.1)\n",
      "Requirement already satisfied: gradio-client>=0.3.0 in c:\\users\\administrator\\anaconda3\\envs\\tf\\lib\\site-packages (from gradio) (0.3.0)\n",
      "Requirement already satisfied: httpx in c:\\users\\administrator\\anaconda3\\envs\\tf\\lib\\site-packages (from gradio) (0.24.1)\n",
      "Requirement already satisfied: huggingface-hub>=0.14.0 in c:\\users\\administrator\\anaconda3\\envs\\tf\\lib\\site-packages (from gradio) (0.16.4)\n",
      "Requirement already satisfied: jinja2<4.0 in c:\\users\\administrator\\anaconda3\\envs\\tf\\lib\\site-packages (from gradio) (3.1.2)\n",
      "Requirement already satisfied: markdown-it-py[linkify]>=2.0.0 in c:\\users\\administrator\\anaconda3\\envs\\tf\\lib\\site-packages (from gradio) (2.2.0)\n",
      "Requirement already satisfied: markupsafe~=2.0 in c:\\users\\administrator\\anaconda3\\envs\\tf\\lib\\site-packages (from gradio) (2.1.3)\n",
      "Requirement already satisfied: matplotlib~=3.0 in c:\\users\\administrator\\anaconda3\\envs\\tf\\lib\\site-packages (from gradio) (3.7.1)\n",
      "Requirement already satisfied: mdit-py-plugins<=0.3.3 in c:\\users\\administrator\\anaconda3\\envs\\tf\\lib\\site-packages (from gradio) (0.3.3)\n",
      "Requirement already satisfied: numpy~=1.0 in c:\\users\\administrator\\appdata\\roaming\\python\\python39\\site-packages (from gradio) (1.25.1)\n",
      "Requirement already satisfied: orjson~=3.0 in c:\\users\\administrator\\anaconda3\\envs\\tf\\lib\\site-packages (from gradio) (3.9.2)\n",
      "Requirement already satisfied: packaging in c:\\users\\administrator\\appdata\\roaming\\python\\python39\\site-packages (from gradio) (23.1)\n",
      "Requirement already satisfied: pandas<3.0,>=1.0 in c:\\users\\administrator\\anaconda3\\envs\\tf\\lib\\site-packages (from gradio) (2.0.2)\n",
      "Requirement already satisfied: pillow<11.0,>=8.0 in c:\\users\\administrator\\appdata\\roaming\\python\\python39\\site-packages (from gradio) (10.0.0)\n",
      "Requirement already satisfied: pydantic!=1.8,!=1.8.1,!=2.0.0,!=2.0.1,<3.0.0,>=1.7.4 in c:\\users\\administrator\\anaconda3\\envs\\tf\\lib\\site-packages (from gradio) (2.1.1)\n",
      "Requirement already satisfied: pydub in c:\\users\\administrator\\anaconda3\\envs\\tf\\lib\\site-packages (from gradio) (0.25.1)\n",
      "Requirement already satisfied: python-multipart in c:\\users\\administrator\\anaconda3\\envs\\tf\\lib\\site-packages (from gradio) (0.0.6)\n",
      "Requirement already satisfied: pyyaml<7.0,>=5.0 in c:\\users\\administrator\\anaconda3\\envs\\tf\\lib\\site-packages (from gradio) (6.0)\n",
      "Requirement already satisfied: requests~=2.0 in c:\\users\\administrator\\anaconda3\\envs\\tf\\lib\\site-packages (from gradio) (2.31.0)\n",
      "Requirement already satisfied: semantic-version~=2.0 in c:\\users\\administrator\\anaconda3\\envs\\tf\\lib\\site-packages (from gradio) (2.10.0)\n",
      "Requirement already satisfied: typing-extensions~=4.0 in c:\\users\\administrator\\appdata\\roaming\\python\\python39\\site-packages (from gradio) (4.7.1)\n",
      "Requirement already satisfied: uvicorn>=0.14.0 in c:\\users\\administrator\\anaconda3\\envs\\tf\\lib\\site-packages (from gradio) (0.23.2)\n",
      "Requirement already satisfied: websockets<12.0,>=10.0 in c:\\users\\administrator\\anaconda3\\envs\\tf\\lib\\site-packages (from gradio) (11.0.3)\n",
      "Requirement already satisfied: attrs>=17.3.0 in c:\\users\\administrator\\anaconda3\\envs\\tf\\lib\\site-packages (from aiohttp~=3.0->gradio) (23.1.0)\n",
      "Requirement already satisfied: charset-normalizer<4.0,>=2.0 in c:\\users\\administrator\\anaconda3\\envs\\tf\\lib\\site-packages (from aiohttp~=3.0->gradio) (3.1.0)\n",
      "Requirement already satisfied: multidict<7.0,>=4.5 in c:\\users\\administrator\\anaconda3\\envs\\tf\\lib\\site-packages (from aiohttp~=3.0->gradio) (6.0.4)\n",
      "Requirement already satisfied: async-timeout<5.0,>=4.0.0a3 in c:\\users\\administrator\\anaconda3\\envs\\tf\\lib\\site-packages (from aiohttp~=3.0->gradio) (4.0.2)\n",
      "Requirement already satisfied: yarl<2.0,>=1.0 in c:\\users\\administrator\\anaconda3\\envs\\tf\\lib\\site-packages (from aiohttp~=3.0->gradio) (1.9.2)\n",
      "Requirement already satisfied: frozenlist>=1.1.1 in c:\\users\\administrator\\anaconda3\\envs\\tf\\lib\\site-packages (from aiohttp~=3.0->gradio) (1.4.0)\n",
      "Requirement already satisfied: aiosignal>=1.1.2 in c:\\users\\administrator\\anaconda3\\envs\\tf\\lib\\site-packages (from aiohttp~=3.0->gradio) (1.3.1)\n",
      "Requirement already satisfied: jsonschema>=3.0 in c:\\users\\administrator\\anaconda3\\envs\\tf\\lib\\site-packages (from altair<6.0,>=4.2.0->gradio) (4.17.3)\n",
      "Requirement already satisfied: toolz in c:\\users\\administrator\\anaconda3\\envs\\tf\\lib\\site-packages (from altair<6.0,>=4.2.0->gradio) (0.12.0)\n",
      "Requirement already satisfied: fsspec in c:\\users\\administrator\\anaconda3\\envs\\tf\\lib\\site-packages (from gradio-client>=0.3.0->gradio) (2023.6.0)\n",
      "Requirement already satisfied: filelock in c:\\users\\administrator\\appdata\\roaming\\python\\python39\\site-packages (from huggingface-hub>=0.14.0->gradio) (3.12.2)\n",
      "Requirement already satisfied: tqdm>=4.42.1 in c:\\users\\administrator\\appdata\\roaming\\python\\python39\\site-packages (from huggingface-hub>=0.14.0->gradio) (4.65.0)\n",
      "Requirement already satisfied: mdurl~=0.1 in c:\\users\\administrator\\anaconda3\\envs\\tf\\lib\\site-packages (from markdown-it-py[linkify]>=2.0.0->gradio) (0.1.2)\n",
      "Requirement already satisfied: linkify-it-py<3,>=1 in c:\\users\\administrator\\anaconda3\\envs\\tf\\lib\\site-packages (from markdown-it-py[linkify]>=2.0.0->gradio) (2.0.2)\n",
      "Requirement already satisfied: contourpy>=1.0.1 in c:\\users\\administrator\\anaconda3\\envs\\tf\\lib\\site-packages (from matplotlib~=3.0->gradio) (1.1.0)\n",
      "Requirement already satisfied: cycler>=0.10 in c:\\users\\administrator\\anaconda3\\envs\\tf\\lib\\site-packages (from matplotlib~=3.0->gradio) (0.11.0)\n",
      "Requirement already satisfied: fonttools>=4.22.0 in c:\\users\\administrator\\anaconda3\\envs\\tf\\lib\\site-packages (from matplotlib~=3.0->gradio) (4.40.0)\n",
      "Requirement already satisfied: kiwisolver>=1.0.1 in c:\\users\\administrator\\appdata\\roaming\\python\\python39\\site-packages (from matplotlib~=3.0->gradio) (1.4.4)\n",
      "Requirement already satisfied: pyparsing>=2.3.1 in c:\\users\\administrator\\appdata\\roaming\\python\\python39\\site-packages (from matplotlib~=3.0->gradio) (3.0.9)\n",
      "Requirement already satisfied: python-dateutil>=2.7 in c:\\users\\administrator\\appdata\\roaming\\python\\python39\\site-packages (from matplotlib~=3.0->gradio) (2.8.2)\n",
      "Requirement already satisfied: importlib-resources>=3.2.0 in c:\\users\\administrator\\appdata\\roaming\\python\\python39\\site-packages (from matplotlib~=3.0->gradio) (6.0.0)\n",
      "Requirement already satisfied: pytz>=2020.1 in c:\\users\\administrator\\appdata\\roaming\\python\\python39\\site-packages (from pandas<3.0,>=1.0->gradio) (2023.3)\n",
      "Requirement already satisfied: tzdata>=2022.1 in c:\\users\\administrator\\appdata\\roaming\\python\\python39\\site-packages (from pandas<3.0,>=1.0->gradio) (2023.3)\n",
      "Requirement already satisfied: annotated-types>=0.4.0 in c:\\users\\administrator\\anaconda3\\envs\\tf\\lib\\site-packages (from pydantic!=1.8,!=1.8.1,!=2.0.0,!=2.0.1,<3.0.0,>=1.7.4->gradio) (0.5.0)\n",
      "Requirement already satisfied: pydantic-core==2.4.0 in c:\\users\\administrator\\anaconda3\\envs\\tf\\lib\\site-packages (from pydantic!=1.8,!=1.8.1,!=2.0.0,!=2.0.1,<3.0.0,>=1.7.4->gradio) (2.4.0)\n",
      "Requirement already satisfied: idna<4,>=2.5 in c:\\users\\administrator\\anaconda3\\envs\\tf\\lib\\site-packages (from requests~=2.0->gradio) (3.4)\n",
      "Requirement already satisfied: urllib3<3,>=1.21.1 in c:\\users\\administrator\\anaconda3\\envs\\tf\\lib\\site-packages (from requests~=2.0->gradio) (1.26.16)\n",
      "Requirement already satisfied: certifi>=2017.4.17 in c:\\users\\administrator\\anaconda3\\envs\\tf\\lib\\site-packages (from requests~=2.0->gradio) (2023.5.7)\n",
      "Requirement already satisfied: click>=7.0 in c:\\users\\administrator\\appdata\\roaming\\python\\python39\\site-packages (from uvicorn>=0.14.0->gradio) (8.1.5)\n",
      "Requirement already satisfied: h11>=0.8 in c:\\users\\administrator\\anaconda3\\envs\\tf\\lib\\site-packages (from uvicorn>=0.14.0->gradio) (0.14.0)\n",
      "Requirement already satisfied: starlette<0.28.0,>=0.27.0 in c:\\users\\administrator\\anaconda3\\envs\\tf\\lib\\site-packages (from fastapi->gradio) (0.27.0)\n",
      "Requirement already satisfied: httpcore<0.18.0,>=0.15.0 in c:\\users\\administrator\\anaconda3\\envs\\tf\\lib\\site-packages (from httpx->gradio) (0.17.3)\n",
      "Requirement already satisfied: sniffio in c:\\users\\administrator\\appdata\\roaming\\python\\python39\\site-packages (from httpx->gradio) (1.3.0)\n",
      "Requirement already satisfied: colorama in c:\\users\\administrator\\anaconda3\\envs\\tf\\lib\\site-packages (from click>=7.0->uvicorn>=0.14.0->gradio) (0.4.6)\n",
      "Requirement already satisfied: anyio<5.0,>=3.0 in c:\\users\\administrator\\anaconda3\\envs\\tf\\lib\\site-packages (from httpcore<0.18.0,>=0.15.0->httpx->gradio) (3.7.0)\n",
      "Requirement already satisfied: zipp>=3.1.0 in c:\\users\\administrator\\appdata\\roaming\\python\\python39\\site-packages (from importlib-resources>=3.2.0->matplotlib~=3.0->gradio) (3.16.2)\n",
      "Requirement already satisfied: pyrsistent!=0.17.0,!=0.17.1,!=0.17.2,>=0.14.0 in c:\\users\\administrator\\anaconda3\\envs\\tf\\lib\\site-packages (from jsonschema>=3.0->altair<6.0,>=4.2.0->gradio) (0.19.3)\n",
      "Requirement already satisfied: uc-micro-py in c:\\users\\administrator\\anaconda3\\envs\\tf\\lib\\site-packages (from linkify-it-py<3,>=1->markdown-it-py[linkify]>=2.0.0->gradio) (1.0.2)\n",
      "Requirement already satisfied: six>=1.5 in c:\\users\\administrator\\anaconda3\\envs\\tf\\lib\\site-packages (from python-dateutil>=2.7->matplotlib~=3.0->gradio) (1.16.0)\n",
      "Requirement already satisfied: exceptiongroup in c:\\users\\administrator\\appdata\\roaming\\python\\python39\\site-packages (from anyio<5.0,>=3.0->httpcore<0.18.0,>=0.15.0->httpx->gradio) (1.1.2)\n"
     ]
    }
   ],
   "source": [
    "pip install gradio"
   ]
  },
  {
   "cell_type": "code",
   "execution_count": 19,
   "id": "16311694",
   "metadata": {},
   "outputs": [
    {
     "name": "stdout",
     "output_type": "stream",
     "text": [
      "Running on local URL:  http://127.0.0.1:7869\n",
      "\n",
      "To create a public link, set `share=True` in `launch()`.\n"
     ]
    },
    {
     "data": {
      "text/html": [
       "<div><iframe src=\"http://127.0.0.1:7869/\" width=\"100%\" height=\"500\" allow=\"autoplay; camera; microphone; clipboard-read; clipboard-write;\" frameborder=\"0\" allowfullscreen></iframe></div>"
      ],
      "text/plain": [
       "<IPython.core.display.HTML object>"
      ]
     },
     "metadata": {},
     "output_type": "display_data"
    },
    {
     "data": {
      "text/plain": []
     },
     "execution_count": 19,
     "metadata": {},
     "output_type": "execute_result"
    }
   ],
   "source": [
    "# 맨 앞에 안녕이라는 말 추가하기\n",
    "\n",
    "import gradio as gr  # 그라디오 라이브러리를 불러옵니다.\n",
    "\n",
    "def greet(name):  # 인사말 함수를 정의합니다. 이 함수는 이름을 매개변수로 받아 \"안녕! \" 이라는 문자열을 붙여 반환합니다.\n",
    "    return \"안녕! \" + name  \n",
    "\n",
    "demo = gr.Interface(\n",
    "    fn=greet,  # 인터페이스를 실행할 때 호출할 함수를 지정합니다. 이 함수의 인자로 inputs로 정의된 내용이 입력되고, 함수의 출력이 outputs에 표시됩니다.\n",
    "    inputs=\"text\",  # 텍스트 입력 창을 설정합니다.\n",
    "    outputs=\"text\"  # 텍스트 출력 창을 설정합니다.\n",
    ")\n",
    "\n",
    "demo.launch()  # 그라디오 인터페이스를 실행합니다. 실행하면 사용자는 텍스트 입력창에 이름을 입력할 수 있고, 그 결과 \"안녕! \" + 입력한 이름 이라는 출력을 볼 수 있습니다."
   ]
  },
  {
   "cell_type": "code",
   "execution_count": 6,
   "id": "8d68abc0",
   "metadata": {},
   "outputs": [],
   "source": [
    "# 교수님 코드"
   ]
  },
  {
   "cell_type": "code",
   "execution_count": 22,
   "id": "9ce16a36",
   "metadata": {},
   "outputs": [
    {
     "name": "stdout",
     "output_type": "stream",
     "text": [
      "Running on local URL:  http://127.0.0.1:7872\n",
      "\n",
      "To create a public link, set `share=True` in `launch()`.\n"
     ]
    },
    {
     "data": {
      "text/html": [
       "<div><iframe src=\"http://127.0.0.1:7872/\" width=\"100%\" height=\"500\" allow=\"autoplay; camera; microphone; clipboard-read; clipboard-write;\" frameborder=\"0\" allowfullscreen></iframe></div>"
      ],
      "text/plain": [
       "<IPython.core.display.HTML object>"
      ]
     },
     "metadata": {},
     "output_type": "display_data"
    },
    {
     "data": {
      "text/plain": []
     },
     "execution_count": 22,
     "metadata": {},
     "output_type": "execute_result"
    }
   ],
   "source": [
    "import gradio as gr  # 그라디오 라이브러리를 불러옵니다.\n",
    "import random  # 무작위 선택을 위한 라이브러리를 불러옵니다.\n",
    "import time  # 시간 지연을 위한 라이브러리를 불러옵니다.\n",
    "\n",
    "def respond(message, chat_history):  # 채팅봇의 응답을 처리하는 함수를 정의합니다.\n",
    "    bot_message = random.choice([\"어떻게 지내세요?\", \"좋아해요\", \"배고파요\"])  # 미리 정의된 응답 중 하나를 무작위로 선택합니다.\n",
    "    chat_history.append((message, bot_message))  # 채팅 기록에 사용자의 메시지와 봇의 응답을 추가합니다.\n",
    "    time.sleep(1)  # 응답 간의 시간 지연을 생성합니다. 이는 봇이 실시간으로 답변하고 있는 것처럼 보이게 합니다.\n",
    "    return \"\", chat_history  # 수정된 채팅 기록을 반환합니다.  #출력값에 빈칸 입력 (입력 후 지워짐)\n",
    "\n",
    "with gr.Blocks() as demo:  # gr.Blocks()를 사용하여 인터페이스를 생성합니다. Blocks : 구분공간\n",
    "    chatbot = gr.Chatbot(label=\"채팅창\")  # '채팅창'이라는 레이블을 가진 채팅봇 컴포넌트를 생성합니다.\n",
    "    msg = gr.Textbox(label=\"입력\")  # '입력'이라는 레이블을 가진 텍스트박스를 생성합니다.\n",
    "    \n",
    "    # 첫번째 msg 는 연결시켜주는 객체\n",
    "    msg.submit(respond, [msg, chatbot], [msg, chatbot])  # 텍스트박스에 메시지를 입력하고 제출하면 respond 함수가 호출되도록 합니다.\n",
    "\n",
    "demo.launch()  # 인터페이스를 실행합니다. 실행하면 사용자는 '입력' 텍스트박스에 메시지를 작성하고 제출할 수 있으며, '초기화' 버튼을 통해 채팅 기록을 초기화 할 수 있습니다."
   ]
  },
  {
   "cell_type": "code",
   "execution_count": 21,
   "id": "0af823fa",
   "metadata": {},
   "outputs": [
    {
     "name": "stdout",
     "output_type": "stream",
     "text": [
      "Running on local URL:  http://127.0.0.1:7871\n",
      "\n",
      "To create a public link, set `share=True` in `launch()`.\n"
     ]
    },
    {
     "data": {
      "text/html": [
       "<div><iframe src=\"http://127.0.0.1:7871/\" width=\"100%\" height=\"500\" allow=\"autoplay; camera; microphone; clipboard-read; clipboard-write;\" frameborder=\"0\" allowfullscreen></iframe></div>"
      ],
      "text/plain": [
       "<IPython.core.display.HTML object>"
      ]
     },
     "metadata": {},
     "output_type": "display_data"
    },
    {
     "data": {
      "text/plain": []
     },
     "execution_count": 21,
     "metadata": {},
     "output_type": "execute_result"
    }
   ],
   "source": [
    "import gradio as gr  # 그라디오 라이브러리를 불러옵니다.\n",
    "import random  # 무작위 선택을 위한 라이브러리를 불러옵니다.\n",
    "import time  # 시간 지연을 위한 라이브러리를 불러옵니다.\n",
    "\n",
    "def respond(message, chat_history):  # 채팅봇의 응답을 처리하는 함수를 정의합니다.\n",
    "    bot_message = random.choice([\"어떻게 지내세요?\", \"좋아해요\", \"배고파요\"])  # 미리 정의된 응답 중 하나를 무작위로 선택합니다.\n",
    "    chat_history.append((message, bot_message))  # 채팅 기록에 사용자의 메시지와 봇의 응답을 추가합니다.\n",
    "    time.sleep(1)  # 응답 간의 시간 지연을 생성합니다. 이는 봇이 실시간으로 답변하고 있는 것처럼 보이게 합니다.\n",
    "    return \"\", chat_history  # 수정된 채팅 기록을 반환합니다.\n",
    "\n",
    "with gr.Blocks() as demo:  # gr.Blocks()를 사용하여 인터페이스를 생성합니다.\n",
    "    chatbot = gr.Chatbot(label=\"채팅창\")  # '채팅창'이라는 레이블을 가진 채팅봇 컴포넌트를 생성합니다.\n",
    "    msg = gr.Textbox(label=\"입력\")  # '입력'이라는 레이블을 가진 텍스트박스를 생성합니다.\n",
    "    clear = gr.Button(\"초기화\")  # '초기화'라는 레이블을 가진 버튼을 생성합니다.\n",
    "\n",
    "    msg.submit(respond, [msg, chatbot], [msg, chatbot])  # 텍스트박스에 메시지를 입력하고 제출하면 respond 함수가 호출되도록 합니다.\n",
    "    clear.click(lambda: None, None, chatbot, queue=False)  # '초기화' 버튼을 클릭하면 채팅 기록을 초기화합니다.\n",
    "\n",
    "demo.launch()  # 인터페이스를 실행합니다. 실행하면 사용자는 '입력' 텍스트박스에 메시지를 작성하고 제출할 수 있으며, '초기화' 버튼을 통해 채팅 기록을 초기화 할 수 있습니다."
   ]
  }
 ],
 "metadata": {
  "kernelspec": {
   "display_name": "tf",
   "language": "python",
   "name": "tf"
  },
  "language_info": {
   "codemirror_mode": {
    "name": "ipython",
    "version": 3
   },
   "file_extension": ".py",
   "mimetype": "text/x-python",
   "name": "python",
   "nbconvert_exporter": "python",
   "pygments_lexer": "ipython3",
   "version": "3.9.16"
  }
 },
 "nbformat": 4,
 "nbformat_minor": 5
}
