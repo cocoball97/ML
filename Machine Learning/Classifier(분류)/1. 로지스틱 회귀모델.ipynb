{
 "cells": [
  {
   "cell_type": "markdown",
   "id": "240de490",
   "metadata": {},
   "source": [
    "# 로지스틱 회귀모델"
   ]
  },
  {
   "cell_type": "code",
   "execution_count": 37,
   "id": "240b83c7",
   "metadata": {},
   "outputs": [],
   "source": [
    "import pandas as pd\n",
    "import numpy as np \n",
    "import warnings\n",
    "warnings.filterwarnings('ignore')\n",
    "\n",
    "import matplotlib\n",
    "%matplotlib inline \n",
    "import matplotlib.pyplot as plt\n",
    "import seaborn as sns\n",
    "\n",
    "from sklearn.preprocessing import StandardScaler\n",
    "from sklearn.model_selection import train_test_split\n",
    "from statsmodels.api import Logit\n",
    "\n",
    "from sklearn.metrics import accuracy_score,f1_score\n",
    "from sklearn.metrics import confusion_matrix,classification_report"
   ]
  },
  {
   "cell_type": "code",
   "execution_count": 38,
   "id": "1c446abc",
   "metadata": {},
   "outputs": [],
   "source": [
    "plt.rcParams['font.family'] = 'Malgun Gothic'\n",
    "matplotlib.rc(\"axes\",unicode_minus = False) "
   ]
  },
  {
   "cell_type": "markdown",
   "id": "ac14957e",
   "metadata": {},
   "source": [
    "## Data Scaling 이전"
   ]
  },
  {
   "cell_type": "code",
   "execution_count": 39,
   "id": "42300078",
   "metadata": {},
   "outputs": [
    {
     "name": "stdout",
     "output_type": "stream",
     "text": [
      "train data size: (2623, 13)\n",
      "train data size: (1125, 13)\n"
     ]
    }
   ],
   "source": [
    "df_raw = pd.read_csv(\"./실습화일/2. Big Data 분석/HMEQ.csv\", encoding='euc-kr')\n",
    "\n",
    "df_raw['JOB'].fillna('Other', inplace = True)\n",
    "df_raw.fillna(df_raw.mean(), inplace = True)\n",
    "\n",
    "df_train,df_test = train_test_split(df_raw, test_size =0.3, random_state=1234)\n",
    "print('train data size: {}'.format(df_train.shape))\n",
    "print('train data size: {}'.format(df_test.shape))"
   ]
  },
  {
   "cell_type": "code",
   "execution_count": 40,
   "id": "e12cd9da",
   "metadata": {
    "scrolled": false
   },
   "outputs": [
    {
     "name": "stdout",
     "output_type": "stream",
     "text": [
      "Optimization terminated successfully.\n",
      "         Current function value: 0.237614\n",
      "         Iterations 8\n",
      "                           Logit Regression Results                           \n",
      "==============================================================================\n",
      "Dep. Variable:                    BAD   No. Observations:                 2623\n",
      "Model:                          Logit   Df Residuals:                     2606\n",
      "Method:                           MLE   Df Model:                           16\n",
      "Date:                Fri, 14 Jul 2023   Pseudo R-squ.:                  0.2257\n",
      "Time:                        22:31:44   Log-Likelihood:                -623.26\n",
      "converged:                       True   LL-Null:                       -804.91\n",
      "Covariance Type:            nonrobust   LLR p-value:                 1.743e-67\n",
      "========================================================================================\n",
      "                           coef    std err          z      P>|z|      [0.025      0.975]\n",
      "----------------------------------------------------------------------------------------\n",
      "Intercept               -5.0942      0.560     -9.100      0.000      -6.191      -3.997\n",
      "C(REASON)[T.HomeImp]    -0.0080      0.176     -0.045      0.964      -0.354       0.338\n",
      "C(JOB)[T.Office]        -0.8256      0.294     -2.807      0.005      -1.402      -0.249\n",
      "C(JOB)[T.Other]         -0.3304      0.227     -1.454      0.146      -0.776       0.115\n",
      "C(JOB)[T.ProfExe]       -0.4247      0.271     -1.566      0.117      -0.956       0.107\n",
      "C(JOB)[T.Sales]          1.1323      0.476      2.381      0.017       0.200       2.064\n",
      "C(JOB)[T.Self]          -0.0454      0.432     -0.105      0.916      -0.892       0.801\n",
      "LOAN                 -1.223e-05   8.08e-06     -1.514      0.130   -2.81e-05     3.6e-06\n",
      "MORTDUE               -2.14e-06   3.57e-06     -0.599      0.549   -9.15e-06    4.87e-06\n",
      "VALUE                 3.061e-06   3.04e-06      1.008      0.313   -2.89e-06    9.01e-06\n",
      "YOJ                     -0.0053      0.012     -0.461      0.645      -0.028       0.017\n",
      "DEROG                    0.6221      0.103      6.043      0.000       0.420       0.824\n",
      "DELINQ                   0.7456      0.077      9.648      0.000       0.594       0.897\n",
      "CLAGE                   -0.0050      0.001     -4.320      0.000      -0.007      -0.003\n",
      "NINQ                     0.0939      0.044      2.131      0.033       0.008       0.180\n",
      "CLNO                    -0.0230      0.009     -2.587      0.010      -0.040      -0.006\n",
      "DEBTINC                  0.1097      0.012      8.829      0.000       0.085       0.134\n",
      "========================================================================================\n"
     ]
    }
   ],
   "source": [
    "# C 로 묶은 변수는 범주형 변수 표시. get_dummies 가 필요없음\n",
    "# [T.변수] 로 해당 값의 값 표현\n",
    "log_model = Logit.from_formula('''BAD~ LOAN + MORTDUE + VALUE + C(REASON)\\\n",
    "       +C(JOB) +YOJ + DEROG +DELINQ + CLAGE + NINQ + CLNO+ DEBTINC''',df_train)\n",
    "log_result =log_model.fit()\n",
    "print(log_result.summary())"
   ]
  },
  {
   "cell_type": "markdown",
   "id": "f657983d",
   "metadata": {},
   "source": [
    "1. 설명력 : 0.2257 -> 로지스틱 회귀분석의 설명력은 낮음\n",
    "2. 회귀계수의 유의성 검정 -> C 범주형 변수에서 하나만 0.05보다 작으면 유의하다.\n",
    "\n",
    "즉, C(JOB)[T.Office] < 0.05 이므로 변수 JOB은 유의하다고 판단할 수 있다.\n",
    "\n",
    "-> 근데 왜 유의하지 않은 변수는 제거하지 않을까?? *"
   ]
  },
  {
   "cell_type": "code",
   "execution_count": 41,
   "id": "1e47381a",
   "metadata": {},
   "outputs": [
    {
     "name": "stdout",
     "output_type": "stream",
     "text": [
      "Train 예측 결과 \n",
      " 3164    0\n",
      "3314    1\n",
      "93      0\n",
      "1456    0\n",
      "3327    0\n",
      "dtype: int32 \n",
      "\n",
      "Confusion Matrix:\n",
      "[[2365   17]\n",
      " [ 190   51]] \n",
      "\n"
     ]
    }
   ],
   "source": [
    "y_pred_train = log_result.predict(df_train)\n",
    "# 예측확률을 0.5를 기준으로 분류\n",
    "y_pred_train_class = (y_pred_train > 0.5).astype(int)\n",
    "print('Train 예측 결과 \\n', y_pred_train_class.head(),'\\n')\n",
    "print('Confusion Matrix:\\n{}'.format(confusion_matrix(df_train['BAD'],y_pred_train_class)),'\\n')"
   ]
  },
  {
   "cell_type": "code",
   "execution_count": 42,
   "id": "5962a493",
   "metadata": {},
   "outputs": [
    {
     "name": "stdout",
     "output_type": "stream",
     "text": [
      "Train 예측 결과 \n",
      " 3164    0\n",
      "3314    1\n",
      "93      0\n",
      "1456    0\n",
      "3327    0\n",
      "dtype: int32 \n",
      "\n",
      "Confusion Matrix:\n",
      "[[2365   17]\n",
      " [ 190   51]] \n",
      "\n"
     ]
    }
   ],
   "source": [
    "y_pred_test = log_result.predict(df_test)\n",
    "# 1/0 판정하는 임계값 변경 가능 \n",
    "y_pred_test_class = (y_pred_test > 0.5). astype(int)\n",
    "print('Train 예측 결과 \\n', y_pred_train_class.head(),'\\n')\n",
    "print('Confusion Matrix:\\n{}'.format(confusion_matrix(df_train['BAD'],y_pred_train_class)),'\\n')"
   ]
  },
  {
   "cell_type": "code",
   "execution_count": 43,
   "id": "fe85e032",
   "metadata": {},
   "outputs": [
    {
     "name": "stdout",
     "output_type": "stream",
     "text": [
      "Train 예측/분류 결과\n",
      "Accuracy: 0.921\n",
      "\n",
      "Confusion Matrix:\n",
      "[[2365   17]\n",
      " [ 190   51]] \n",
      "\n",
      "              precision    recall  f1-score   support\n",
      "\n",
      "           0      0.926     0.993     0.958      2382\n",
      "           1      0.750     0.212     0.330       241\n",
      "\n",
      "    accuracy                          0.921      2623\n",
      "   macro avg      0.838     0.602     0.644      2623\n",
      "weighted avg      0.909     0.921     0.900      2623\n",
      "\n",
      "Test 예측/분류 결과\n",
      "Accuracy: 0.924\n",
      "\n",
      "Confusion Matrix: \n",
      "[[1017    4]\n",
      " [  81   23]] \n",
      "\n",
      "              precision    recall  f1-score   support\n",
      "\n",
      "           0      0.926     0.996     0.960      1021\n",
      "           1      0.852     0.221     0.351       104\n",
      "\n",
      "    accuracy                          0.924      1125\n",
      "   macro avg      0.889     0.609     0.656      1125\n",
      "weighted avg      0.919     0.924     0.904      1125\n",
      "\n"
     ]
    }
   ],
   "source": [
    "print('Train 예측/분류 결과')\n",
    "print('Accuracy: {0:.3f}\\n'.format(accuracy_score(df_train['BAD'], y_pred_train_class)))\n",
    "print('Confusion Matrix:\\n{}'.format(confusion_matrix(df_train['BAD'],y_pred_train_class)),'\\n')\n",
    "print(classification_report(df_train['BAD'], y_pred_train_class, digits=3))\n",
    "\n",
    "\n",
    "print('Test 예측/분류 결과')\n",
    "print('Accuracy: {0:.3f}\\n'.format(accuracy_score(df_test['BAD'], y_pred_test_class)))\n",
    "print('Confusion Matrix: \\n{}'.format(confusion_matrix(df_test['BAD'],y_pred_test_class)),'\\n')\n",
    "print(classification_report(df_test['BAD'], y_pred_test_class, digits=3))"
   ]
  },
  {
   "cell_type": "code",
   "execution_count": 44,
   "id": "41dc7d1b",
   "metadata": {
    "scrolled": false
   },
   "outputs": [
    {
     "data": {
      "text/plain": [
       "<Axes: >"
      ]
     },
     "execution_count": 44,
     "metadata": {},
     "output_type": "execute_result"
    },
    {
     "data": {
      "image/png": "[encoded data removed]",
      "text/plain": [
       "<Figure size 640x480 with 1 Axes>"
      ]
     },
     "metadata": {},
     "output_type": "display_data"
    }
   ],
   "source": [
    "df_logistic_coef = pd.DataFrame({'Coef':log_result.params.values[1:]},\n",
    "                                index = log_model.exog_names[1:])\n",
    "df_logistic_coef.plot.barh(y= 'Coef')"
   ]
  },
  {
   "cell_type": "markdown",
   "id": "a30b9449",
   "metadata": {},
   "source": [
    "### Data Scaling 이전 결과\n",
    "\n",
    "작업이 Sales이거나, 연체된 신용한도의 수 (DELINQ)와 심각한 연체 수 (DEROG)가 높을 경우,\n",
    "대출 채무 불이행(BAD)일 가능성이 높아짐.\n",
    "\n",
    "직업이 Office면 대출 채무 불이행(BAD)일 가능성이 낮아짐."
   ]
  },
  {
   "cell_type": "markdown",
   "id": "35985e04",
   "metadata": {},
   "source": [
    "## Data Scaling 이후 변화"
   ]
  },
  {
   "cell_type": "code",
   "execution_count": 45,
   "id": "56517921",
   "metadata": {},
   "outputs": [
    {
     "data": {
      "text/html": [
       "<div>\n",
       "<style scoped>\n",
       "    .dataframe tbody tr th:only-of-type {\n",
       "        vertical-align: middle;\n",
       "    }\n",
       "\n",
       "    .dataframe tbody tr th {\n",
       "        vertical-align: top;\n",
       "    }\n",
       "\n",
       "    .dataframe thead th {\n",
       "        text-align: right;\n",
       "    }\n",
       "</style>\n",
       "<table border=\"1\" class=\"dataframe\">\n",
       "  <thead>\n",
       "    <tr style=\"text-align: right;\">\n",
       "      <th></th>\n",
       "      <th>BAD</th>\n",
       "      <th>LOAN</th>\n",
       "      <th>MORTDUE</th>\n",
       "      <th>VALUE</th>\n",
       "      <th>YOJ</th>\n",
       "      <th>DEROG</th>\n",
       "      <th>DELINQ</th>\n",
       "      <th>CLAGE</th>\n",
       "      <th>NINQ</th>\n",
       "      <th>CLNO</th>\n",
       "      <th>DEBTINC</th>\n",
       "      <th>REASON</th>\n",
       "      <th>JOB</th>\n",
       "    </tr>\n",
       "  </thead>\n",
       "  <tbody>\n",
       "    <tr>\n",
       "      <th>0</th>\n",
       "      <td>1</td>\n",
       "      <td>-1.559587</td>\n",
       "      <td>-0.993626</td>\n",
       "      <td>-1.224910</td>\n",
       "      <td>-0.017563</td>\n",
       "      <td>-0.267462</td>\n",
       "      <td>-0.342558</td>\n",
       "      <td>-0.967342</td>\n",
       "      <td>-0.018776</td>\n",
       "      <td>-1.428350</td>\n",
       "      <td>0.356347</td>\n",
       "      <td>HomeImp</td>\n",
       "      <td>Other</td>\n",
       "    </tr>\n",
       "    <tr>\n",
       "      <th>1</th>\n",
       "      <td>1</td>\n",
       "      <td>-1.550817</td>\n",
       "      <td>-1.039240</td>\n",
       "      <td>-1.174897</td>\n",
       "      <td>0.251809</td>\n",
       "      <td>-0.267462</td>\n",
       "      <td>-0.342558</td>\n",
       "      <td>-1.122053</td>\n",
       "      <td>-0.666629</td>\n",
       "      <td>-1.428350</td>\n",
       "      <td>0.329025</td>\n",
       "      <td>HomeImp</td>\n",
       "      <td>Other</td>\n",
       "    </tr>\n",
       "    <tr>\n",
       "      <th>2</th>\n",
       "      <td>0</td>\n",
       "      <td>-1.506968</td>\n",
       "      <td>0.607570</td>\n",
       "      <td>0.260973</td>\n",
       "      <td>-0.960364</td>\n",
       "      <td>-0.267462</td>\n",
       "      <td>-0.342558</td>\n",
       "      <td>-1.094930</td>\n",
       "      <td>-0.666629</td>\n",
       "      <td>-0.905133</td>\n",
       "      <td>-0.303684</td>\n",
       "      <td>HomeImp</td>\n",
       "      <td>Office</td>\n",
       "    </tr>\n",
       "    <tr>\n",
       "      <th>3</th>\n",
       "      <td>1</td>\n",
       "      <td>-1.498198</td>\n",
       "      <td>-0.897428</td>\n",
       "      <td>-1.093133</td>\n",
       "      <td>0.386495</td>\n",
       "      <td>-0.267462</td>\n",
       "      <td>-0.342558</td>\n",
       "      <td>-1.344679</td>\n",
       "      <td>-0.018776</td>\n",
       "      <td>-0.067985</td>\n",
       "      <td>0.493725</td>\n",
       "      <td>HomeImp</td>\n",
       "      <td>Mgr</td>\n",
       "    </tr>\n",
       "    <tr>\n",
       "      <th>4</th>\n",
       "      <td>0</td>\n",
       "      <td>-1.498198</td>\n",
       "      <td>0.520156</td>\n",
       "      <td>0.191721</td>\n",
       "      <td>-0.690992</td>\n",
       "      <td>-0.267462</td>\n",
       "      <td>-0.342558</td>\n",
       "      <td>-1.060586</td>\n",
       "      <td>-0.666629</td>\n",
       "      <td>-0.905133</td>\n",
       "      <td>-0.531456</td>\n",
       "      <td>HomeImp</td>\n",
       "      <td>Office</td>\n",
       "    </tr>\n",
       "  </tbody>\n",
       "</table>\n",
       "</div>"
      ],
      "text/plain": [
       "   BAD      LOAN   MORTDUE     VALUE       YOJ     DEROG    DELINQ     CLAGE  \\\n",
       "0    1 -1.559587 -0.993626 -1.224910 -0.017563 -0.267462 -0.342558 -0.967342   \n",
       "1    1 -1.550817 -1.039240 -1.174897  0.251809 -0.267462 -0.342558 -1.122053   \n",
       "2    0 -1.506968  0.607570  0.260973 -0.960364 -0.267462 -0.342558 -1.094930   \n",
       "3    1 -1.498198 -0.897428 -1.093133  0.386495 -0.267462 -0.342558 -1.344679   \n",
       "4    0 -1.498198  0.520156  0.191721 -0.690992 -0.267462 -0.342558 -1.060586   \n",
       "\n",
       "       NINQ      CLNO   DEBTINC   REASON     JOB  \n",
       "0 -0.018776 -1.428350  0.356347  HomeImp   Other  \n",
       "1 -0.666629 -1.428350  0.329025  HomeImp   Other  \n",
       "2 -0.666629 -0.905133 -0.303684  HomeImp  Office  \n",
       "3 -0.018776 -0.067985  0.493725  HomeImp     Mgr  \n",
       "4 -0.666629 -0.905133 -0.531456  HomeImp  Office  "
      ]
     },
     "execution_count": 45,
     "metadata": {},
     "output_type": "execute_result"
    }
   ],
   "source": [
    "# 목표변수는 제외\n",
    "df_raw_y = df_raw['BAD']\n",
    "df_raw = df_raw.drop('BAD', axis=1)\n",
    "\n",
    "# 범주형은 제외한 수치하여 데이터만 Data Scaling 진행\n",
    "df_char =df_raw.select_dtypes(include = 'object')\n",
    "df_numeric =df_raw.select_dtypes(exclude = 'object')\n",
    "\n",
    "scaler = StandardScaler()\n",
    "np_numeric_scaled = scaler.fit_transform(df_numeric)\n",
    "df_numeric_scaled=pd.DataFrame(np_numeric_scaled, columns =df_numeric.columns)\n",
    "\n",
    "\n",
    "df_scaled= pd.concat([df_raw_y,df_numeric_scaled, df_char], axis =1)\n",
    "df_scaled.head()"
   ]
  },
  {
   "cell_type": "code",
   "execution_count": 46,
   "id": "45956ad2",
   "metadata": {},
   "outputs": [],
   "source": [
    "df_scaled_train, df_scaled_test = train_test_split(df_scaled, test_size =0.3, random_state = 1234)"
   ]
  },
  {
   "cell_type": "code",
   "execution_count": 47,
   "id": "ebdbb307",
   "metadata": {},
   "outputs": [
    {
     "name": "stdout",
     "output_type": "stream",
     "text": [
      "Optimization terminated successfully.\n",
      "         Current function value: 0.237614\n",
      "         Iterations 7\n",
      "                           Logit Regression Results                           \n",
      "==============================================================================\n",
      "Dep. Variable:                    BAD   No. Observations:                 2623\n",
      "Model:                          Logit   Df Residuals:                     2606\n",
      "Method:                           MLE   Df Model:                           16\n",
      "Date:                Fri, 14 Jul 2023   Pseudo R-squ.:                  0.2257\n",
      "Time:                        22:34:24   Log-Likelihood:                -623.26\n",
      "converged:                       True   LL-Null:                       -804.91\n",
      "Covariance Type:            nonrobust   LLR p-value:                 1.743e-67\n",
      "========================================================================================\n",
      "                           coef    std err          z      P>|z|      [0.025      0.975]\n",
      "----------------------------------------------------------------------------------------\n",
      "Intercept               -2.4815      0.205    -12.111      0.000      -2.883      -2.080\n",
      "C(REASON)[T.HomeImp]    -0.0080      0.176     -0.045      0.964      -0.354       0.338\n",
      "C(JOB)[T.Office]        -0.8256      0.294     -2.807      0.005      -1.402      -0.249\n",
      "C(JOB)[T.Other]         -0.3304      0.227     -1.454      0.146      -0.776       0.115\n",
      "C(JOB)[T.ProfExe]       -0.4247      0.271     -1.566      0.117      -0.956       0.107\n",
      "C(JOB)[T.Sales]          1.1323      0.476      2.381      0.017       0.200       2.064\n",
      "C(JOB)[T.Self]          -0.0454      0.432     -0.105      0.916      -0.892       0.801\n",
      "LOAN                    -0.1395      0.092     -1.514      0.130      -0.320       0.041\n",
      "MORTDUE                 -0.0960      0.160     -0.599      0.549      -0.410       0.218\n",
      "VALUE                    0.1661      0.165      1.008      0.313      -0.157       0.489\n",
      "YOJ                     -0.0397      0.086     -0.461      0.645      -0.208       0.129\n",
      "DEROG                    0.3749      0.062      6.043      0.000       0.253       0.496\n",
      "DELINQ                   0.5872      0.061      9.648      0.000       0.468       0.706\n",
      "CLAGE                   -0.4140      0.096     -4.320      0.000      -0.602      -0.226\n",
      "NINQ                     0.1449      0.068      2.131      0.033       0.012       0.278\n",
      "CLNO                    -0.2196      0.085     -2.587      0.010      -0.386      -0.053\n",
      "DEBTINC                  0.9186      0.104      8.829      0.000       0.715       1.123\n",
      "========================================================================================\n"
     ]
    }
   ],
   "source": [
    "scaled_log_model = Logit.from_formula('''BAD~ LOAN + MORTDUE + VALUE + C(REASON) +C(JOB) +YOJ + DEROG +DELINQ + CLAGE + NINQ + CLNO+ DEBTINC''',df_scaled_train)\n",
    "\n",
    "scaled_log_result = scaled_log_model.fit()\n",
    "\n",
    "print(scaled_log_result.summary())"
   ]
  },
  {
   "cell_type": "code",
   "execution_count": 48,
   "id": "9ce97e05",
   "metadata": {
    "scrolled": false
   },
   "outputs": [
    {
     "data": {
      "text/plain": [
       "<Axes: >"
      ]
     },
     "execution_count": 48,
     "metadata": {},
     "output_type": "execute_result"
    },
    {
     "data": {
      "image/png": "[encoded data removed]",
      "text/plain": [
       "<Figure size 640x480 with 1 Axes>"
      ]
     },
     "metadata": {},
     "output_type": "display_data"
    }
   ],
   "source": [
    "df_log_scaled_coef = pd.DataFrame({'Coef': scaled_log_result.params.values[1:]},\n",
    "                                 index = scaled_log_model.exog_names[1:])\n",
    "df_log_scaled_coef.plot.barh(y='Coef', legend=False)"
   ]
  },
  {
   "cell_type": "markdown",
   "id": "9b4e0da4",
   "metadata": {},
   "source": [
    "### Data Scaling 이전 결과\n",
    "\n",
    "직업이 Sales이거나, 부채비율(DEBTINC)와 연체된 신용한도의 수(DELINQ)가 높을 경우 대출 채무 불이행(BA)일 가능성이 높아짐.\n",
    "\n",
    "특히 부채비율(DEBTINC)의 영향이 커짐\n",
    "\n",
    "직업이 Office일 경우 대출 채무 불이행(BAD)일 가능성이 낮아짐"
   ]
  },
  {
   "cell_type": "markdown",
   "id": "920e223b",
   "metadata": {},
   "source": [
    "## Data Scaling 전, 후 차이점\n",
    "\n",
    "가장 큰 변화는 채무 불이행에 많은 영향을 미치지 못했던 부채 비율이 Scaling 후에는 크게 영향을 주게 변화한 것이다. \n",
    "\n",
    "Scaling 하지 않은 상태에서 부채 비율이 목표변수에 큰 영향을 주지 못한 이유는 아마 다른 변수들이 부채 비율보다 큰 값을 갖고 있어서 영향력이 희석되었을 가능성이 높다.\n",
    "\n",
    "But, Scaling 이후에는 변수들의 크기가 조정되어 부채 비율이 다른 변수들과 비슷한 크기를 갖게 된다. 이로 인해 부채 비율의 영향력이 드러나게 되었을 것이다.\n"
   ]
  }
 ],
 "metadata": {
  "kernelspec": {
   "display_name": "Python 3 (ipykernel)",
   "language": "python",
   "name": "python3"
  },
  "language_info": {
   "codemirror_mode": {
    "name": "ipython",
    "version": 3
   },
   "file_extension": ".py",
   "mimetype": "text/x-python",
   "name": "python",
   "nbconvert_exporter": "python",
   "pygments_lexer": "ipython3",
   "version": "3.10.9"
  }
 },
 "nbformat": 4,
 "nbformat_minor": 5
}
