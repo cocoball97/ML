{
 "cells": [
  {
   "cell_type": "markdown",
   "id": "cb9d4d42",
   "metadata": {},
   "source": [
    "# SVM\n",
    "## svm모델은 scaling 에 영향을 많이 받는다!!!!!"
   ]
  },
  {
   "cell_type": "code",
   "execution_count": 1,
   "id": "de955b07",
   "metadata": {},
   "outputs": [],
   "source": [
    "import pandas as pd\n",
    "import numpy as np \n",
    "import warnings\n",
    "import matplotlib\n",
    "warnings.filterwarnings('ignore')\n",
    "import matplotlib.pyplot as plt\n",
    "from sklearn.tree import export_graphviz\n",
    "import graphviz\n",
    "\n",
    "from sklearn.preprocessing import StandardScaler\n",
    "from sklearn.model_selection import train_test_split\n",
    "from sklearn.model_selection import GridSearchCV\n",
    "from sklearn.metrics import accuracy_score, f1_score\n",
    "from sklearn.metrics import confusion_matrix, classification_report\n",
    "from sklearn.svm import SVC\n",
    "\n",
    "plt.rc('font',family = 'Malgun Gothic')\n",
    "matplotlib.rc(\"axes\",unicode_minus = False) # 음수표시 "
   ]
  },
  {
   "cell_type": "code",
   "execution_count": 2,
   "id": "43ddc758",
   "metadata": {},
   "outputs": [],
   "source": [
    "df_raw = pd.read_csv(\"./실습화일/2. Big Data 분석/HMEQ.csv\", encoding='euc-kr')\n",
    "df_raw.head()\n",
    "\n",
    "#결측치 확인\n",
    "df_raw.isnull().sum()\n",
    "df_raw[\"JOB\"].fillna(\"Other\",inplace = True)\n",
    "#결측치 평균으로 대체\n",
    "df_raw.fillna(df_raw.mean(),inplace=True)\n",
    "\n",
    "#데이터의 문자형 변수에 대한 더미변수 생성\n",
    "df_raw_dummy = pd.get_dummies(df_raw)\n",
    "#생성된 더미변수 확인\n",
    "df_raw_dummy.head()"
   ]
  },
  {
   "cell_type": "code",
   "execution_count": 9,
   "id": "ec9f62d7",
   "metadata": {},
   "outputs": [
    {
     "name": "stdout",
     "output_type": "stream",
     "text": [
      "분할 전 설명변수 데이터: (3748, 18)\n",
      "분할 후 설명변수 데이터:Train (2623, 18) Test (1125, 18)\n"
     ]
    }
   ],
   "source": [
    "#설명,목표 변수 데이터 구분\n",
    "df_raw_x = df_raw_dummy.drop(\"BAD\", axis = 1, inplace = False)\n",
    "df_raw_y = df_raw_dummy[\"BAD\"]\n",
    "#데이터 분할\n",
    "df_train_x,df_test_x,df_train_y,df_test_y = train_test_split(df_raw_x,df_raw_y,test_size = 0.3,random_state=1234)\n",
    "print(\"분할 전 설명변수 데이터:\",df_raw_x.shape)\n",
    "print(\"분할 후 설명변수 데이터:Train\",df_train_x.shape,\"Test\",df_test_x.shape)"
   ]
  },
  {
   "cell_type": "code",
   "execution_count": 11,
   "id": "58f81049",
   "metadata": {},
   "outputs": [
    {
     "name": "stdout",
     "output_type": "stream",
     "text": [
      "Accuracy on training set: 0.908\n",
      "Accuracy on test set: 0.908\n"
     ]
    }
   ],
   "source": [
    "svm_uncustomized = SVC(random_state=1234)\n",
    "svm_uncustomized.fit(df_train_x,df_train_y)\n",
    "#train모델 정확도\n",
    "print(\"Accuracy on training set: {:.3f}\".format(svm_uncustomized.score(df_train_x,df_train_y)))\n",
    "print(\"Accuracy on test set: {:.3f}\".format(svm_uncustomized.score(df_test_x,df_test_y)))"
   ]
  },
  {
   "cell_type": "code",
   "execution_count": 12,
   "id": "02795a8a",
   "metadata": {},
   "outputs": [
    {
     "name": "stdout",
     "output_type": "stream",
     "text": [
      "dict_keys(['C', 'break_ties', 'cache_size', 'class_weight', 'coef0', 'decision_function_shape', 'degree', 'gamma', 'kernel', 'max_iter', 'probability', 'random_state', 'shrinking', 'tol', 'verbose'])\n",
      "dict_values([1.0, False, 200, None, 0.0, 'ovr', 3, 'scale', 'rbf', -1, False, 1234, True, 0.001, False])\n"
     ]
    }
   ],
   "source": [
    "#생성된 모델의 옵션 확인\n",
    "print(svm_uncustomized.get_params().keys())\n",
    "print(svm_uncustomized.get_params().values())"
   ]
  },
  {
   "cell_type": "markdown",
   "id": "54762c83",
   "metadata": {},
   "source": [
    "## Cost(비용 C) : 오류(이상치)에 대한 패널티\n",
    "\n",
    "- C가 클수록 오류를 적게 허용하여 과대적합 발생\n",
    "\n",
    "- C가 작을수록 오류를 많이 허용하여 과소적합 발생"
   ]
  },
  {
   "cell_type": "code",
   "execution_count": 40,
   "id": "f8421ae8",
   "metadata": {},
   "outputs": [
    {
     "data": {
      "text/html": [
       "<div>\n",
       "<style scoped>\n",
       "    .dataframe tbody tr th:only-of-type {\n",
       "        vertical-align: middle;\n",
       "    }\n",
       "\n",
       "    .dataframe tbody tr th {\n",
       "        vertical-align: top;\n",
       "    }\n",
       "\n",
       "    .dataframe thead th {\n",
       "        text-align: right;\n",
       "    }\n",
       "</style>\n",
       "<table border=\"1\" class=\"dataframe\">\n",
       "  <thead>\n",
       "    <tr style=\"text-align: right;\">\n",
       "      <th></th>\n",
       "      <th>C</th>\n",
       "      <th>TrainAccuracy</th>\n",
       "      <th>TestAccuracy</th>\n",
       "    </tr>\n",
       "  </thead>\n",
       "  <tbody>\n",
       "    <tr>\n",
       "      <th>0</th>\n",
       "      <td>0.01</td>\n",
       "      <td>0.908</td>\n",
       "      <td>0.908</td>\n",
       "    </tr>\n",
       "    <tr>\n",
       "      <th>1</th>\n",
       "      <td>0.10</td>\n",
       "      <td>0.908</td>\n",
       "      <td>0.908</td>\n",
       "    </tr>\n",
       "    <tr>\n",
       "      <th>2</th>\n",
       "      <td>1.00</td>\n",
       "      <td>0.908</td>\n",
       "      <td>0.908</td>\n",
       "    </tr>\n",
       "    <tr>\n",
       "      <th>3</th>\n",
       "      <td>10.00</td>\n",
       "      <td>0.909</td>\n",
       "      <td>0.908</td>\n",
       "    </tr>\n",
       "    <tr>\n",
       "      <th>4</th>\n",
       "      <td>100.00</td>\n",
       "      <td>0.909</td>\n",
       "      <td>0.909</td>\n",
       "    </tr>\n",
       "  </tbody>\n",
       "</table>\n",
       "</div>"
      ],
      "text/plain": [
       "        C  TrainAccuracy  TestAccuracy\n",
       "0    0.01          0.908         0.908\n",
       "1    0.10          0.908         0.908\n",
       "2    1.00          0.908         0.908\n",
       "3   10.00          0.909         0.908\n",
       "4  100.00          0.909         0.909"
      ]
     },
     "execution_count": 40,
     "metadata": {},
     "output_type": "execute_result"
    }
   ],
   "source": [
    "#train, test 정확도 결과 저장용\n",
    "train_accuracy = []; test_accuracy =[]\n",
    "#c:규제:(0.1,0.1,1,10,100)\n",
    "para_c = [10 ** c for c in range(-2,3)]\n",
    "\n",
    "for v_C in para_c:\n",
    "    svm = SVC(C = v_C, random_state =1234)\n",
    "    svm.fit(df_train_x, df_train_y)\n",
    "    train_accuracy.append(svm.score(df_train_x,df_train_y))\n",
    "    test_accuracy.append(svm.score(df_test_x,df_test_y))\n",
    "    \n",
    "#데이터 테이블로 저장\n",
    "df_accuracy_c = pd.DataFrame()\n",
    "df_accuracy_c[\"C\"] = para_c\n",
    "df_accuracy_c[\"TrainAccuracy\"] = train_accuracy\n",
    "df_accuracy_c[\"TestAccuracy\"] = test_accuracy\n",
    "# C별 정확도 테이블\n",
    "df_accuracy_c.round(3)"
   ]
  },
  {
   "cell_type": "code",
   "execution_count": 41,
   "id": "88cfaafc",
   "metadata": {},
   "outputs": [
    {
     "data": {
      "text/plain": [
       "<matplotlib.legend.Legend at 0x7f8987f2b370>"
      ]
     },
     "execution_count": 41,
     "metadata": {},
     "output_type": "execute_result"
    },
    {
     "data": {
      "image/png": "[encoded data removed]",
      "text/plain": [
       "<Figure size 640x480 with 1 Axes>"
      ]
     },
     "metadata": {},
     "output_type": "display_data"
    }
   ],
   "source": [
    "# 모델 정확도 그래프 확인\n",
    "#모델 정확도 그래프 확인\n",
    "plt.plot(para_c, train_accuracy,linestyle='-',label = 'Train Accuracy')\n",
    "plt.plot(para_c, test_accuracy,linestyle='--',label = 'Test Accuracy')\n",
    "plt.ylabel(\"accuracy\")\n",
    "plt.xlabel(\"C\")\n",
    "plt.legend()"
   ]
  },
  {
   "cell_type": "code",
   "execution_count": 2,
   "id": "142da57e",
   "metadata": {},
   "outputs": [],
   "source": [
    "#C가 커질수록 모델의 정확도는 증가하지만 증가폭이 미미하고(0.2%) \n",
    "#과대적합 C>10 구간에서는 test 모델의 성능이 train보다 오히려 높음\n",
    "#C의 영향이 크지 않음 -> 미지정"
   ]
  },
  {
   "cell_type": "markdown",
   "id": "f7d17f5b",
   "metadata": {},
   "source": [
    "## Gamma(데이터의 영향 범위)변경에 따른 모델 성능\n",
    "\n",
    "- gamma가 작을수록 1개 데이터의 영향력 거리가 커짐\n",
    "\n",
    "- gamma가 클수록 1개 데이터 영향력 거리가 짧아짐 (뾰족한 모양)"
   ]
  },
  {
   "cell_type": "markdown",
   "id": "b8b1fa37",
   "metadata": {},
   "source": [
    "C 와 gamma의 최적값 탐색필요\n",
    "\n",
    "- C,gamma가 커질수록 모델 복잡도는 증가한다\n",
    "\n",
    "- C,gamma가 작아질수록 모델 복잡도는 감소한다"
   ]
  },
  {
   "cell_type": "code",
   "execution_count": 24,
   "id": "01e466f6",
   "metadata": {},
   "outputs": [
    {
     "data": {
      "text/html": [
       "<div>\n",
       "<style scoped>\n",
       "    .dataframe tbody tr th:only-of-type {\n",
       "        vertical-align: middle;\n",
       "    }\n",
       "\n",
       "    .dataframe tbody tr th {\n",
       "        vertical-align: top;\n",
       "    }\n",
       "\n",
       "    .dataframe thead th {\n",
       "        text-align: right;\n",
       "    }\n",
       "</style>\n",
       "<table border=\"1\" class=\"dataframe\">\n",
       "  <thead>\n",
       "    <tr style=\"text-align: right;\">\n",
       "      <th></th>\n",
       "      <th>C</th>\n",
       "      <th>TrainAccuracy</th>\n",
       "      <th>TestAccuracy</th>\n",
       "    </tr>\n",
       "  </thead>\n",
       "  <tbody>\n",
       "    <tr>\n",
       "      <th>0</th>\n",
       "      <td>0.01</td>\n",
       "      <td>0.9081</td>\n",
       "      <td>0.9076</td>\n",
       "    </tr>\n",
       "    <tr>\n",
       "      <th>1</th>\n",
       "      <td>0.10</td>\n",
       "      <td>0.9081</td>\n",
       "      <td>0.9076</td>\n",
       "    </tr>\n",
       "    <tr>\n",
       "      <th>2</th>\n",
       "      <td>1.00</td>\n",
       "      <td>0.9081</td>\n",
       "      <td>0.9076</td>\n",
       "    </tr>\n",
       "    <tr>\n",
       "      <th>3</th>\n",
       "      <td>10.00</td>\n",
       "      <td>0.9085</td>\n",
       "      <td>0.9084</td>\n",
       "    </tr>\n",
       "    <tr>\n",
       "      <th>4</th>\n",
       "      <td>100.00</td>\n",
       "      <td>0.9089</td>\n",
       "      <td>0.9093</td>\n",
       "    </tr>\n",
       "  </tbody>\n",
       "</table>\n",
       "</div>"
      ],
      "text/plain": [
       "        C  TrainAccuracy  TestAccuracy\n",
       "0    0.01         0.9081        0.9076\n",
       "1    0.10         0.9081        0.9076\n",
       "2    1.00         0.9081        0.9076\n",
       "3   10.00         0.9085        0.9084\n",
       "4  100.00         0.9089        0.9093"
      ]
     },
     "execution_count": 24,
     "metadata": {},
     "output_type": "execute_result"
    }
   ],
   "source": [
    "#train, test 정확도 결과 저장용\n",
    "train_accuracy = []; test_accuracy =[]\n",
    "#gamma:규제:(0.1,0.1,1,10,100)\n",
    "para_gamma = [10 ** gamma for gamma in range(-2,2)]\n",
    "\n",
    "for v_gamma in para_gamma:\n",
    "    svm = SVC(gamma = v_gamma, random_state =1234)\n",
    "    svm.fit(df_train_x, df_train_y)\n",
    "    train_accuracy.append(svm.score(df_train_x,df_train_y))\n",
    "    test_accuracy.append(svm.score(df_test_x,df_test_y))\n",
    "    \n",
    "#데이터 테이블로 저장\n",
    "df_accuracy_gamma = pd.DataFrame()\n",
    "df_accuracy_gamma[\"gamma\"] = para_gamma\n",
    "df_accuracy_gamma[\"TrainAccuracy\"] = train_accuracy\n",
    "df_accuracy_gamma[\"TestAccuracy\"] = test_accuracy\n",
    "# gamma별 정확도 테이블\n",
    "df_accuracy_c.round(4)"
   ]
  },
  {
   "cell_type": "code",
   "execution_count": 25,
   "id": "046f6d12",
   "metadata": {},
   "outputs": [
    {
     "data": {
      "text/plain": [
       "<matplotlib.legend.Legend at 0x7f8988203b50>"
      ]
     },
     "execution_count": 25,
     "metadata": {},
     "output_type": "execute_result"
    },
    {
     "data": {
      "image/png": "[encoded data removed]",
      "text/plain": [
       "<Figure size 640x480 with 1 Axes>"
      ]
     },
     "metadata": {},
     "output_type": "display_data"
    }
   ],
   "source": [
    "# 모델 정확도 그래프 확인\n",
    "plt.plot(para_gamma, train_accuracy,linestyle='-',label = 'Train Accuracy')\n",
    "plt.plot(para_gamma, test_accuracy,linestyle='--',label = 'Test Accuracy')\n",
    "plt.ylabel(\"accuracy\")\n",
    "plt.xlabel(\"gamma\")\n",
    "plt.legend()"
   ]
  },
  {
   "cell_type": "code",
   "execution_count": 3,
   "id": "275bfed7",
   "metadata": {},
   "outputs": [],
   "source": [
    "#gamma는 정확도에 별다른 영향을 미치지 않음 -> 미지정"
   ]
  },
  {
   "cell_type": "markdown",
   "id": "cca536ce",
   "metadata": {},
   "source": [
    "Standardscaler 변환 - 설명변수 값의 구간을 동일하게 변경"
   ]
  },
  {
   "cell_type": "code",
   "execution_count": 30,
   "id": "5ee722a9",
   "metadata": {},
   "outputs": [
    {
     "name": "stdout",
     "output_type": "stream",
     "text": [
      "train data X size: (2623, 18)\n",
      "test data X size: (1125, 18)\n"
     ]
    }
   ],
   "source": [
    "v_feature_name = df_train_x.columns\n",
    "\n",
    "#Standard\n",
    "scaler = StandardScaler()\n",
    "df_scaled =scaler.fit_transform(df_raw_x)\n",
    "df_scaled = pd.DataFrame(df_scaled,columns=v_feature_name)\n",
    "df_scaled.head()\n",
    "\n",
    "#데이터 분할\n",
    "df_scaled_train_x,df_scaled_test_x = train_test_split(df_scaled,test_size = 0.3,random_state=1234)\n",
    "print(\"train data X size: {}\".format(df_scaled_train_x.shape))\n",
    "print(\"test data X size: {}\".format(df_scaled_test_x.shape))"
   ]
  },
  {
   "cell_type": "code",
   "execution_count": 32,
   "id": "3dc2b6f0",
   "metadata": {},
   "outputs": [
    {
     "name": "stdout",
     "output_type": "stream",
     "text": [
      "Accuracy on training set: 0.944\n",
      "Accuracy on test set: 0.935\n"
     ]
    }
   ],
   "source": [
    "svm_scaled = SVC(random_state=1234)\n",
    "svm_scaled.fit(df_scaled_train_x,df_train_y)\n",
    "#train모델 정확도\n",
    "print(\"Accuracy on training set: {:.3f}\".format(svm_scaled.score(df_scaled_train_x,df_train_y)))\n",
    "print(\"Accuracy on test set: {:.3f}\".format(svm_scaled.score(df_scaled_test_x,df_test_y)))"
   ]
  },
  {
   "cell_type": "markdown",
   "id": "c1850b2d",
   "metadata": {},
   "source": [
    "- scale한 변수들로 성능을 측정한 결과 성능이 올라갔다."
   ]
  },
  {
   "cell_type": "markdown",
   "id": "869b832a",
   "metadata": {},
   "source": [
    "## Cost(비용 C) : 오류(이상치)에 대한 패널티"
   ]
  },
  {
   "cell_type": "code",
   "execution_count": 42,
   "id": "8293d64d",
   "metadata": {},
   "outputs": [
    {
     "data": {
      "text/html": [
       "<div>\n",
       "<style scoped>\n",
       "    .dataframe tbody tr th:only-of-type {\n",
       "        vertical-align: middle;\n",
       "    }\n",
       "\n",
       "    .dataframe tbody tr th {\n",
       "        vertical-align: top;\n",
       "    }\n",
       "\n",
       "    .dataframe thead th {\n",
       "        text-align: right;\n",
       "    }\n",
       "</style>\n",
       "<table border=\"1\" class=\"dataframe\">\n",
       "  <thead>\n",
       "    <tr style=\"text-align: right;\">\n",
       "      <th></th>\n",
       "      <th>C</th>\n",
       "      <th>TrainAccuracy</th>\n",
       "      <th>TestAccuracy</th>\n",
       "    </tr>\n",
       "  </thead>\n",
       "  <tbody>\n",
       "    <tr>\n",
       "      <th>0</th>\n",
       "      <td>0.1</td>\n",
       "      <td>0.908</td>\n",
       "      <td>0.908</td>\n",
       "    </tr>\n",
       "    <tr>\n",
       "      <th>1</th>\n",
       "      <td>0.2</td>\n",
       "      <td>0.912</td>\n",
       "      <td>0.908</td>\n",
       "    </tr>\n",
       "    <tr>\n",
       "      <th>2</th>\n",
       "      <td>0.3</td>\n",
       "      <td>0.920</td>\n",
       "      <td>0.913</td>\n",
       "    </tr>\n",
       "    <tr>\n",
       "      <th>3</th>\n",
       "      <td>0.4</td>\n",
       "      <td>0.928</td>\n",
       "      <td>0.920</td>\n",
       "    </tr>\n",
       "    <tr>\n",
       "      <th>4</th>\n",
       "      <td>0.5</td>\n",
       "      <td>0.934</td>\n",
       "      <td>0.925</td>\n",
       "    </tr>\n",
       "    <tr>\n",
       "      <th>5</th>\n",
       "      <td>0.6</td>\n",
       "      <td>0.937</td>\n",
       "      <td>0.929</td>\n",
       "    </tr>\n",
       "    <tr>\n",
       "      <th>6</th>\n",
       "      <td>0.7</td>\n",
       "      <td>0.938</td>\n",
       "      <td>0.930</td>\n",
       "    </tr>\n",
       "    <tr>\n",
       "      <th>7</th>\n",
       "      <td>0.8</td>\n",
       "      <td>0.941</td>\n",
       "      <td>0.932</td>\n",
       "    </tr>\n",
       "    <tr>\n",
       "      <th>8</th>\n",
       "      <td>0.9</td>\n",
       "      <td>0.942</td>\n",
       "      <td>0.932</td>\n",
       "    </tr>\n",
       "    <tr>\n",
       "      <th>9</th>\n",
       "      <td>1.0</td>\n",
       "      <td>0.944</td>\n",
       "      <td>0.935</td>\n",
       "    </tr>\n",
       "    <tr>\n",
       "      <th>10</th>\n",
       "      <td>1.1</td>\n",
       "      <td>0.944</td>\n",
       "      <td>0.935</td>\n",
       "    </tr>\n",
       "    <tr>\n",
       "      <th>11</th>\n",
       "      <td>1.2</td>\n",
       "      <td>0.946</td>\n",
       "      <td>0.935</td>\n",
       "    </tr>\n",
       "    <tr>\n",
       "      <th>12</th>\n",
       "      <td>1.3</td>\n",
       "      <td>0.947</td>\n",
       "      <td>0.938</td>\n",
       "    </tr>\n",
       "    <tr>\n",
       "      <th>13</th>\n",
       "      <td>1.4</td>\n",
       "      <td>0.947</td>\n",
       "      <td>0.938</td>\n",
       "    </tr>\n",
       "    <tr>\n",
       "      <th>14</th>\n",
       "      <td>1.5</td>\n",
       "      <td>0.949</td>\n",
       "      <td>0.938</td>\n",
       "    </tr>\n",
       "    <tr>\n",
       "      <th>15</th>\n",
       "      <td>1.6</td>\n",
       "      <td>0.949</td>\n",
       "      <td>0.938</td>\n",
       "    </tr>\n",
       "    <tr>\n",
       "      <th>16</th>\n",
       "      <td>1.7</td>\n",
       "      <td>0.952</td>\n",
       "      <td>0.939</td>\n",
       "    </tr>\n",
       "    <tr>\n",
       "      <th>17</th>\n",
       "      <td>1.8</td>\n",
       "      <td>0.954</td>\n",
       "      <td>0.939</td>\n",
       "    </tr>\n",
       "    <tr>\n",
       "      <th>18</th>\n",
       "      <td>1.9</td>\n",
       "      <td>0.955</td>\n",
       "      <td>0.939</td>\n",
       "    </tr>\n",
       "    <tr>\n",
       "      <th>19</th>\n",
       "      <td>2.0</td>\n",
       "      <td>0.956</td>\n",
       "      <td>0.940</td>\n",
       "    </tr>\n",
       "  </tbody>\n",
       "</table>\n",
       "</div>"
      ],
      "text/plain": [
       "      C  TrainAccuracy  TestAccuracy\n",
       "0   0.1          0.908         0.908\n",
       "1   0.2          0.912         0.908\n",
       "2   0.3          0.920         0.913\n",
       "3   0.4          0.928         0.920\n",
       "4   0.5          0.934         0.925\n",
       "5   0.6          0.937         0.929\n",
       "6   0.7          0.938         0.930\n",
       "7   0.8          0.941         0.932\n",
       "8   0.9          0.942         0.932\n",
       "9   1.0          0.944         0.935\n",
       "10  1.1          0.944         0.935\n",
       "11  1.2          0.946         0.935\n",
       "12  1.3          0.947         0.938\n",
       "13  1.4          0.947         0.938\n",
       "14  1.5          0.949         0.938\n",
       "15  1.6          0.949         0.938\n",
       "16  1.7          0.952         0.939\n",
       "17  1.8          0.954         0.939\n",
       "18  1.9          0.955         0.939\n",
       "19  2.0          0.956         0.940"
      ]
     },
     "execution_count": 42,
     "metadata": {},
     "output_type": "execute_result"
    }
   ],
   "source": [
    "#train, test 정확도 결과 저장용\n",
    "train_accuracy = []; test_accuracy =[]\n",
    "#c:규제:(0.1 ~ 20)\n",
    "para_c = [0.1 * c for c in range(1,21)]\n",
    "\n",
    "for v_C in para_c:\n",
    "    svm = SVC(C = v_C, random_state =1234)\n",
    "    svm.fit(df_scaled_train_x, df_train_y)\n",
    "    train_accuracy.append(svm.score(df_scaled_train_x,df_train_y))\n",
    "    test_accuracy.append(svm.score(df_scaled_test_x,df_test_y))\n",
    "    \n",
    "#데이터 테이블로 저장\n",
    "df_accuracy_c = pd.DataFrame()\n",
    "df_accuracy_c[\"C\"] = para_c\n",
    "df_accuracy_c[\"TrainAccuracy\"] = train_accuracy\n",
    "df_accuracy_c[\"TestAccuracy\"] = test_accuracy\n",
    "# C별 정확도 테이블\n",
    "df_accuracy_c.round(3)"
   ]
  },
  {
   "cell_type": "code",
   "execution_count": 43,
   "id": "df0be405",
   "metadata": {},
   "outputs": [
    {
     "data": {
      "text/plain": [
       "<matplotlib.legend.Legend at 0x7f8987e3d670>"
      ]
     },
     "execution_count": 43,
     "metadata": {},
     "output_type": "execute_result"
    },
    {
     "data": {
      "image/png": "[encoded data removed]",
      "text/plain": [
       "<Figure size 640x480 with 1 Axes>"
      ]
     },
     "metadata": {},
     "output_type": "display_data"
    }
   ],
   "source": [
    "# 모델 정확도 그래프 확인\n",
    "#모델 정확도 그래프 확인\n",
    "plt.plot(para_c, train_accuracy,linestyle='-',label = 'Train Accuracy')\n",
    "plt.plot(para_c, test_accuracy,linestyle='--',label = 'Test Accuracy')\n",
    "plt.ylabel(\"accuracy\")\n",
    "plt.xlabel(\"C\")\n",
    "plt.legend()"
   ]
  },
  {
   "cell_type": "markdown",
   "id": "fb922252",
   "metadata": {},
   "source": [
    "- C가 커질수록 모델의 정확도는 증가함. train/teat모델의 성능 변화를 검토하여 1.3 선택.\n",
    "- test 모델의 정확도가 많이 증가하고 train과의 차이도 적음"
   ]
  },
  {
   "cell_type": "markdown",
   "id": "bac881f0",
   "metadata": {},
   "source": [
    "## Gamma(데이터의 영향 범위)변경에 따른 모델 성능"
   ]
  },
  {
   "cell_type": "code",
   "execution_count": 47,
   "id": "3149ed24",
   "metadata": {},
   "outputs": [
    {
     "data": {
      "text/html": [
       "<div>\n",
       "<style scoped>\n",
       "    .dataframe tbody tr th:only-of-type {\n",
       "        vertical-align: middle;\n",
       "    }\n",
       "\n",
       "    .dataframe tbody tr th {\n",
       "        vertical-align: top;\n",
       "    }\n",
       "\n",
       "    .dataframe thead th {\n",
       "        text-align: right;\n",
       "    }\n",
       "</style>\n",
       "<table border=\"1\" class=\"dataframe\">\n",
       "  <thead>\n",
       "    <tr style=\"text-align: right;\">\n",
       "      <th></th>\n",
       "      <th>gamma</th>\n",
       "      <th>TrainAccuracy</th>\n",
       "      <th>TestAccuracy</th>\n",
       "    </tr>\n",
       "  </thead>\n",
       "  <tbody>\n",
       "    <tr>\n",
       "      <th>0</th>\n",
       "      <td>0.05</td>\n",
       "      <td>0.9440</td>\n",
       "      <td>0.9351</td>\n",
       "    </tr>\n",
       "    <tr>\n",
       "      <th>1</th>\n",
       "      <td>0.10</td>\n",
       "      <td>0.9645</td>\n",
       "      <td>0.9431</td>\n",
       "    </tr>\n",
       "    <tr>\n",
       "      <th>2</th>\n",
       "      <td>0.15</td>\n",
       "      <td>0.9760</td>\n",
       "      <td>0.9458</td>\n",
       "    </tr>\n",
       "    <tr>\n",
       "      <th>3</th>\n",
       "      <td>0.20</td>\n",
       "      <td>0.9802</td>\n",
       "      <td>0.9396</td>\n",
       "    </tr>\n",
       "    <tr>\n",
       "      <th>4</th>\n",
       "      <td>0.25</td>\n",
       "      <td>0.9836</td>\n",
       "      <td>0.9351</td>\n",
       "    </tr>\n",
       "    <tr>\n",
       "      <th>5</th>\n",
       "      <td>0.30</td>\n",
       "      <td>0.9851</td>\n",
       "      <td>0.9324</td>\n",
       "    </tr>\n",
       "    <tr>\n",
       "      <th>6</th>\n",
       "      <td>0.35</td>\n",
       "      <td>0.9859</td>\n",
       "      <td>0.9307</td>\n",
       "    </tr>\n",
       "    <tr>\n",
       "      <th>7</th>\n",
       "      <td>0.40</td>\n",
       "      <td>0.9878</td>\n",
       "      <td>0.9298</td>\n",
       "    </tr>\n",
       "    <tr>\n",
       "      <th>8</th>\n",
       "      <td>0.45</td>\n",
       "      <td>0.9905</td>\n",
       "      <td>0.9289</td>\n",
       "    </tr>\n",
       "    <tr>\n",
       "      <th>9</th>\n",
       "      <td>0.50</td>\n",
       "      <td>0.9916</td>\n",
       "      <td>0.9289</td>\n",
       "    </tr>\n",
       "    <tr>\n",
       "      <th>10</th>\n",
       "      <td>0.55</td>\n",
       "      <td>0.9928</td>\n",
       "      <td>0.9289</td>\n",
       "    </tr>\n",
       "    <tr>\n",
       "      <th>11</th>\n",
       "      <td>0.60</td>\n",
       "      <td>0.9935</td>\n",
       "      <td>0.9280</td>\n",
       "    </tr>\n",
       "    <tr>\n",
       "      <th>12</th>\n",
       "      <td>0.65</td>\n",
       "      <td>0.9947</td>\n",
       "      <td>0.9280</td>\n",
       "    </tr>\n",
       "    <tr>\n",
       "      <th>13</th>\n",
       "      <td>0.70</td>\n",
       "      <td>0.9954</td>\n",
       "      <td>0.9262</td>\n",
       "    </tr>\n",
       "  </tbody>\n",
       "</table>\n",
       "</div>"
      ],
      "text/plain": [
       "    gamma  TrainAccuracy  TestAccuracy\n",
       "0    0.05         0.9440        0.9351\n",
       "1    0.10         0.9645        0.9431\n",
       "2    0.15         0.9760        0.9458\n",
       "3    0.20         0.9802        0.9396\n",
       "4    0.25         0.9836        0.9351\n",
       "5    0.30         0.9851        0.9324\n",
       "6    0.35         0.9859        0.9307\n",
       "7    0.40         0.9878        0.9298\n",
       "8    0.45         0.9905        0.9289\n",
       "9    0.50         0.9916        0.9289\n",
       "10   0.55         0.9928        0.9289\n",
       "11   0.60         0.9935        0.9280\n",
       "12   0.65         0.9947        0.9280\n",
       "13   0.70         0.9954        0.9262"
      ]
     },
     "execution_count": 47,
     "metadata": {},
     "output_type": "execute_result"
    }
   ],
   "source": [
    "## Gamma(데이터의 영향 범위)변경에 따른 모델 성능#train, test 정확도 결과 저장용\n",
    "train_accuracy = []; test_accuracy =[]\n",
    "#gamma:규제\n",
    "para_gamma = [0.05 * gamma for gamma in range(1,15)]\n",
    "\n",
    "for v_gamma in para_gamma:\n",
    "    svm = SVC(gamma = v_gamma, C=1.3, random_state =1234)\n",
    "    svm.fit(df_scaled_train_x, df_train_y)\n",
    "    train_accuracy.append(svm.score(df_scaled_train_x,df_train_y))\n",
    "    test_accuracy.append(svm.score(df_scaled_test_x,df_test_y))\n",
    "    \n",
    "#데이터 테이블로 저장\n",
    "df_accuracy_gamma = pd.DataFrame()\n",
    "df_accuracy_gamma[\"gamma\"] = para_gamma\n",
    "df_accuracy_gamma[\"TrainAccuracy\"] = train_accuracy\n",
    "df_accuracy_gamma[\"TestAccuracy\"] = test_accuracy\n",
    "# gamma별 정확도 테이블\n",
    "df_accuracy_gamma.round(4)"
   ]
  },
  {
   "cell_type": "code",
   "execution_count": 48,
   "id": "13bdfdd7",
   "metadata": {},
   "outputs": [
    {
     "data": {
      "text/plain": [
       "<matplotlib.legend.Legend at 0x7f8987c8a7f0>"
      ]
     },
     "execution_count": 48,
     "metadata": {},
     "output_type": "execute_result"
    },
    {
     "data": {
      "image/png": "[encoded data removed]",
      "text/plain": [
       "<Figure size 640x480 with 1 Axes>"
      ]
     },
     "metadata": {},
     "output_type": "display_data"
    }
   ],
   "source": [
    "# 모델 정확도 그래프 확인\n",
    "plt.plot(para_gamma, train_accuracy,linestyle='-',label = 'Train Accuracy')\n",
    "plt.plot(para_gamma, test_accuracy,linestyle='--',label = 'Test Accuracy')\n",
    "plt.ylabel(\"accuracy\")\n",
    "plt.xlabel(\"gamma\")\n",
    "plt.legend()"
   ]
  },
  {
   "cell_type": "code",
   "execution_count": 50,
   "id": "5950f99e",
   "metadata": {},
   "outputs": [
    {
     "name": "stdout",
     "output_type": "stream",
     "text": [
      "Accuracy on training Set : 0.976\n",
      "\n",
      "Accuracy on test Set : 0.946\n",
      "\n",
      "Confusion matrix:\n",
      "[[1021    0]\n",
      " [  61   43]]\n",
      "              precision    recall  f1-score   support\n",
      "\n",
      "           0      0.944     1.000     0.971      1021\n",
      "           1      1.000     0.413     0.585       104\n",
      "\n",
      "    accuracy                          0.946      1125\n",
      "   macro avg      0.972     0.707     0.778      1125\n",
      "weighted avg      0.949     0.946     0.935      1125\n",
      "\n"
     ]
    }
   ],
   "source": [
    "#최종 모델 선정\n",
    "svc_final = SVC(gamma=0.15, C=1.3, random_state = 1234)\n",
    "svc_final.fit(df_scaled_train_x,df_train_y)\n",
    "\n",
    "y_pred = svc_final.predict(df_scaled_test_x)\n",
    "print(\"Accuracy on training Set : {:.3f}\\n\".format(svc_final.score(df_scaled_train_x,df_train_y)))\n",
    "\n",
    "print(\"Accuracy on test Set : {:.3f}\\n\".format(svc_final.score(df_scaled_test_x,df_test_y)))\n",
    "\n",
    "print('Confusion matrix:\\n{}'.format(confusion_matrix(df_test_y,y_pred)))\n",
    "\n",
    "print(classification_report(df_test_y,y_pred,digits=3))"
   ]
  },
  {
   "cell_type": "markdown",
   "id": "e9a6b125",
   "metadata": {},
   "source": [
    "- 1기준 f1 score는 58.5%\n",
    "- (precision은 100%이나 recall이 매우 낮음)"
   ]
  },
  {
   "cell_type": "markdown",
   "id": "99daad7e",
   "metadata": {},
   "source": [
    "## GridSearchCV를 이용한 최적 parameter찾기"
   ]
  },
  {
   "cell_type": "code",
   "execution_count": 51,
   "id": "6330bf10",
   "metadata": {},
   "outputs": [
    {
     "name": "stdout",
     "output_type": "stream",
     "text": [
      "best estimator model: \n",
      "SVC(C=2.0, gamma=0.15000000000000002, random_state=1234)\n",
      "\n",
      "best parameter: \n",
      "{'C': 2.0, 'gamma': 0.15000000000000002}\n",
      "\n",
      "best score: \n",
      "0.95\n"
     ]
    }
   ],
   "source": [
    "# GridSearchCV를 이용한 최적 parameter찾기\n",
    "estimator = SVC(random_state=1234)\n",
    "\n",
    "# 구하고자 하는 parameter와 범위\n",
    "param_grid = {\"C\":para_c,\n",
    "             \"gamma\":para_gamma}\n",
    "\n",
    "# 정확도가 높은 최적 parameter와 범위\n",
    "grid_svc = GridSearchCV(estimator,param_grid,scoring=\"accuracy\", n_jobs=-1)\n",
    "grid_svc.fit(df_scaled_train_x,df_train_y)\n",
    "\n",
    "print(\"best estimator model: \\n{}\".format(grid_svc.best_estimator_))\n",
    "print(\"\\nbest parameter: \\n{}\".format(grid_svc.best_params_))\n",
    "print(\"\\nbest score: \\n{}\".format(grid_svc.best_score_.round(3))) # best_score는 test 데이터에 대한 "
   ]
  },
  {
   "cell_type": "markdown",
   "id": "0ebac085",
   "metadata": {},
   "source": [
    "## 결론"
   ]
  },
  {
   "cell_type": "markdown",
   "id": "b1cb0cb9",
   "metadata": {},
   "source": [
    "- svm은 scale에 영향을 많이 받음\n",
    "- 적절한 C와 gamma를 찾기 전에 scale 변환이 선행되어야 함."
   ]
  }
 ],
 "metadata": {
  "kernelspec": {
   "display_name": "Python 3 (ipykernel)",
   "language": "python",
   "name": "python3"
  },
  "language_info": {
   "codemirror_mode": {
    "name": "ipython",
    "version": 3
   },
   "file_extension": ".py",
   "mimetype": "text/x-python",
   "name": "python",
   "nbconvert_exporter": "python",
   "pygments_lexer": "ipython3",
   "version": "3.10.9"
  }
 },
 "nbformat": 4,
 "nbformat_minor": 5
}
