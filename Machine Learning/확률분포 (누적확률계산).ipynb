{
 "cells": [
  {
   "cell_type": "code",
   "execution_count": 13,
   "id": "eac6aadc",
   "metadata": {},
   "outputs": [],
   "source": [
    "import pandas as pd\n",
    "import numpy as np\n",
    "\n",
    "import matplotlib\n",
    "import matplotlib.pyplot as plt\n",
    "%matplotlib inline\n",
    "\n",
    "from scipy import stats\n",
    "\n",
    "import warnings \n",
    "warnings.filterwarnings('ignore')"
   ]
  },
  {
   "cell_type": "markdown",
   "id": "dd15f429",
   "metadata": {},
   "source": [
    "# 1. 정규분포"
   ]
  },
  {
   "cell_type": "markdown",
   "id": "7078e37d",
   "metadata": {},
   "source": [
    "A/S작업 수행하는데 평균 115분, 표준편차 20분 소요된다. 135분 이상 걸리는 A/S 작업비율은?"
   ]
  },
  {
   "cell_type": "code",
   "execution_count": 8,
   "id": "2db30966",
   "metadata": {},
   "outputs": [
    {
     "name": "stdout",
     "output_type": "stream",
     "text": [
      "135분 이상 걸리는 A/S 작업 비율 : 15.9%\n"
     ]
    }
   ],
   "source": [
    "mu = 115\n",
    "sigma = 20\n",
    "x = 135\n",
    "prob = stats.norm.cdf(x,mu,sigma)\n",
    "\n",
    "print(\"{0}분 이상 걸리는 A/S 작업 비율 : {1:.1f}%\".format(x,(1-prob)*100)) # 이상이기 때문에 (1-값)"
   ]
  },
  {
   "cell_type": "markdown",
   "id": "9b27b2dc",
   "metadata": {},
   "source": [
    "자동차 1리터당 주행거리가 12km, 표준편차 3km인 정규분포를 따른다. \n",
    "1리터를 가지고 12km 이상 15km 이하를 달릴 확률은 얼마인가?"
   ]
  },
  {
   "cell_type": "code",
   "execution_count": 12,
   "id": "65ae9aae",
   "metadata": {
    "scrolled": true
   },
   "outputs": [
    {
     "name": "stdout",
     "output_type": "stream",
     "text": [
      "12km 이상 15km 이하를 달릴 확률은 0.341에 해당함\n"
     ]
    }
   ],
   "source": [
    "mu = 12\n",
    "sigma = 3\n",
    "x = 15\n",
    "prob = stats.norm.cdf(x,mu,sigma)\n",
    "\n",
    "print(\"{0}km 이상 {1}km 이하를 달릴 확률은 {2:.3f}에 해당함\".format(mu,x,(prob-0.5)))"
   ]
  },
  {
   "cell_type": "markdown",
   "id": "6371a0f0",
   "metadata": {},
   "source": [
    "# 2. t분포"
   ]
  },
  {
   "cell_type": "markdown",
   "id": "735aa5d1",
   "metadata": {},
   "source": [
    "t는 자유도 5인 t-분포를 따른다. t값이 1.53일 때, P(T<=t) 값을 구하시오"
   ]
  },
  {
   "cell_type": "code",
   "execution_count": 17,
   "id": "73517644",
   "metadata": {},
   "outputs": [
    {
     "name": "stdout",
     "output_type": "stream",
     "text": [
      "P(X<=t):0.907\n"
     ]
    }
   ],
   "source": [
    "t = 1.53\n",
    "df = 5\n",
    "\n",
    "prob = stats.t.cdf(t, df)\n",
    "print(\"P(X<=t):{:.3f}\".format(prob))"
   ]
  },
  {
   "cell_type": "markdown",
   "id": "31b10656",
   "metadata": {},
   "source": [
    "# 3. 카이제곱"
   ]
  },
  {
   "cell_type": "markdown",
   "id": "e2983ea7",
   "metadata": {},
   "source": [
    "x^2 는 자유도가 8 인 카이제곱 분포를 따른다. x^2 값이 3.0 일 때, \n",
    "P(X<=x^2)을 계산하시오"
   ]
  },
  {
   "cell_type": "code",
   "execution_count": 15,
   "id": "88c3854b",
   "metadata": {},
   "outputs": [
    {
     "name": "stdout",
     "output_type": "stream",
     "text": [
      "P(X<=10):0.0002\n"
     ]
    }
   ],
   "source": [
    "chisq = 10\n",
    "df = 30\n",
    "\n",
    "prob = stats.chi2.cdf(chisq, df)\n",
    "print(\"P(X<={0}):{1:.4f}\".format(chisq,prob))"
   ]
  },
  {
   "cell_type": "markdown",
   "id": "09969079",
   "metadata": {},
   "source": [
    "# 4. F 분포"
   ]
  },
  {
   "cell_type": "code",
   "execution_count": null,
   "id": "80b42f6b",
   "metadata": {},
   "outputs": [],
   "source": [
    "확류변수 F는 자유도가 15,15 인 F-분포를 따른다. F 값이 2.0일 때, P(X<=F)을 계산하시오"
   ]
  },
  {
   "cell_type": "code",
   "execution_count": 18,
   "id": "5cd64bcc",
   "metadata": {},
   "outputs": [
    {
     "name": "stdout",
     "output_type": "stream",
     "text": [
      "P(X<=F):0.904\n"
     ]
    }
   ],
   "source": [
    "f = 2.0\n",
    "dfnum = 15\n",
    "dfden = 15\n",
    "\n",
    "prob = stats.f.cdf(x=f,dfn = dfnum, dfd = dfden)\n",
    "print(\"P(X<=F):{:.3f}\".format,prob))"
   ]
  }
 ],
 "metadata": {
  "kernelspec": {
   "display_name": "Python 3 (ipykernel)",
   "language": "python",
   "name": "python3"
  },
  "language_info": {
   "codemirror_mode": {
    "name": "ipython",
    "version": 3
   },
   "file_extension": ".py",
   "mimetype": "text/x-python",
   "name": "python",
   "nbconvert_exporter": "python",
   "pygments_lexer": "ipython3",
   "version": "3.10.9"
  }
 },
 "nbformat": 4,
 "nbformat_minor": 5
}
