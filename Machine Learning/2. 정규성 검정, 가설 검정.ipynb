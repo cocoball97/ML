{
 "cells": [
  {
   "cell_type": "code",
   "execution_count": 22,
   "id": "9ce5665a",
   "metadata": {},
   "outputs": [],
   "source": [
    "import pandas as pd\n",
    "import numpy as np\n",
    "from sklearn.preprocessing import StandardScaler, MinMaxScaler, RobustScaler\n",
    "\n",
    "import matplotlib\n",
    "import matplotlib.pyplot as plt\n",
    "%matplotlib inline\n",
    "import seaborn as sns\n",
    "\n",
    "from scipy.stats import shapiro\n",
    "from scipy import stats\n",
    "import scipy\n",
    "from statsmodels.stats.proportion import proportions_ztest\n",
    "\n",
    "import warnings \n",
    "warnings.filterwarnings('ignore')"
   ]
  },
  {
   "cell_type": "markdown",
   "id": "91beb412",
   "metadata": {},
   "source": [
    "# 1. 정규성 검정"
   ]
  },
  {
   "cell_type": "markdown",
   "id": "73dfca24",
   "metadata": {},
   "source": [
    "1-sample 데이터"
   ]
  },
  {
   "cell_type": "code",
   "execution_count": 23,
   "id": "33325c10",
   "metadata": {},
   "outputs": [
    {
     "name": "stdout",
     "output_type": "stream",
     "text": [
      "ShapiroResult(statistic=0.9788166284561157, pvalue=0.1074606254696846)\n",
      "Shapiro-Wilk Test : statistic: 0.9788166284561157, p=0.1074606254696846\n"
     ]
    }
   ],
   "source": [
    "ds_camshaft = pd.read_csv(\"./실습화일/1 Big Data 분석 기초/camshaft.csv\")\n",
    "\n",
    "data1 = ds_camshaft['Supp1']\n",
    "print(stats.shapiro(data1))\n",
    "\n",
    "# 정규성 검정  같은내용\n",
    "statistic, p = stats.shapiro(ds_camshaft['Supp1'])\n",
    "print('Shapiro-Wilk Test : statistic: {}, p={}'.format(statistic,p))"
   ]
  },
  {
   "cell_type": "markdown",
   "id": "5a4c5f13",
   "metadata": {},
   "source": [
    "2-sample 데이터"
   ]
  },
  {
   "cell_type": "code",
   "execution_count": 24,
   "id": "3e80249e",
   "metadata": {},
   "outputs": [
    {
     "data": {
      "text/html": [
       "<div>\n",
       "<style scoped>\n",
       "    .dataframe tbody tr th:only-of-type {\n",
       "        vertical-align: middle;\n",
       "    }\n",
       "\n",
       "    .dataframe tbody tr th {\n",
       "        vertical-align: top;\n",
       "    }\n",
       "\n",
       "    .dataframe thead th {\n",
       "        text-align: right;\n",
       "    }\n",
       "</style>\n",
       "<table border=\"1\" class=\"dataframe\">\n",
       "  <thead>\n",
       "    <tr style=\"text-align: right;\">\n",
       "      <th></th>\n",
       "      <th>Mat_A</th>\n",
       "      <th>Mat_B</th>\n",
       "      <th>Total</th>\n",
       "      <th>Sub</th>\n",
       "    </tr>\n",
       "  </thead>\n",
       "  <tbody>\n",
       "    <tr>\n",
       "      <th>0</th>\n",
       "      <td>73.4</td>\n",
       "      <td>68.7</td>\n",
       "      <td>73.4</td>\n",
       "      <td>1</td>\n",
       "    </tr>\n",
       "    <tr>\n",
       "      <th>1</th>\n",
       "      <td>77.0</td>\n",
       "      <td>71.4</td>\n",
       "      <td>77.0</td>\n",
       "      <td>1</td>\n",
       "    </tr>\n",
       "    <tr>\n",
       "      <th>2</th>\n",
       "      <td>73.7</td>\n",
       "      <td>69.8</td>\n",
       "      <td>73.7</td>\n",
       "      <td>1</td>\n",
       "    </tr>\n",
       "    <tr>\n",
       "      <th>3</th>\n",
       "      <td>73.3</td>\n",
       "      <td>75.3</td>\n",
       "      <td>73.3</td>\n",
       "      <td>1</td>\n",
       "    </tr>\n",
       "    <tr>\n",
       "      <th>4</th>\n",
       "      <td>73.1</td>\n",
       "      <td>71.3</td>\n",
       "      <td>73.1</td>\n",
       "      <td>1</td>\n",
       "    </tr>\n",
       "  </tbody>\n",
       "</table>\n",
       "</div>"
      ],
      "text/plain": [
       "   Mat_A  Mat_B  Total  Sub\n",
       "0   73.4   68.7   73.4    1\n",
       "1   77.0   71.4   77.0    1\n",
       "2   73.7   69.8   73.7    1\n",
       "3   73.3   75.3   73.3    1\n",
       "4   73.1   71.3   73.1    1"
      ]
     },
     "metadata": {},
     "output_type": "display_data"
    },
    {
     "name": "stdout",
     "output_type": "stream",
     "text": [
      "nan\n",
      "Mat_A Shapiro-Wilk 검정 결과 - statistic: nan, p-value: 1.000\n",
      "Mat_B Shapiro-Wilk 검정 결과 - statistic: nan, p-value: 1.000\n"
     ]
    }
   ],
   "source": [
    "ds = pd.read_csv(\"./실습화일/1 Big Data 분석 기초/2sample_t_test.csv\")\n",
    "display(ds.head())\n",
    "\n",
    "\n",
    "# Mat_A 변수의 정규성 검정\n",
    "statistic, p_value = stats.shapiro(ds['Mat_A'])\n",
    "print(statistic)\n",
    "print('Mat_A Shapiro-Wilk 검정 결과 - statistic: %.3f, p-value: %.3f' % (statistic, p_value))\n",
    "\n",
    "# Mat_B 변수의 정규성 검정\n",
    "statistic, p_value = stats.shapiro(ds['Mat_B'])\n",
    "print('Mat_B Shapiro-Wilk 검정 결과 - statistic: %.3f, p-value: %.3f' % (statistic, p_value))"
   ]
  },
  {
   "cell_type": "markdown",
   "id": "66eccad2",
   "metadata": {},
   "source": [
    "# 2. 1-Sample t-test"
   ]
  },
  {
   "cell_type": "code",
   "execution_count": 25,
   "id": "ae134774",
   "metadata": {},
   "outputs": [
    {
     "name": "stdout",
     "output_type": "stream",
     "text": [
      "statistic=0.9331594705581665, p=0.4796782433986664\n",
      "1-Sample t-test\n",
      "t 통계량: [0.864]\n",
      "p-value: [0.41]\n"
     ]
    },
    {
     "data": {
      "image/png": "[encoded data removed]",
      "text/plain": [
       "<Figure size 640x480 with 1 Axes>"
      ]
     },
     "metadata": {},
     "output_type": "display_data"
    }
   ],
   "source": [
    "df = pd.DataFrame({'sample':[74.5, 81.2, 73.8, 82.0, 76.3, 75.7, 80.2, 72.6, 77.9, 82.8]})\n",
    "df.boxplot(['sample'])\n",
    "\n",
    "#정규성 검정\n",
    "statistic, p = stats.shapiro(df['sample'])\n",
    "print(\"statistic={}, p={}\".format(statistic,p))\n",
    "\n",
    "# 1-Sample ttest\n",
    "t_result = stats.ttest_1samp(df,76.7)\n",
    "t, p = t_result.statistic.round(3),t_result.pvalue.round(3)\n",
    "\n",
    "print(\"1-Sample t-test\")\n",
    "print(\"t 통계량: {}\".format(t))\n",
    "print(\"p-value: {}\".format(p))"
   ]
  },
  {
   "cell_type": "markdown",
   "id": "ddbe9adf",
   "metadata": {},
   "source": [
    "결론 : 검정결과 P값이 0.41 이므로 개선활동이 고객만족도 변화를 시켰다고 할 수 없다."
   ]
  },
  {
   "cell_type": "markdown",
   "id": "b7c22b2c",
   "metadata": {},
   "source": [
    "# 3. 2-Sample t-test"
   ]
  },
  {
   "cell_type": "code",
   "execution_count": 26,
   "id": "6d19f963",
   "metadata": {},
   "outputs": [
    {
     "name": "stdout",
     "output_type": "stream",
     "text": [
      "statistic=0.9094840288162231, p=0.06230909377336502\n",
      "statistic=0.8978102207183838, p=0.03752618283033371\n",
      "2-sample t-test\n",
      "t: -3.122\n",
      "p: 0.003\n"
     ]
    },
    {
     "data": {
      "image/png": "[encoded data removed]",
      "text/plain": [
       "<Figure size 640x480 with 1 Axes>"
      ]
     },
     "metadata": {},
     "output_type": "display_data"
    }
   ],
   "source": [
    "df = pd.DataFrame({'A':[6,5,5,4,6,7,6,4,5,6,4,5,5,6,4,8,6,5,6,7],\n",
    "                  'B':[7,5,7,8,7,8,8,5,7,6,5,5,6,6,5,7,9,7,7,8]})\n",
    "df.boxplot(['A','B'])\n",
    "\n",
    "#정규성 검정\n",
    "statistic, p = stats.shapiro(df['A'])\n",
    "print(\"statistic={}, p={}\".format(statistic,p))\n",
    "statistic, p = stats.shapiro(df['B'])\n",
    "print(\"statistic={}, p={}\".format(statistic,p))\n",
    "\n",
    "# 등분산성 검정\n",
    "stats.bartlett(df['A'],df['B'])\n",
    "\n",
    "# 2-Sample t-test\n",
    "t_result = stats.ttest_ind(df['A'], df['B'])\n",
    "t, p = t_result.statistic.round(3), t_result.pvalue.round(3)\n",
    "\n",
    "print(\"2-sample t-test\")\n",
    "print(\"t: {}\".format(t))\n",
    "print(\"p: {}\".format(p))"
   ]
  },
  {
   "cell_type": "markdown",
   "id": "21de43eb",
   "metadata": {},
   "source": [
    "검정결과 P값이 0.003이므로 고객간의 고객만족도의 차이가 있다."
   ]
  },
  {
   "cell_type": "markdown",
   "id": "51489e60",
   "metadata": {},
   "source": [
    "# 4. paired t-test"
   ]
  },
  {
   "cell_type": "code",
   "execution_count": 27,
   "id": "dd6a920d",
   "metadata": {},
   "outputs": [
    {
     "name": "stdout",
     "output_type": "stream",
     "text": [
      "Paired t-test\n",
      "t: [-5.324]\n",
      "p: [0.]\n"
     ]
    }
   ],
   "source": [
    "df1 = pd.DataFrame({'before':[720,589,780,648,720,589,780,648,780,648]})\n",
    "df2 = pd.DataFrame({'after':[810,670,790,712,810,670,790,712,790,712]})\n",
    "\n",
    "t_result = stats.ttest_rel(df1, df2)\n",
    "t, p = t_result.statistic.round(3), t_result.pvalue.round(3)\n",
    "\n",
    "print(\"Paired t-test\")\n",
    "print(\"t: {}\".format(t))\n",
    "print(\"p: {}\".format(p))"
   ]
  },
  {
   "cell_type": "markdown",
   "id": "7799d3d6",
   "metadata": {},
   "source": [
    "검정결과 P값이 0.000 이므로 학원 수강 전후의 점수는 차이가 있다고 할 수 있다."
   ]
  },
  {
   "cell_type": "markdown",
   "id": "6174e52a",
   "metadata": {},
   "source": [
    "# 5. 1 proportion test"
   ]
  },
  {
   "cell_type": "code",
   "execution_count": 28,
   "id": "6db62878",
   "metadata": {},
   "outputs": [
    {
     "name": "stdout",
     "output_type": "stream",
     "text": [
      "1 proportion test\n",
      "z: 1.400\n",
      "p: 0.161\n"
     ]
    }
   ],
   "source": [
    "count = 15\n",
    "n_obs = 100\n",
    "value = 0.1\n",
    "\n",
    "stat, pval = proportions_ztest(count, n_obs, value)\n",
    "\n",
    "print(\"1 proportion test\")\n",
    "print(\"z: {0:0.3f}\".format(stat))\n",
    "print(\"p: {0:0.3f}\".format(pval))"
   ]
  },
  {
   "cell_type": "markdown",
   "id": "724248a7",
   "metadata": {},
   "source": [
    "결과적으로 고급강 A제품에 대해 품질개선 결과 기존 대비 사용비율이 차이가 있다고 할 수 없다."
   ]
  },
  {
   "cell_type": "markdown",
   "id": "b3610216",
   "metadata": {},
   "source": [
    "# 6. 2 proportion test"
   ]
  },
  {
   "cell_type": "code",
   "execution_count": 29,
   "id": "749fdaa2",
   "metadata": {},
   "outputs": [
    {
     "name": "stdout",
     "output_type": "stream",
     "text": [
      "2 proportion test\n",
      "z: 1.553\n",
      "p: 0.120\n"
     ]
    }
   ],
   "source": [
    "count = np.array([4,1])\n",
    "nobs = np.array([1000,1200])\n",
    "\n",
    "stat, pval = proportions_ztest(count, nobs)\n",
    "\n",
    "print(\"2 proportion test\")\n",
    "print(\"z: {0:0.3f}\".format(stat))\n",
    "print(\"p: {0:0.3f}\".format(pval))"
   ]
  },
  {
   "cell_type": "markdown",
   "id": "0a0bbf1c",
   "metadata": {},
   "source": [
    "P-Value>0.05 이므로 두 공장의 불량률은 차이가 있다고 할 수 없다"
   ]
  },
  {
   "cell_type": "markdown",
   "id": "75a9c659",
   "metadata": {},
   "source": [
    "# 7. chi-square test"
   ]
  },
  {
   "cell_type": "code",
   "execution_count": 30,
   "id": "26c8f551",
   "metadata": {},
   "outputs": [],
   "source": [
    "# 카이제곱 검정은 관찰된 빈도와 기대되는 빈도 사이의 차이를 평가하여 분포의 적합도를 평가하는 반면,\n",
    "# proportions_ztest는 두 그룹의 비율 차이를 평가합니다."
   ]
  },
  {
   "cell_type": "code",
   "execution_count": 31,
   "id": "d88cad1b",
   "metadata": {},
   "outputs": [
    {
     "name": "stdout",
     "output_type": "stream",
     "text": [
      "카이제곱 검정\n",
      "chisq: 13.366\n",
      "p: 0.038\n",
      "degree of freedom: 6\n",
      "expected value: \n",
      "[[258.333 276.333 230.667 234.667]\n",
      " [258.333 276.333 230.667 234.667]\n",
      " [258.333 276.333 230.667 234.667]]\n"
     ]
    }
   ],
   "source": [
    "df = pd.DataFrame({'Work_1':[270,228,277], 'Work_2':[260,285,284],\n",
    "                   'Work_3':[236,225,231], 'Work_4':[234,262,208]})\n",
    "\n",
    "chi, pval, dof, expected = stats.chi2_contingency(df)\n",
    "\n",
    "print(\"카이제곱 검정\")\n",
    "print(\"chisq: {0:0.3f}\".format(chi))\n",
    "print(\"p: {0:0.3f}\".format(pval))\n",
    "print(\"degree of freedom: {}\".format(dof))\n",
    "print(\"expected value: \\n{}\".format(expected.round(3)))"
   ]
  },
  {
   "cell_type": "markdown",
   "id": "2b486fac",
   "metadata": {},
   "source": [
    "근무조별로 제품을 생산하는 부하 차이가 있다고 할 수 있다"
   ]
  },
  {
   "cell_type": "markdown",
   "id": "b3829a39",
   "metadata": {},
   "source": [
    "# 8. ANOVA test"
   ]
  },
  {
   "cell_type": "code",
   "execution_count": 33,
   "id": "dc5cadc8",
   "metadata": {},
   "outputs": [
    {
     "name": "stdout",
     "output_type": "stream",
     "text": [
      "Shapiro-Wilk Test : statistic: 0.9293239712715149, p=0.4412756860256195\n",
      "Shapiro-Wilk Test : statistic: 0.924264669418335, p=0.39389991760253906\n",
      "Shapiro-Wilk Test : statistic: 0.7892211675643921, p=0.010720876976847649\n",
      "타입 별 One-way\n",
      "F 통계량: 4.263\n",
      "p-value: 0.025\n"
     ]
    }
   ],
   "source": [
    "df = pd.DataFrame({'A':[892,623,721,678,723,790,720,670,690,771],\n",
    "                  'B':[721,821,910,678,723,790,711,790,745,891],\n",
    "                  'C':[621,915,888,721,894,834,841,912,845,889]})\n",
    "\n",
    "# 정규성 검정\n",
    "statistic, p = stats.shapiro(df['A'])\n",
    "print('Shapiro-Wilk Test : statistic: {}, p={}'.format(statistic,p))\n",
    "statistic, p = stats.shapiro(df['B'])\n",
    "print('Shapiro-Wilk Test : statistic: {}, p={}'.format(statistic,p))\n",
    "statistic, p = stats.shapiro(df['C'])\n",
    "print('Shapiro-Wilk Test : statistic: {}, p={}'.format(statistic,p))\n",
    "\n",
    "# 등분산성 검정 : Levene Test\n",
    "stats.levene(df['A'],df['B'],df['C'])\n",
    "\n",
    "# ANOVA 실행\n",
    "f_result = stats.f_oneway(df['A'],df['B'],df['C'])\n",
    "f, p = f_result.statistic.round(3), f_result.pvalue.round(3)\n",
    "\n",
    "\n",
    "print(\"타입 별 One-way\")\n",
    "print(\"F 통계량: {}\".format(f))\n",
    "print(\"p-value: {}\".format(p))"
   ]
  },
  {
   "cell_type": "markdown",
   "id": "d048cbb6",
   "metadata": {},
   "source": [
    "검정결과 P값이 0.025이므로 그룹 간의 평균 차이가 있다고 할 수 있다"
   ]
  },
  {
   "cell_type": "markdown",
   "id": "38d37416",
   "metadata": {},
   "source": [
    "# 9. Correlation Coefficient(상관계수)"
   ]
  },
  {
   "cell_type": "code",
   "execution_count": 35,
   "id": "a8cc214f",
   "metadata": {},
   "outputs": [
    {
     "name": "stdout",
     "output_type": "stream",
     "text": [
      "Correlation Analysis\n",
      "corr: 0.989\n",
      "p-value: 0.000\n"
     ]
    }
   ],
   "source": [
    "df1 = [1,2,3,4,4,5,6,6,7,8]\n",
    "df2 = [23,29,49,64,74,87,96,97,109,119]\n",
    "\n",
    "corr, pval = stats.pearsonr(df1, df2)\n",
    "\n",
    "print(\"Correlation Analysis\")\n",
    "print(\"corr: {0:0.3f}\".format(corr))\n",
    "print(\"p-value: {0:0.3f}\".format(pval))"
   ]
  },
  {
   "cell_type": "markdown",
   "id": "4d1aaa95",
   "metadata": {},
   "source": [
    "부품수리시간과 부품수간에 \"매우 강한 상관성\" 이 있다고 할 수 있다"
   ]
  }
 ],
 "metadata": {
  "kernelspec": {
   "display_name": "Python 3 (ipykernel)",
   "language": "python",
   "name": "python3"
  },
  "language_info": {
   "codemirror_mode": {
    "name": "ipython",
    "version": 3
   },
   "file_extension": ".py",
   "mimetype": "text/x-python",
   "name": "python",
   "nbconvert_exporter": "python",
   "pygments_lexer": "ipython3",
   "version": "3.10.9"
  }
 },
 "nbformat": 4,
 "nbformat_minor": 5
}
