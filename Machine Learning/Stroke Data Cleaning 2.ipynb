{
 "cells": [
  {
   "cell_type": "markdown",
   "metadata": {
    "id": "NxXaTbLQ28FN"
   },
   "source": [
    "# 5.2.1 데이터 추가 처리\n"
   ]
  },
  {
   "cell_type": "code",
   "execution_count": 1,
   "metadata": {
    "colab": {
     "base_uri": "https://localhost:8080/"
    },
    "executionInfo": {
     "elapsed": 978,
     "status": "ok",
     "timestamp": 1662435277274,
     "user": {
      "displayName": "Jason SJ Yim",
      "userId": "00334139127424328539"
     },
     "user_tz": -540
    },
    "id": "5rZ5klwr28FP",
    "outputId": "70689232-2bfb-4fb5-9f0b-d9395a98b482"
   },
   "outputs": [
    {
     "data": {
      "text/plain": [
       "(199848, 10)"
      ]
     },
     "execution_count": 1,
     "metadata": {},
     "output_type": "execute_result"
    }
   ],
   "source": [
    "import pandas as pd\n",
    "import numpy as np\n",
    "pd.set_option('display.max_columns', None)\n",
    "pd.set_option('display.max_rows', None)\n",
    "df = pd.read_csv('./dataset/crab2.csv')\n",
    "df.shape"
   ]
  },
  {
   "cell_type": "code",
   "execution_count": 2,
   "metadata": {},
   "outputs": [
    {
     "data": {
      "text/html": [
       "<div>\n",
       "<style scoped>\n",
       "    .dataframe tbody tr th:only-of-type {\n",
       "        vertical-align: middle;\n",
       "    }\n",
       "\n",
       "    .dataframe tbody tr th {\n",
       "        vertical-align: top;\n",
       "    }\n",
       "\n",
       "    .dataframe thead th {\n",
       "        text-align: right;\n",
       "    }\n",
       "</style>\n",
       "<table border=\"1\" class=\"dataframe\">\n",
       "  <thead>\n",
       "    <tr style=\"text-align: right;\">\n",
       "      <th></th>\n",
       "      <th>id</th>\n",
       "      <th>Sex</th>\n",
       "      <th>Length</th>\n",
       "      <th>Diameter</th>\n",
       "      <th>Height</th>\n",
       "      <th>Weight</th>\n",
       "      <th>Shucked Weight</th>\n",
       "      <th>Viscera Weight</th>\n",
       "      <th>Shell Weight</th>\n",
       "      <th>Age</th>\n",
       "    </tr>\n",
       "  </thead>\n",
       "  <tbody>\n",
       "    <tr>\n",
       "      <th>0</th>\n",
       "      <td>0</td>\n",
       "      <td>M</td>\n",
       "      <td>1.5750</td>\n",
       "      <td>1.2250</td>\n",
       "      <td>0.3750</td>\n",
       "      <td>31.226974</td>\n",
       "      <td>12.303683</td>\n",
       "      <td>6.321938</td>\n",
       "      <td>9.638830</td>\n",
       "      <td>노게</td>\n",
       "    </tr>\n",
       "    <tr>\n",
       "      <th>1</th>\n",
       "      <td>1</td>\n",
       "      <td>I</td>\n",
       "      <td>1.2375</td>\n",
       "      <td>1.0000</td>\n",
       "      <td>0.3750</td>\n",
       "      <td>21.885814</td>\n",
       "      <td>7.654365</td>\n",
       "      <td>3.798833</td>\n",
       "      <td>7.654365</td>\n",
       "      <td>노게</td>\n",
       "    </tr>\n",
       "    <tr>\n",
       "      <th>2</th>\n",
       "      <td>2</td>\n",
       "      <td>F</td>\n",
       "      <td>1.4500</td>\n",
       "      <td>1.1625</td>\n",
       "      <td>0.4125</td>\n",
       "      <td>28.250277</td>\n",
       "      <td>11.127179</td>\n",
       "      <td>7.016501</td>\n",
       "      <td>7.257472</td>\n",
       "      <td>노게</td>\n",
       "    </tr>\n",
       "    <tr>\n",
       "      <th>3</th>\n",
       "      <td>3</td>\n",
       "      <td>I</td>\n",
       "      <td>1.3500</td>\n",
       "      <td>1.0250</td>\n",
       "      <td>0.3750</td>\n",
       "      <td>21.588144</td>\n",
       "      <td>9.738053</td>\n",
       "      <td>4.110678</td>\n",
       "      <td>6.378637</td>\n",
       "      <td>성게</td>\n",
       "    </tr>\n",
       "    <tr>\n",
       "      <th>4</th>\n",
       "      <td>4</td>\n",
       "      <td>I</td>\n",
       "      <td>1.1375</td>\n",
       "      <td>0.8750</td>\n",
       "      <td>0.2875</td>\n",
       "      <td>14.968536</td>\n",
       "      <td>5.953395</td>\n",
       "      <td>2.962523</td>\n",
       "      <td>3.713785</td>\n",
       "      <td>성게</td>\n",
       "    </tr>\n",
       "    <tr>\n",
       "      <th>5</th>\n",
       "      <td>5</td>\n",
       "      <td>F</td>\n",
       "      <td>1.4875</td>\n",
       "      <td>1.1875</td>\n",
       "      <td>0.4000</td>\n",
       "      <td>28.335325</td>\n",
       "      <td>12.048538</td>\n",
       "      <td>7.668540</td>\n",
       "      <td>8.504850</td>\n",
       "      <td>노게</td>\n",
       "    </tr>\n",
       "    <tr>\n",
       "      <th>6</th>\n",
       "      <td>6</td>\n",
       "      <td>M</td>\n",
       "      <td>1.5250</td>\n",
       "      <td>1.1875</td>\n",
       "      <td>0.4375</td>\n",
       "      <td>31.581343</td>\n",
       "      <td>11.382324</td>\n",
       "      <td>7.980384</td>\n",
       "      <td>9.213587</td>\n",
       "      <td>노게</td>\n",
       "    </tr>\n",
       "    <tr>\n",
       "      <th>7</th>\n",
       "      <td>7</td>\n",
       "      <td>M</td>\n",
       "      <td>1.6250</td>\n",
       "      <td>1.2875</td>\n",
       "      <td>0.4375</td>\n",
       "      <td>42.212406</td>\n",
       "      <td>17.704263</td>\n",
       "      <td>8.660772</td>\n",
       "      <td>11.339800</td>\n",
       "      <td>노게</td>\n",
       "    </tr>\n",
       "    <tr>\n",
       "      <th>8</th>\n",
       "      <td>8</td>\n",
       "      <td>M</td>\n",
       "      <td>1.3375</td>\n",
       "      <td>1.0500</td>\n",
       "      <td>0.3875</td>\n",
       "      <td>23.090668</td>\n",
       "      <td>12.048538</td>\n",
       "      <td>4.379998</td>\n",
       "      <td>6.038443</td>\n",
       "      <td>성게</td>\n",
       "    </tr>\n",
       "    <tr>\n",
       "      <th>9</th>\n",
       "      <td>9</td>\n",
       "      <td>F</td>\n",
       "      <td>1.3375</td>\n",
       "      <td>1.0125</td>\n",
       "      <td>0.3375</td>\n",
       "      <td>18.313777</td>\n",
       "      <td>8.944267</td>\n",
       "      <td>4.195726</td>\n",
       "      <td>5.953395</td>\n",
       "      <td>노게</td>\n",
       "    </tr>\n",
       "  </tbody>\n",
       "</table>\n",
       "</div>"
      ],
      "text/plain": [
       "   id Sex  Length  Diameter  Height     Weight  Shucked Weight  \\\n",
       "0   0   M  1.5750    1.2250  0.3750  31.226974       12.303683   \n",
       "1   1   I  1.2375    1.0000  0.3750  21.885814        7.654365   \n",
       "2   2   F  1.4500    1.1625  0.4125  28.250277       11.127179   \n",
       "3   3   I  1.3500    1.0250  0.3750  21.588144        9.738053   \n",
       "4   4   I  1.1375    0.8750  0.2875  14.968536        5.953395   \n",
       "5   5   F  1.4875    1.1875  0.4000  28.335325       12.048538   \n",
       "6   6   M  1.5250    1.1875  0.4375  31.581343       11.382324   \n",
       "7   7   M  1.6250    1.2875  0.4375  42.212406       17.704263   \n",
       "8   8   M  1.3375    1.0500  0.3875  23.090668       12.048538   \n",
       "9   9   F  1.3375    1.0125  0.3375  18.313777        8.944267   \n",
       "\n",
       "   Viscera Weight  Shell Weight Age  \n",
       "0        6.321938      9.638830  노게  \n",
       "1        3.798833      7.654365  노게  \n",
       "2        7.016501      7.257472  노게  \n",
       "3        4.110678      6.378637  성게  \n",
       "4        2.962523      3.713785  성게  \n",
       "5        7.668540      8.504850  노게  \n",
       "6        7.980384      9.213587  노게  \n",
       "7        8.660772     11.339800  노게  \n",
       "8        4.379998      6.038443  성게  \n",
       "9        4.195726      5.953395  노게  "
      ]
     },
     "execution_count": 2,
     "metadata": {},
     "output_type": "execute_result"
    }
   ],
   "source": [
    "df.head(10)"
   ]
  },
  {
   "cell_type": "code",
   "execution_count": 3,
   "metadata": {
    "id": "PCoK3J_K28FR",
    "outputId": "86b7f0b9-01b0-44c6-9863-6431856427e0"
   },
   "outputs": [
    {
     "data": {
      "text/plain": [
       "id                  int64\n",
       "Sex                object\n",
       "Length            float64\n",
       "Diameter          float64\n",
       "Height            float64\n",
       "Weight            float64\n",
       "Shucked Weight    float64\n",
       "Viscera Weight    float64\n",
       "Shell Weight      float64\n",
       "Age                object\n",
       "dtype: object"
      ]
     },
     "execution_count": 3,
     "metadata": {},
     "output_type": "execute_result"
    }
   ],
   "source": [
    "df.dtypes"
   ]
  },
  {
   "cell_type": "code",
   "execution_count": 4,
   "metadata": {
    "id": "WiljWY_b28FR",
    "outputId": "d8307a52-c54a-4db7-8386-eb92c2584c99"
   },
   "outputs": [
    {
     "data": {
      "text/plain": [
       "노게    100575\n",
       "성게     99273\n",
       "Name: Age, dtype: int64"
      ]
     },
     "execution_count": 4,
     "metadata": {},
     "output_type": "execute_result"
    }
   ],
   "source": [
    "df['Age'].value_counts(dropna=False)   # 개수 기준 분포 구하기"
   ]
  },
  {
   "cell_type": "code",
   "execution_count": 5,
   "metadata": {
    "id": "xiFCrOUu28FS",
    "outputId": "187fbfb4-f5df-467e-d704-d05997371811"
   },
   "outputs": [
    {
     "data": {
      "text/plain": [
       "노게    0.503257\n",
       "성게    0.496743\n",
       "Name: Age, dtype: float64"
      ]
     },
     "execution_count": 5,
     "metadata": {},
     "output_type": "execute_result"
    }
   ],
   "source": [
    "# 참조 코딩\n",
    "df['Age'].value_counts(dropna=False, normalize=True)   # 분포 기준 분포 구하기"
   ]
  },
  {
   "cell_type": "code",
   "execution_count": 6,
   "metadata": {
    "id": "_sR4GVXr28FS",
    "outputId": "f4d82984-4d29-4dd4-b6cb-04b885901210"
   },
   "outputs": [
    {
     "name": "stdout",
     "output_type": "stream",
     "text": [
      "\n",
      "---- Sex ---\n",
      "M    0.361585\n",
      "I    0.332713\n",
      "F    0.305702\n",
      "Name: Sex, dtype: float64\n"
     ]
    }
   ],
   "source": [
    "# 범주형 변수를 cols1에 저장\n",
    "cols1 = ['Sex']\n",
    "df1 = df[cols1]   # 범주형 변수만 모은 cols1로 구성된 데이터프레임 df1을 생성\n",
    "\n",
    "# 데이터프레임 df1안의 컬럼명을 순차적으로 value_counts() 구문에 넣어서 결과 출력\n",
    "for col in df1.columns:\n",
    "    print (\"\") \n",
    "    print (\"---- %s ---\" % col)\n",
    "    print (df[col].value_counts(dropna=False, normalize=True))  "
   ]
  },
  {
   "cell_type": "code",
   "execution_count": 7,
   "metadata": {
    "id": "I3rpVdND28FT",
    "outputId": "6ef5475f-0c2c-473c-e1d3-6075a537ea63"
   },
   "outputs": [
    {
     "data": {
      "text/plain": [
       "['id',\n",
       " 'Sex',\n",
       " 'Length',\n",
       " 'Diameter',\n",
       " 'Height',\n",
       " 'Weight',\n",
       " 'Shucked Weight',\n",
       " 'Viscera Weight',\n",
       " 'Shell Weight',\n",
       " 'Age']"
      ]
     },
     "execution_count": 7,
     "metadata": {},
     "output_type": "execute_result"
    }
   ],
   "source": [
    "# 참조 코딩\n",
    "list(df.columns)"
   ]
  },
  {
   "cell_type": "code",
   "execution_count": 13,
   "metadata": {},
   "outputs": [],
   "source": [
    "df_dummy = pd.get_dummies(df)"
   ]
  },
  {
   "cell_type": "code",
   "execution_count": null,
   "metadata": {},
   "outputs": [],
   "source": [
    "df.drop()"
   ]
  },
  {
   "cell_type": "code",
   "execution_count": 14,
   "metadata": {},
   "outputs": [
    {
     "data": {
      "text/html": [
       "<div>\n",
       "<style scoped>\n",
       "    .dataframe tbody tr th:only-of-type {\n",
       "        vertical-align: middle;\n",
       "    }\n",
       "\n",
       "    .dataframe tbody tr th {\n",
       "        vertical-align: top;\n",
       "    }\n",
       "\n",
       "    .dataframe thead th {\n",
       "        text-align: right;\n",
       "    }\n",
       "</style>\n",
       "<table border=\"1\" class=\"dataframe\">\n",
       "  <thead>\n",
       "    <tr style=\"text-align: right;\">\n",
       "      <th></th>\n",
       "      <th>id</th>\n",
       "      <th>Length</th>\n",
       "      <th>Diameter</th>\n",
       "      <th>Height</th>\n",
       "      <th>Weight</th>\n",
       "      <th>Shucked Weight</th>\n",
       "      <th>Viscera Weight</th>\n",
       "      <th>Shell Weight</th>\n",
       "      <th>Sex_I</th>\n",
       "      <th>Sex_M</th>\n",
       "      <th>Age_성게</th>\n",
       "    </tr>\n",
       "  </thead>\n",
       "  <tbody>\n",
       "    <tr>\n",
       "      <th>0</th>\n",
       "      <td>0</td>\n",
       "      <td>1.5750</td>\n",
       "      <td>1.2250</td>\n",
       "      <td>0.3750</td>\n",
       "      <td>31.226974</td>\n",
       "      <td>12.303683</td>\n",
       "      <td>6.321938</td>\n",
       "      <td>9.638830</td>\n",
       "      <td>0</td>\n",
       "      <td>1</td>\n",
       "      <td>0</td>\n",
       "    </tr>\n",
       "    <tr>\n",
       "      <th>1</th>\n",
       "      <td>1</td>\n",
       "      <td>1.2375</td>\n",
       "      <td>1.0000</td>\n",
       "      <td>0.3750</td>\n",
       "      <td>21.885814</td>\n",
       "      <td>7.654365</td>\n",
       "      <td>3.798833</td>\n",
       "      <td>7.654365</td>\n",
       "      <td>1</td>\n",
       "      <td>0</td>\n",
       "      <td>0</td>\n",
       "    </tr>\n",
       "    <tr>\n",
       "      <th>2</th>\n",
       "      <td>2</td>\n",
       "      <td>1.4500</td>\n",
       "      <td>1.1625</td>\n",
       "      <td>0.4125</td>\n",
       "      <td>28.250277</td>\n",
       "      <td>11.127179</td>\n",
       "      <td>7.016501</td>\n",
       "      <td>7.257472</td>\n",
       "      <td>0</td>\n",
       "      <td>0</td>\n",
       "      <td>0</td>\n",
       "    </tr>\n",
       "    <tr>\n",
       "      <th>3</th>\n",
       "      <td>3</td>\n",
       "      <td>1.3500</td>\n",
       "      <td>1.0250</td>\n",
       "      <td>0.3750</td>\n",
       "      <td>21.588144</td>\n",
       "      <td>9.738053</td>\n",
       "      <td>4.110678</td>\n",
       "      <td>6.378637</td>\n",
       "      <td>1</td>\n",
       "      <td>0</td>\n",
       "      <td>1</td>\n",
       "    </tr>\n",
       "  </tbody>\n",
       "</table>\n",
       "</div>"
      ],
      "text/plain": [
       "   id  Length  Diameter  Height     Weight  Shucked Weight  Viscera Weight  \\\n",
       "0   0  1.5750    1.2250  0.3750  31.226974       12.303683        6.321938   \n",
       "1   1  1.2375    1.0000  0.3750  21.885814        7.654365        3.798833   \n",
       "2   2  1.4500    1.1625  0.4125  28.250277       11.127179        7.016501   \n",
       "3   3  1.3500    1.0250  0.3750  21.588144        9.738053        4.110678   \n",
       "\n",
       "   Shell Weight  Sex_I  Sex_M  Age_성게  \n",
       "0      9.638830      0      1       0  \n",
       "1      7.654365      1      0       0  \n",
       "2      7.257472      0      0       0  \n",
       "3      6.378637      1      0       1  "
      ]
     },
     "execution_count": 14,
     "metadata": {},
     "output_type": "execute_result"
    }
   ],
   "source": [
    "df_dummy.head(4)"
   ]
  },
  {
   "cell_type": "code",
   "execution_count": 126,
   "metadata": {
    "scrolled": true
   },
   "outputs": [],
   "source": [
    "# # 노게 : 0     성게 :1\n",
    "# from sklearn.preprocessing import LabelEncoder   # OrdinalEncoder를 import\n",
    "# df['Age'] = LabelEncoder().fit_transform(df['Age'])"
   ]
  },
  {
   "cell_type": "code",
   "execution_count": 128,
   "metadata": {},
   "outputs": [],
   "source": [
    "# # F:0 , I:1,  M :2\n",
    "# from sklearn.preprocessing import LabelEncoder   \n",
    "# df['Sex'] = LabelEncoder().fit_transform(df['Sex'])"
   ]
  },
  {
   "cell_type": "code",
   "execution_count": 129,
   "metadata": {
    "id": "5zMIOw8J28FW",
    "outputId": "bbbcb297-aea6-4d80-ce52-b98a4798352f"
   },
   "outputs": [],
   "source": [
    "# 타겟 변수보다는 범주형 feature 열을 인코딩할때 사용\n",
    "# from sklearn.preprocessing import OrdinalEncoder   # OrdinalEncoder를 import\n",
    "# df['Age'] = OrdinalEncoder().fit_transform(df['Age'].values.reshape(-1,1))"
   ]
  },
  {
   "cell_type": "code",
   "execution_count": 130,
   "metadata": {
    "id": "6lIMISlY28FX",
    "outputId": "a7799f88-0123-49c6-ef60-8650b0acb5a9"
   },
   "outputs": [],
   "source": [
    "# df['Age_1'] = OrdinalEncoder().fit_transform(df['Age'].values.reshape(-1,1))\n",
    "# df.groupby(['Age_1', 'Age']).size()   # 변경전후 변수값 비교표를 출력"
   ]
  },
  {
   "cell_type": "code",
   "execution_count": 16,
   "metadata": {
    "id": "Q-tYoCLd28FY",
    "outputId": "1fdd1ad9-8319-4d29-947e-782513598193",
    "scrolled": false
   },
   "outputs": [
    {
     "data": {
      "text/plain": [
       "Index(['id', 'Length', 'Diameter', 'Height', 'Weight', 'Shucked Weight',\n",
       "       'Viscera Weight', 'Shell Weight', 'Sex_I', 'Sex_M', 'Age_성게'],\n",
       "      dtype='object')"
      ]
     },
     "execution_count": 16,
     "metadata": {},
     "output_type": "execute_result"
    }
   ],
   "source": [
    "df_dummy.columns"
   ]
  },
  {
   "cell_type": "code",
   "execution_count": 17,
   "metadata": {
    "id": "sN6jT4W528FY"
   },
   "outputs": [],
   "source": [
    "# # drop(inplace=True)가 있는 구문은 한 번만 실행할 수 있습니다.\n",
    "# # 두번째 실행하면 이미 특정 변수명이 drop된 상태여서 에러를 발생합니다.\n",
    "# df.drop(['id','Age'],\n",
    "#         axis=1, inplace=True)   "
   ]
  },
  {
   "cell_type": "code",
   "execution_count": 22,
   "metadata": {
    "id": "blS_NyYE28FZ",
    "outputId": "6c46279a-0ccb-4cba-bc0c-368e75b762b5"
   },
   "outputs": [
    {
     "data": {
      "text/plain": [
       "(199848, 11)"
      ]
     },
     "execution_count": 22,
     "metadata": {},
     "output_type": "execute_result"
    }
   ],
   "source": [
    "df_dummy.shape"
   ]
  },
  {
   "cell_type": "code",
   "execution_count": 23,
   "metadata": {
    "id": "tRjJE0FP28FZ",
    "outputId": "84c7ee02-42e0-4b5b-e4e8-d7c44cac6334"
   },
   "outputs": [
    {
     "data": {
      "text/plain": [
       "Series([], dtype: bool)"
      ]
     },
     "execution_count": 23,
     "metadata": {},
     "output_type": "execute_result"
    }
   ],
   "source": [
    "df_dummy.isna().any()[lambda x: x]   # null value를 갖고 있는 변수명(컬럼명) 찾기"
   ]
  },
  {
   "cell_type": "code",
   "execution_count": 24,
   "metadata": {
    "id": "ssk9bTIG28FZ",
    "outputId": "a744efdb-5747-4bd8-d3f6-e8c2ba2ea071"
   },
   "outputs": [
    {
     "data": {
      "text/plain": [
       "0"
      ]
     },
     "execution_count": 24,
     "metadata": {},
     "output_type": "execute_result"
    }
   ],
   "source": [
    "df_dummy['Length'].isnull().sum()       # bmi의 결측값 개수 확인"
   ]
  },
  {
   "cell_type": "code",
   "execution_count": 26,
   "metadata": {
    "id": "vg3bfvzH28Fa"
   },
   "outputs": [],
   "source": [
    "df_dummy.to_csv('./dataset/crab3.csv', index=False)"
   ]
  },
  {
   "cell_type": "code",
   "execution_count": null,
   "metadata": {},
   "outputs": [],
   "source": []
  }
 ],
 "metadata": {
  "colab": {
   "collapsed_sections": [],
   "provenance": []
  },
  "kernelspec": {
   "display_name": "Python 3 (ipykernel)",
   "language": "python",
   "name": "python3"
  },
  "language_info": {
   "codemirror_mode": {
    "name": "ipython",
    "version": 3
   },
   "file_extension": ".py",
   "mimetype": "text/x-python",
   "name": "python",
   "nbconvert_exporter": "python",
   "pygments_lexer": "ipython3",
   "version": "3.10.9"
  }
 },
 "nbformat": 4,
 "nbformat_minor": 1
}
