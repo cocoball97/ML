{
 "cells": [
  {
   "cell_type": "code",
   "execution_count": 362,
   "id": "c4bcd9c0",
   "metadata": {
    "colab": {
     "base_uri": "https://localhost:8080/"
    },
    "executionInfo": {
     "elapsed": 2983,
     "status": "ok",
     "timestamp": 1661800950591,
     "user": {
      "displayName": "Jason SJ Yim",
      "userId": "00695299170620821850"
     },
     "user_tz": -540
    },
    "id": "c4bcd9c0",
    "outputId": "8e5c7aec-d77f-4233-f006-5fbe8442b881"
   },
   "outputs": [
    {
     "name": "stdout",
     "output_type": "stream",
     "text": [
      "Defaulting to user installation because normal site-packages is not writeable\n",
      "Requirement already satisfied: lightgbm in c:\\users\\administrator\\appdata\\roaming\\python\\python310\\site-packages (4.0.0)\n",
      "Requirement already satisfied: scipy in c:\\programdata\\anaconda3\\lib\\site-packages (from lightgbm) (1.10.0)\n",
      "Requirement already satisfied: numpy in c:\\programdata\\anaconda3\\lib\\site-packages (from lightgbm) (1.23.5)\n",
      "Note: you may need to restart the kernel to use updated packages.\n"
     ]
    }
   ],
   "source": [
    "pip install lightgbm"
   ]
  },
  {
   "cell_type": "code",
   "execution_count": 363,
   "id": "55cc730d",
   "metadata": {
    "colab": {
     "base_uri": "https://localhost:8080/"
    },
    "executionInfo": {
     "elapsed": 1712,
     "status": "ok",
     "timestamp": 1661875764701,
     "user": {
      "displayName": "Jason SJ Yim",
      "userId": "00334139127424328539"
     },
     "user_tz": -540
    },
    "id": "55cc730d",
    "outputId": "c3b27a1a-d20f-4ed6-b2c7-7b02098505e7"
   },
   "outputs": [
    {
     "name": "stderr",
     "output_type": "stream",
     "text": [
      "C:\\Users\\Administrator\\AppData\\Local\\Temp\\ipykernel_20084\\2680870450.py:8: DtypeWarning: Columns (4,6,7,8,9,10,11,12,13,14,15,16,17,18,20,21,22,24,25,26,27,28,29,30,32,33,34,35,36,37,38,40,41,42,44,45,46,47,48,49,50,52,53,54,56,57,58,59,60,61,62,64,65,66,68,69,70,72,73,74,76,77,78,79,80,81,83,84,86,89,102,103,104,105,106,107,109,110,124,125,126,127,128,129,130,131,132,133,134,135,136,137,138,139,140,141,142,143,144,145,146,147,148,149,150,151,152,153,154,155,156,157,158,159,160,161,162,163,164,165,166,167,168,169,170,171,172,173,174,175,176,177,178,179,180,181,182,183,184,185,186,187,188,189,190,191,192,193,194,195,196,197,198,199,200,201,202,203,204,205,206,207,208,209,210,216,218,219,220,221,223,224,225,226,227,228,229,233,234,235,236,239,243,244,245,246,247,248,249,250,251,252) have mixed types. Specify dtype option on import or set low_memory=False.\n",
      "  df = pd.read_csv('./dataset/2006_2014_ver1.csv')\n"
     ]
    },
    {
     "data": {
      "text/plain": [
       "(102773, 253)"
      ]
     },
     "execution_count": 363,
     "metadata": {},
     "output_type": "execute_result"
    }
   ],
   "source": [
    "import pandas as pd\n",
    "import numpy as np\n",
    "import matplotlib.pyplot as plt\n",
    "import seaborn as sns\n",
    "from xgboost import XGBRegressor\n",
    "from lightgbm import LGBMRegressor\n",
    "\n",
    "df = pd.read_csv('./dataset/2006_2014_ver1.csv')\n",
    "                              # 연속변수 타겟 VALP를 가지고 스케일 조정이 되지 않은 데이터셋인 house-unscaled-VALP.csv 불러오기\n",
    "df.shape"
   ]
  },
  {
   "cell_type": "code",
   "execution_count": 364,
   "id": "be893598",
   "metadata": {
    "scrolled": true
   },
   "outputs": [],
   "source": [
    "df = df[df['Year']==2013 ]\n",
    "df = df[df['CompanyID'].notna() & (df['CompanyID'] != '*')]"
   ]
  },
  {
   "cell_type": "code",
   "execution_count": 365,
   "id": "29a25884",
   "metadata": {},
   "outputs": [
    {
     "name": "stdout",
     "output_type": "stream",
     "text": [
      "       Year  Area IndCategory1  IndCategory2   CompanyID CapitalRatio1  \\\n",
      "78124  2013    11            A             3  2376132235             0   \n",
      "78125  2013    11            A             3  4996132235             0   \n",
      "78126  2013    11            A             3  9020122135             0   \n",
      "78127  2013    11            A             3  9173122135             0   \n",
      "78129  2013    11            B             7  4436132235             0   \n",
      "...     ...   ...          ...           ...         ...           ...   \n",
      "90351  2013    39            R            91  5593122032             0   \n",
      "90352  2013    39            R            91  6256152135             0   \n",
      "90353  2013    39            R            91  6592192934             0   \n",
      "90354  2013    39            R            91  7672162534             0   \n",
      "90355  2013    39            R            91  8265182037           100   \n",
      "\n",
      "      StockMktListing Emp_total Emp_male Emp_female  ...  Cost8 Cost9 Cost10  \\\n",
      "78124               1       219      180         39  ...  14634   110   2717   \n",
      "78125               1       539      509         30  ...  28950  1275   5266   \n",
      "78126               3       157      144         13  ...  20244    10   4130   \n",
      "78127               3       109      104          5  ...   9471   103    769   \n",
      "78129               3       130      118         12  ...   6480   768   2384   \n",
      "...               ...       ...      ...        ...  ...    ...   ...    ...   \n",
      "90351               3        39       22         17  ...   1017    84   1298   \n",
      "90352               3       217      132         85  ...   8315  2223    505   \n",
      "90353               3       266      185         81  ...   9876   334   7990   \n",
      "90354               3        55       30         25  ...   1369   150   2923   \n",
      "90355               3        20       12          8  ...    410     4    794   \n",
      "\n",
      "      Cost11 Cost12 Cost13 Cost14 Cost15 Cost16 Cost17  \n",
      "78124    395     24     -2  39166   2920   1418     38  \n",
      "78125    902     10     87  65846   7087   1119   2376  \n",
      "78126    426     23     42  66400   3124      0     14  \n",
      "78127    132      1     -1  38683    537    292      2  \n",
      "78129    195     19      9  29833    280    238     14  \n",
      "...      ...    ...    ...    ...    ...    ...    ...  \n",
      "90351    623      7      0   3737   1047   1013     10  \n",
      "90352   4804      0      0   6371   2560    944    110  \n",
      "90353   3044      6      0   8085   1781    545      0  \n",
      "90354    627      1      0   2588   2153   2095      1  \n",
      "90355     18     11      0      0    498    492      6  \n",
      "\n",
      "[11887 rows x 233 columns]\n"
     ]
    }
   ],
   "source": [
    "# 타겟 분리\n",
    "target=df['EBizSystem2']\n",
    "# 'biz' 단어가 들어간 열을 찾고 해당 열을 삭제합니다.\n",
    "columns_to_drop = df.columns[df.columns.str.contains('Biz', case=False)]\n",
    "df = df.drop(columns=columns_to_drop)\n",
    "\n",
    "print(df)"
   ]
  },
  {
   "cell_type": "code",
   "execution_count": 366,
   "id": "ccbfe004",
   "metadata": {},
   "outputs": [
    {
     "name": "stdout",
     "output_type": "stream",
     "text": [
      "       Year  Area IndCategory1  IndCategory2   CompanyID CapitalRatio1  \\\n",
      "78124  2013    11            A             3  2376132235             0   \n",
      "78125  2013    11            A             3  4996132235             0   \n",
      "78126  2013    11            A             3  9020122135             0   \n",
      "78127  2013    11            A             3  9173122135             0   \n",
      "78129  2013    11            B             7  4436132235             0   \n",
      "...     ...   ...          ...           ...         ...           ...   \n",
      "90351  2013    39            R            91  5593122032             0   \n",
      "90352  2013    39            R            91  6256152135             0   \n",
      "90353  2013    39            R            91  6592192934             0   \n",
      "90354  2013    39            R            91  7672162534             0   \n",
      "90355  2013    39            R            91  8265182037           100   \n",
      "\n",
      "      StockMktListing Emp_total Emp_male Emp_female  ...  Cost8 Cost9 Cost10  \\\n",
      "78124               1       219      180         39  ...  14634   110   2717   \n",
      "78125               1       539      509         30  ...  28950  1275   5266   \n",
      "78126               3       157      144         13  ...  20244    10   4130   \n",
      "78127               3       109      104          5  ...   9471   103    769   \n",
      "78129               3       130      118         12  ...   6480   768   2384   \n",
      "...               ...       ...      ...        ...  ...    ...   ...    ...   \n",
      "90351               3        39       22         17  ...   1017    84   1298   \n",
      "90352               3       217      132         85  ...   8315  2223    505   \n",
      "90353               3       266      185         81  ...   9876   334   7990   \n",
      "90354               3        55       30         25  ...   1369   150   2923   \n",
      "90355               3        20       12          8  ...    410     4    794   \n",
      "\n",
      "      Cost11 Cost12 Cost13 Cost14 Cost15 Cost16 Cost17  \n",
      "78124    395     24     -2  39166   2920   1418     38  \n",
      "78125    902     10     87  65846   7087   1119   2376  \n",
      "78126    426     23     42  66400   3124      0     14  \n",
      "78127    132      1     -1  38683    537    292      2  \n",
      "78129    195     19      9  29833    280    238     14  \n",
      "...      ...    ...    ...    ...    ...    ...    ...  \n",
      "90351    623      7      0   3737   1047   1013     10  \n",
      "90352   4804      0      0   6371   2560    944    110  \n",
      "90353   3044      6      0   8085   1781    545      0  \n",
      "90354    627      1      0   2588   2153   2095      1  \n",
      "90355     18     11      0      0    498    492      6  \n",
      "\n",
      "[11887 rows x 166 columns]\n"
     ]
    }
   ],
   "source": [
    "# 결측값이 50% 이상인 열을 찾고 해당 열을 삭제합니다.\n",
    "\n",
    "threshold = 0.5\n",
    "missing_ratios = df.isnull().mean()\n",
    "columns_to_drop = missing_ratios[missing_ratios > threshold].index.tolist()\n",
    "df = df.drop(columns=columns_to_drop)\n",
    "\n",
    "print(df)"
   ]
  },
  {
   "cell_type": "code",
   "execution_count": 367,
   "id": "a8f7c0ff",
   "metadata": {},
   "outputs": [
    {
     "name": "stdout",
     "output_type": "stream",
     "text": [
      "<class 'pandas.core.frame.DataFrame'>\n",
      "Int64Index: 11887 entries, 78124 to 90355\n",
      "Columns: 166 entries, Year to Cost17\n",
      "dtypes: int64(3), object(163)\n",
      "memory usage: 15.1+ MB\n"
     ]
    }
   ],
   "source": [
    "df.info()"
   ]
  },
  {
   "cell_type": "code",
   "execution_count": 368,
   "id": "c8c8a48b",
   "metadata": {
    "scrolled": true
   },
   "outputs": [
    {
     "data": {
      "text/plain": [
       "Index(['Year', 'Area', 'IndCategory1', 'IndCategory2', 'CompanyID',\n",
       "       'CapitalRatio1', 'StockMktListing', 'Emp_total', 'Emp_male',\n",
       "       'Emp_female',\n",
       "       ...\n",
       "       'Cost8', 'Cost9', 'Cost10', 'Cost11', 'Cost12', 'Cost13', 'Cost14',\n",
       "       'Cost15', 'Cost16', 'Cost17'],\n",
       "      dtype='object', length=166)"
      ]
     },
     "execution_count": 368,
     "metadata": {},
     "output_type": "execute_result"
    }
   ],
   "source": [
    "df.columns"
   ]
  },
  {
   "cell_type": "code",
   "execution_count": 369,
   "id": "3cc48828",
   "metadata": {},
   "outputs": [],
   "source": [
    "df=df.replace('*',np.nan)"
   ]
  },
  {
   "cell_type": "code",
   "execution_count": 370,
   "id": "27da3c62",
   "metadata": {},
   "outputs": [
    {
     "name": "stdout",
     "output_type": "stream",
     "text": [
      "Index(['OutsourcingCost'], dtype='object')\n"
     ]
    }
   ],
   "source": [
    "outsourcing_cols = df.columns[df.columns.str.contains('Out', case=False)]\n",
    "\n",
    "print(outsourcing_cols)"
   ]
  },
  {
   "cell_type": "code",
   "execution_count": 371,
   "id": "4f9b33b4",
   "metadata": {},
   "outputs": [],
   "source": [
    "df_cat = df[['Year','Area','IndCategory1','IndCategory2','CompanyID','StockMktListing','Subsidiary1','ParentCompany1','Franchise1','Overseas1','NewEntry3','SAlliance1']]\n",
    "\n",
    "df_num = df.drop(columns=df_cat.columns)\n",
    "df_num= df_num.replace(np.nan,0)"
   ]
  },
  {
   "cell_type": "code",
   "execution_count": 372,
   "id": "e82e6c46",
   "metadata": {},
   "outputs": [],
   "source": [
    "# 범주형 연속형 분리 -> 더미화, data scaling, 상관계수 0.7 이상 제거\n",
    "# 더미화가... 안된건가..????   저 숫자가 뭘 의미하는지 애매하다 > 섣불리 전부 더미화를 해야할지 모르겠음\n",
    "df_cat = df_cat.astype('object')\n",
    "df_num = df_num.astype('int')"
   ]
  },
  {
   "cell_type": "code",
   "execution_count": 373,
   "id": "920cd70b",
   "metadata": {
    "scrolled": true
   },
   "outputs": [
    {
     "data": {
      "text/html": [
       "<div>\n",
       "<style scoped>\n",
       "    .dataframe tbody tr th:only-of-type {\n",
       "        vertical-align: middle;\n",
       "    }\n",
       "\n",
       "    .dataframe tbody tr th {\n",
       "        vertical-align: top;\n",
       "    }\n",
       "\n",
       "    .dataframe thead th {\n",
       "        text-align: right;\n",
       "    }\n",
       "</style>\n",
       "<table border=\"1\" class=\"dataframe\">\n",
       "  <thead>\n",
       "    <tr style=\"text-align: right;\">\n",
       "      <th></th>\n",
       "      <th>Year</th>\n",
       "      <th>Area</th>\n",
       "      <th>IndCategory1</th>\n",
       "      <th>IndCategory2</th>\n",
       "      <th>CompanyID</th>\n",
       "      <th>StockMktListing</th>\n",
       "      <th>Subsidiary1</th>\n",
       "      <th>ParentCompany1</th>\n",
       "      <th>Franchise1</th>\n",
       "      <th>Overseas1</th>\n",
       "      <th>NewEntry3</th>\n",
       "      <th>SAlliance1</th>\n",
       "      <th>EBizSystem2</th>\n",
       "    </tr>\n",
       "  </thead>\n",
       "  <tbody>\n",
       "    <tr>\n",
       "      <th>78124</th>\n",
       "      <td>2013</td>\n",
       "      <td>11</td>\n",
       "      <td>A</td>\n",
       "      <td>3</td>\n",
       "      <td>2376132235</td>\n",
       "      <td>1</td>\n",
       "      <td>1</td>\n",
       "      <td>2</td>\n",
       "      <td>2</td>\n",
       "      <td>1</td>\n",
       "      <td>2</td>\n",
       "      <td>2</td>\n",
       "      <td>1</td>\n",
       "    </tr>\n",
       "    <tr>\n",
       "      <th>78125</th>\n",
       "      <td>2013</td>\n",
       "      <td>11</td>\n",
       "      <td>A</td>\n",
       "      <td>3</td>\n",
       "      <td>4996132235</td>\n",
       "      <td>1</td>\n",
       "      <td>1</td>\n",
       "      <td>2</td>\n",
       "      <td>2</td>\n",
       "      <td>1</td>\n",
       "      <td>2</td>\n",
       "      <td>2</td>\n",
       "      <td>1</td>\n",
       "    </tr>\n",
       "    <tr>\n",
       "      <th>78126</th>\n",
       "      <td>2013</td>\n",
       "      <td>11</td>\n",
       "      <td>A</td>\n",
       "      <td>3</td>\n",
       "      <td>9020122135</td>\n",
       "      <td>3</td>\n",
       "      <td>1</td>\n",
       "      <td>2</td>\n",
       "      <td>2</td>\n",
       "      <td>1</td>\n",
       "      <td>2</td>\n",
       "      <td>2</td>\n",
       "      <td>1</td>\n",
       "    </tr>\n",
       "    <tr>\n",
       "      <th>78127</th>\n",
       "      <td>2013</td>\n",
       "      <td>11</td>\n",
       "      <td>A</td>\n",
       "      <td>3</td>\n",
       "      <td>9173122135</td>\n",
       "      <td>3</td>\n",
       "      <td>2</td>\n",
       "      <td>2</td>\n",
       "      <td>2</td>\n",
       "      <td>2</td>\n",
       "      <td>2</td>\n",
       "      <td>2</td>\n",
       "      <td>1</td>\n",
       "    </tr>\n",
       "    <tr>\n",
       "      <th>78129</th>\n",
       "      <td>2013</td>\n",
       "      <td>11</td>\n",
       "      <td>B</td>\n",
       "      <td>7</td>\n",
       "      <td>4436132235</td>\n",
       "      <td>3</td>\n",
       "      <td>1</td>\n",
       "      <td>2</td>\n",
       "      <td>2</td>\n",
       "      <td>2</td>\n",
       "      <td>2</td>\n",
       "      <td>2</td>\n",
       "      <td>1</td>\n",
       "    </tr>\n",
       "    <tr>\n",
       "      <th>...</th>\n",
       "      <td>...</td>\n",
       "      <td>...</td>\n",
       "      <td>...</td>\n",
       "      <td>...</td>\n",
       "      <td>...</td>\n",
       "      <td>...</td>\n",
       "      <td>...</td>\n",
       "      <td>...</td>\n",
       "      <td>...</td>\n",
       "      <td>...</td>\n",
       "      <td>...</td>\n",
       "      <td>...</td>\n",
       "      <td>...</td>\n",
       "    </tr>\n",
       "    <tr>\n",
       "      <th>90351</th>\n",
       "      <td>2013</td>\n",
       "      <td>39</td>\n",
       "      <td>R</td>\n",
       "      <td>91</td>\n",
       "      <td>5593122032</td>\n",
       "      <td>3</td>\n",
       "      <td>2</td>\n",
       "      <td>2</td>\n",
       "      <td>2</td>\n",
       "      <td>2</td>\n",
       "      <td>1</td>\n",
       "      <td>2</td>\n",
       "      <td>NaN</td>\n",
       "    </tr>\n",
       "    <tr>\n",
       "      <th>90352</th>\n",
       "      <td>2013</td>\n",
       "      <td>39</td>\n",
       "      <td>R</td>\n",
       "      <td>91</td>\n",
       "      <td>6256152135</td>\n",
       "      <td>3</td>\n",
       "      <td>2</td>\n",
       "      <td>1</td>\n",
       "      <td>2</td>\n",
       "      <td>2</td>\n",
       "      <td>2</td>\n",
       "      <td>2</td>\n",
       "      <td>NaN</td>\n",
       "    </tr>\n",
       "    <tr>\n",
       "      <th>90353</th>\n",
       "      <td>2013</td>\n",
       "      <td>39</td>\n",
       "      <td>R</td>\n",
       "      <td>91</td>\n",
       "      <td>6592192934</td>\n",
       "      <td>3</td>\n",
       "      <td>2</td>\n",
       "      <td>2</td>\n",
       "      <td>2</td>\n",
       "      <td>2</td>\n",
       "      <td>2</td>\n",
       "      <td>2</td>\n",
       "      <td>NaN</td>\n",
       "    </tr>\n",
       "    <tr>\n",
       "      <th>90354</th>\n",
       "      <td>2013</td>\n",
       "      <td>39</td>\n",
       "      <td>R</td>\n",
       "      <td>91</td>\n",
       "      <td>7672162534</td>\n",
       "      <td>3</td>\n",
       "      <td>2</td>\n",
       "      <td>2</td>\n",
       "      <td>2</td>\n",
       "      <td>2</td>\n",
       "      <td>2</td>\n",
       "      <td>1</td>\n",
       "      <td>NaN</td>\n",
       "    </tr>\n",
       "    <tr>\n",
       "      <th>90355</th>\n",
       "      <td>2013</td>\n",
       "      <td>39</td>\n",
       "      <td>R</td>\n",
       "      <td>91</td>\n",
       "      <td>8265182037</td>\n",
       "      <td>3</td>\n",
       "      <td>2</td>\n",
       "      <td>2</td>\n",
       "      <td>2</td>\n",
       "      <td>2</td>\n",
       "      <td>2</td>\n",
       "      <td>2</td>\n",
       "      <td>NaN</td>\n",
       "    </tr>\n",
       "  </tbody>\n",
       "</table>\n",
       "<p>11887 rows × 13 columns</p>\n",
       "</div>"
      ],
      "text/plain": [
       "       Year Area IndCategory1 IndCategory2   CompanyID StockMktListing  \\\n",
       "78124  2013   11            A            3  2376132235               1   \n",
       "78125  2013   11            A            3  4996132235               1   \n",
       "78126  2013   11            A            3  9020122135               3   \n",
       "78127  2013   11            A            3  9173122135               3   \n",
       "78129  2013   11            B            7  4436132235               3   \n",
       "...     ...  ...          ...          ...         ...             ...   \n",
       "90351  2013   39            R           91  5593122032               3   \n",
       "90352  2013   39            R           91  6256152135               3   \n",
       "90353  2013   39            R           91  6592192934               3   \n",
       "90354  2013   39            R           91  7672162534               3   \n",
       "90355  2013   39            R           91  8265182037               3   \n",
       "\n",
       "      Subsidiary1 ParentCompany1 Franchise1 Overseas1 NewEntry3 SAlliance1  \\\n",
       "78124           1              2          2         1         2          2   \n",
       "78125           1              2          2         1         2          2   \n",
       "78126           1              2          2         1         2          2   \n",
       "78127           2              2          2         2         2          2   \n",
       "78129           1              2          2         2         2          2   \n",
       "...           ...            ...        ...       ...       ...        ...   \n",
       "90351           2              2          2         2         1          2   \n",
       "90352           2              1          2         2         2          2   \n",
       "90353           2              2          2         2         2          2   \n",
       "90354           2              2          2         2         2          1   \n",
       "90355           2              2          2         2         2          2   \n",
       "\n",
       "      EBizSystem2  \n",
       "78124           1  \n",
       "78125           1  \n",
       "78126           1  \n",
       "78127           1  \n",
       "78129           1  \n",
       "...           ...  \n",
       "90351         NaN  \n",
       "90352         NaN  \n",
       "90353         NaN  \n",
       "90354         NaN  \n",
       "90355         NaN  \n",
       "\n",
       "[11887 rows x 13 columns]"
      ]
     },
     "execution_count": 373,
     "metadata": {},
     "output_type": "execute_result"
    }
   ],
   "source": [
    "pd.concat([df_cat, target], axis=1)"
   ]
  },
  {
   "cell_type": "code",
   "execution_count": 374,
   "id": "56f715ff",
   "metadata": {},
   "outputs": [],
   "source": [
    "# 인사이트\n",
    "# 데이터 분석시에는 관련성이 없는 companyid 를 제거해야함. year도 고정이므로 필요없음. \n",
    "# IndCategory1 , 2 는 거의 100프로 일치. 공선성으로 인해 제거해야함"
   ]
  },
  {
   "cell_type": "code",
   "execution_count": 375,
   "id": "b8fd5026",
   "metadata": {},
   "outputs": [],
   "source": [
    "from sklearn.preprocessing import StandardScaler\n",
    "\n",
    "# StandardScaler객체 생성\n",
    "scaler = StandardScaler()\n",
    "# StandardScaler 로 데이터 셋 변환. fit( ) 과 transform( ) 호출.  \n",
    "df_num_scaler = scaler.fit_transform(df_num)\n",
    "\n",
    "#transform( )시 scale 변환된 데이터 셋이 numpy ndarry로 반환되어 이를 DataFrame으로 변환\n",
    "df_num_scaler = pd.DataFrame(data=df_num_scaler)"
   ]
  },
  {
   "cell_type": "code",
   "execution_count": 376,
   "id": "e840edce",
   "metadata": {},
   "outputs": [
    {
     "data": {
      "text/html": [
       "<div>\n",
       "<style scoped>\n",
       "    .dataframe tbody tr th:only-of-type {\n",
       "        vertical-align: middle;\n",
       "    }\n",
       "\n",
       "    .dataframe tbody tr th {\n",
       "        vertical-align: top;\n",
       "    }\n",
       "\n",
       "    .dataframe thead th {\n",
       "        text-align: right;\n",
       "    }\n",
       "</style>\n",
       "<table border=\"1\" class=\"dataframe\">\n",
       "  <thead>\n",
       "    <tr style=\"text-align: right;\">\n",
       "      <th></th>\n",
       "      <th>0</th>\n",
       "      <th>1</th>\n",
       "      <th>2</th>\n",
       "      <th>3</th>\n",
       "      <th>4</th>\n",
       "      <th>5</th>\n",
       "      <th>6</th>\n",
       "      <th>7</th>\n",
       "      <th>8</th>\n",
       "      <th>9</th>\n",
       "      <th>...</th>\n",
       "      <th>144</th>\n",
       "      <th>145</th>\n",
       "      <th>146</th>\n",
       "      <th>147</th>\n",
       "      <th>148</th>\n",
       "      <th>149</th>\n",
       "      <th>150</th>\n",
       "      <th>151</th>\n",
       "      <th>152</th>\n",
       "      <th>153</th>\n",
       "    </tr>\n",
       "  </thead>\n",
       "  <tbody>\n",
       "    <tr>\n",
       "      <th>0</th>\n",
       "      <td>1.000000</td>\n",
       "      <td>0.013094</td>\n",
       "      <td>0.008671</td>\n",
       "      <td>0.020261</td>\n",
       "      <td>-0.002334</td>\n",
       "      <td>0.024314</td>\n",
       "      <td>0.022146</td>\n",
       "      <td>0.021193</td>\n",
       "      <td>0.011213</td>\n",
       "      <td>0.033931</td>\n",
       "      <td>...</td>\n",
       "      <td>0.010548</td>\n",
       "      <td>0.030458</td>\n",
       "      <td>0.001276</td>\n",
       "      <td>0.015175</td>\n",
       "      <td>0.033999</td>\n",
       "      <td>-0.002785</td>\n",
       "      <td>-0.000423</td>\n",
       "      <td>0.000476</td>\n",
       "      <td>-0.012368</td>\n",
       "      <td>-0.002518</td>\n",
       "    </tr>\n",
       "    <tr>\n",
       "      <th>1</th>\n",
       "      <td>0.013094</td>\n",
       "      <td>1.000000</td>\n",
       "      <td>0.969371</td>\n",
       "      <td>0.804382</td>\n",
       "      <td>0.410390</td>\n",
       "      <td>0.513056</td>\n",
       "      <td>0.486882</td>\n",
       "      <td>0.407526</td>\n",
       "      <td>0.148703</td>\n",
       "      <td>0.544479</td>\n",
       "      <td>...</td>\n",
       "      <td>0.949981</td>\n",
       "      <td>0.340356</td>\n",
       "      <td>0.782773</td>\n",
       "      <td>0.607365</td>\n",
       "      <td>0.727247</td>\n",
       "      <td>0.251835</td>\n",
       "      <td>0.708269</td>\n",
       "      <td>0.591121</td>\n",
       "      <td>0.457190</td>\n",
       "      <td>0.720236</td>\n",
       "    </tr>\n",
       "    <tr>\n",
       "      <th>2</th>\n",
       "      <td>0.008671</td>\n",
       "      <td>0.969371</td>\n",
       "      <td>1.000000</td>\n",
       "      <td>0.633829</td>\n",
       "      <td>0.379162</td>\n",
       "      <td>0.474223</td>\n",
       "      <td>0.489269</td>\n",
       "      <td>0.297169</td>\n",
       "      <td>0.156585</td>\n",
       "      <td>0.522673</td>\n",
       "      <td>...</td>\n",
       "      <td>0.958492</td>\n",
       "      <td>0.291807</td>\n",
       "      <td>0.760270</td>\n",
       "      <td>0.549861</td>\n",
       "      <td>0.706383</td>\n",
       "      <td>0.204180</td>\n",
       "      <td>0.698724</td>\n",
       "      <td>0.603805</td>\n",
       "      <td>0.469369</td>\n",
       "      <td>0.701187</td>\n",
       "    </tr>\n",
       "    <tr>\n",
       "      <th>3</th>\n",
       "      <td>0.020261</td>\n",
       "      <td>0.804382</td>\n",
       "      <td>0.633829</td>\n",
       "      <td>1.000000</td>\n",
       "      <td>0.375245</td>\n",
       "      <td>0.468615</td>\n",
       "      <td>0.349792</td>\n",
       "      <td>0.564565</td>\n",
       "      <td>0.089530</td>\n",
       "      <td>0.450376</td>\n",
       "      <td>...</td>\n",
       "      <td>0.673173</td>\n",
       "      <td>0.365999</td>\n",
       "      <td>0.626085</td>\n",
       "      <td>0.582655</td>\n",
       "      <td>0.581572</td>\n",
       "      <td>0.299188</td>\n",
       "      <td>0.540331</td>\n",
       "      <td>0.401008</td>\n",
       "      <td>0.304421</td>\n",
       "      <td>0.572060</td>\n",
       "    </tr>\n",
       "    <tr>\n",
       "      <th>4</th>\n",
       "      <td>-0.002334</td>\n",
       "      <td>0.410390</td>\n",
       "      <td>0.379162</td>\n",
       "      <td>0.375245</td>\n",
       "      <td>1.000000</td>\n",
       "      <td>0.123871</td>\n",
       "      <td>0.122397</td>\n",
       "      <td>0.088573</td>\n",
       "      <td>0.381849</td>\n",
       "      <td>0.183745</td>\n",
       "      <td>...</td>\n",
       "      <td>0.469083</td>\n",
       "      <td>0.199119</td>\n",
       "      <td>0.474745</td>\n",
       "      <td>0.214033</td>\n",
       "      <td>0.378246</td>\n",
       "      <td>0.127347</td>\n",
       "      <td>0.519719</td>\n",
       "      <td>0.382090</td>\n",
       "      <td>0.349868</td>\n",
       "      <td>0.446009</td>\n",
       "    </tr>\n",
       "    <tr>\n",
       "      <th>...</th>\n",
       "      <td>...</td>\n",
       "      <td>...</td>\n",
       "      <td>...</td>\n",
       "      <td>...</td>\n",
       "      <td>...</td>\n",
       "      <td>...</td>\n",
       "      <td>...</td>\n",
       "      <td>...</td>\n",
       "      <td>...</td>\n",
       "      <td>...</td>\n",
       "      <td>...</td>\n",
       "      <td>...</td>\n",
       "      <td>...</td>\n",
       "      <td>...</td>\n",
       "      <td>...</td>\n",
       "      <td>...</td>\n",
       "      <td>...</td>\n",
       "      <td>...</td>\n",
       "      <td>...</td>\n",
       "      <td>...</td>\n",
       "      <td>...</td>\n",
       "    </tr>\n",
       "    <tr>\n",
       "      <th>149</th>\n",
       "      <td>-0.002785</td>\n",
       "      <td>0.251835</td>\n",
       "      <td>0.204180</td>\n",
       "      <td>0.299188</td>\n",
       "      <td>0.127347</td>\n",
       "      <td>0.172395</td>\n",
       "      <td>0.156922</td>\n",
       "      <td>0.150469</td>\n",
       "      <td>0.031573</td>\n",
       "      <td>0.311708</td>\n",
       "      <td>...</td>\n",
       "      <td>0.271472</td>\n",
       "      <td>0.179256</td>\n",
       "      <td>0.101484</td>\n",
       "      <td>0.323783</td>\n",
       "      <td>0.142006</td>\n",
       "      <td>1.000000</td>\n",
       "      <td>0.123083</td>\n",
       "      <td>0.129856</td>\n",
       "      <td>0.078334</td>\n",
       "      <td>0.165669</td>\n",
       "    </tr>\n",
       "    <tr>\n",
       "      <th>150</th>\n",
       "      <td>-0.000423</td>\n",
       "      <td>0.708269</td>\n",
       "      <td>0.698724</td>\n",
       "      <td>0.540331</td>\n",
       "      <td>0.519719</td>\n",
       "      <td>0.180654</td>\n",
       "      <td>0.187193</td>\n",
       "      <td>0.111570</td>\n",
       "      <td>0.172240</td>\n",
       "      <td>0.230646</td>\n",
       "      <td>...</td>\n",
       "      <td>0.815971</td>\n",
       "      <td>0.166920</td>\n",
       "      <td>0.814396</td>\n",
       "      <td>0.387949</td>\n",
       "      <td>0.747474</td>\n",
       "      <td>0.123083</td>\n",
       "      <td>1.000000</td>\n",
       "      <td>0.598452</td>\n",
       "      <td>0.309444</td>\n",
       "      <td>0.874193</td>\n",
       "    </tr>\n",
       "    <tr>\n",
       "      <th>151</th>\n",
       "      <td>0.000476</td>\n",
       "      <td>0.591121</td>\n",
       "      <td>0.603805</td>\n",
       "      <td>0.401008</td>\n",
       "      <td>0.382090</td>\n",
       "      <td>0.345032</td>\n",
       "      <td>0.366205</td>\n",
       "      <td>0.195489</td>\n",
       "      <td>0.141340</td>\n",
       "      <td>0.348380</td>\n",
       "      <td>...</td>\n",
       "      <td>0.618834</td>\n",
       "      <td>0.271078</td>\n",
       "      <td>0.599764</td>\n",
       "      <td>0.370413</td>\n",
       "      <td>0.482339</td>\n",
       "      <td>0.129856</td>\n",
       "      <td>0.598452</td>\n",
       "      <td>1.000000</td>\n",
       "      <td>0.599921</td>\n",
       "      <td>0.566253</td>\n",
       "    </tr>\n",
       "    <tr>\n",
       "      <th>152</th>\n",
       "      <td>-0.012368</td>\n",
       "      <td>0.457190</td>\n",
       "      <td>0.469369</td>\n",
       "      <td>0.304421</td>\n",
       "      <td>0.349868</td>\n",
       "      <td>0.302661</td>\n",
       "      <td>0.312775</td>\n",
       "      <td>0.188623</td>\n",
       "      <td>0.068517</td>\n",
       "      <td>0.371445</td>\n",
       "      <td>...</td>\n",
       "      <td>0.409951</td>\n",
       "      <td>0.447311</td>\n",
       "      <td>0.487203</td>\n",
       "      <td>0.426170</td>\n",
       "      <td>0.311847</td>\n",
       "      <td>0.078334</td>\n",
       "      <td>0.309444</td>\n",
       "      <td>0.599921</td>\n",
       "      <td>1.000000</td>\n",
       "      <td>0.259884</td>\n",
       "    </tr>\n",
       "    <tr>\n",
       "      <th>153</th>\n",
       "      <td>-0.002518</td>\n",
       "      <td>0.720236</td>\n",
       "      <td>0.701187</td>\n",
       "      <td>0.572060</td>\n",
       "      <td>0.446009</td>\n",
       "      <td>0.228744</td>\n",
       "      <td>0.213731</td>\n",
       "      <td>0.188469</td>\n",
       "      <td>0.127709</td>\n",
       "      <td>0.274902</td>\n",
       "      <td>...</td>\n",
       "      <td>0.812990</td>\n",
       "      <td>0.199328</td>\n",
       "      <td>0.817835</td>\n",
       "      <td>0.532682</td>\n",
       "      <td>0.724736</td>\n",
       "      <td>0.165669</td>\n",
       "      <td>0.874193</td>\n",
       "      <td>0.566253</td>\n",
       "      <td>0.259884</td>\n",
       "      <td>1.000000</td>\n",
       "    </tr>\n",
       "  </tbody>\n",
       "</table>\n",
       "<p>154 rows × 154 columns</p>\n",
       "</div>"
      ],
      "text/plain": [
       "          0         1         2         3         4         5         6    \\\n",
       "0    1.000000  0.013094  0.008671  0.020261 -0.002334  0.024314  0.022146   \n",
       "1    0.013094  1.000000  0.969371  0.804382  0.410390  0.513056  0.486882   \n",
       "2    0.008671  0.969371  1.000000  0.633829  0.379162  0.474223  0.489269   \n",
       "3    0.020261  0.804382  0.633829  1.000000  0.375245  0.468615  0.349792   \n",
       "4   -0.002334  0.410390  0.379162  0.375245  1.000000  0.123871  0.122397   \n",
       "..        ...       ...       ...       ...       ...       ...       ...   \n",
       "149 -0.002785  0.251835  0.204180  0.299188  0.127347  0.172395  0.156922   \n",
       "150 -0.000423  0.708269  0.698724  0.540331  0.519719  0.180654  0.187193   \n",
       "151  0.000476  0.591121  0.603805  0.401008  0.382090  0.345032  0.366205   \n",
       "152 -0.012368  0.457190  0.469369  0.304421  0.349868  0.302661  0.312775   \n",
       "153 -0.002518  0.720236  0.701187  0.572060  0.446009  0.228744  0.213731   \n",
       "\n",
       "          7         8         9    ...       144       145       146  \\\n",
       "0    0.021193  0.011213  0.033931  ...  0.010548  0.030458  0.001276   \n",
       "1    0.407526  0.148703  0.544479  ...  0.949981  0.340356  0.782773   \n",
       "2    0.297169  0.156585  0.522673  ...  0.958492  0.291807  0.760270   \n",
       "3    0.564565  0.089530  0.450376  ...  0.673173  0.365999  0.626085   \n",
       "4    0.088573  0.381849  0.183745  ...  0.469083  0.199119  0.474745   \n",
       "..        ...       ...       ...  ...       ...       ...       ...   \n",
       "149  0.150469  0.031573  0.311708  ...  0.271472  0.179256  0.101484   \n",
       "150  0.111570  0.172240  0.230646  ...  0.815971  0.166920  0.814396   \n",
       "151  0.195489  0.141340  0.348380  ...  0.618834  0.271078  0.599764   \n",
       "152  0.188623  0.068517  0.371445  ...  0.409951  0.447311  0.487203   \n",
       "153  0.188469  0.127709  0.274902  ...  0.812990  0.199328  0.817835   \n",
       "\n",
       "          147       148       149       150       151       152       153  \n",
       "0    0.015175  0.033999 -0.002785 -0.000423  0.000476 -0.012368 -0.002518  \n",
       "1    0.607365  0.727247  0.251835  0.708269  0.591121  0.457190  0.720236  \n",
       "2    0.549861  0.706383  0.204180  0.698724  0.603805  0.469369  0.701187  \n",
       "3    0.582655  0.581572  0.299188  0.540331  0.401008  0.304421  0.572060  \n",
       "4    0.214033  0.378246  0.127347  0.519719  0.382090  0.349868  0.446009  \n",
       "..        ...       ...       ...       ...       ...       ...       ...  \n",
       "149  0.323783  0.142006  1.000000  0.123083  0.129856  0.078334  0.165669  \n",
       "150  0.387949  0.747474  0.123083  1.000000  0.598452  0.309444  0.874193  \n",
       "151  0.370413  0.482339  0.129856  0.598452  1.000000  0.599921  0.566253  \n",
       "152  0.426170  0.311847  0.078334  0.309444  0.599921  1.000000  0.259884  \n",
       "153  0.532682  0.724736  0.165669  0.874193  0.566253  0.259884  1.000000  \n",
       "\n",
       "[154 rows x 154 columns]"
      ]
     },
     "execution_count": 376,
     "metadata": {},
     "output_type": "execute_result"
    }
   ],
   "source": [
    "df_num_scaler.corr()"
   ]
  },
  {
   "cell_type": "code",
   "execution_count": null,
   "id": "5db13803",
   "metadata": {},
   "outputs": [],
   "source": []
  },
  {
   "cell_type": "code",
   "execution_count": null,
   "id": "aa885309",
   "metadata": {},
   "outputs": [],
   "source": []
  },
  {
   "cell_type": "code",
   "execution_count": null,
   "id": "8247ee4d",
   "metadata": {},
   "outputs": [],
   "source": []
  },
  {
   "cell_type": "code",
   "execution_count": null,
   "id": "43f98fe7",
   "metadata": {},
   "outputs": [],
   "source": [
    "from imblearn.over_sampling import SMOTE\n",
    "# over-sampling 설정 ( 1 의 비율이 9.2%로 매우 적음)\n",
    "sm = SMOTE(sampling_strategy='auto')\n",
    "# train데이터를 이용한 Over-sampling\n",
    "x_resampled,y_resampled = sm.fit_resample(df_train_x,df_train_y)\n",
    "#결과 확인\n",
    "print('Over-Sampling 전:\\n',df_train_y.value_counts(),\"\\n\")\n",
    "print('Over-Sampling 후 Train X: {}'.format(x_resampled.shape))\n",
    "print('Over-Sampling 후 Train Y: {}\\n'.format(y_resampled.shape))\n",
    "print(\"Over-Sampling 후 '1':{}\".format(sum(y_resampled==1)))\n",
    "print(\"Over-Sampling 후 '0':{}\".format(sum(y_resampled==0)))"
   ]
  },
  {
   "cell_type": "code",
   "execution_count": null,
   "id": "58672347",
   "metadata": {},
   "outputs": [],
   "source": [
    "target.value_counts(10)"
   ]
  },
  {
   "cell_type": "code",
   "execution_count": null,
   "id": "6665a2fe",
   "metadata": {},
   "outputs": [],
   "source": []
  },
  {
   "cell_type": "code",
   "execution_count": null,
   "id": "7b7dce10",
   "metadata": {
    "id": "7b7dce10"
   },
   "outputs": [],
   "source": [
    "data = df.drop(['VALP'], axis=1)   # 타겟변수(VALP임에 주의)를 제외한 입력변수를 data에 저장\n",
    "target = df['VALP']                # 타겟변수만 target에 저장\n",
    "\n",
    "# 50:50 데이터 변환\n",
    "from sklearn.model_selection import train_test_split \n",
    "X_train, X_test, y_train, y_test = train_test_split( \n",
    "    data, target, test_size=0.5, random_state=42)   # test_size=0.5임에 주의 "
   ]
  },
  {
   "cell_type": "markdown",
   "id": "6edf9823",
   "metadata": {
    "id": "6edf9823"
   },
   "source": [
    "# 6.4.3 LightGBM 모델"
   ]
  },
  {
   "cell_type": "code",
   "execution_count": null,
   "id": "699349a4",
   "metadata": {
    "colab": {
     "base_uri": "https://localhost:8080/"
    },
    "executionInfo": {
     "elapsed": 844,
     "status": "ok",
     "timestamp": 1661806901466,
     "user": {
      "displayName": "Jason SJ Yim",
      "userId": "00695299170620821850"
     },
     "user_tz": -540
    },
    "id": "699349a4",
    "outputId": "c4ff1817-c0d4-4f54-9f98-5acea14a2c4d"
   },
   "outputs": [],
   "source": [
    "# 기본 lGBMRegressor 모델\n",
    "from lightgbm import LGBMRegressor\n",
    "from sklearn.metrics import r2_score\n",
    "\n",
    "lgb = LGBMRegressor(random_state=0)\n",
    "lgb.fit(X_train, y_train)\n",
    "pred = lgb.predict(X_test)\n",
    "\n",
    "print('r2: {0:.5f}'.format(r2_score(y_test, pred)))"
   ]
  },
  {
   "cell_type": "code",
   "execution_count": null,
   "id": "432f52f8",
   "metadata": {
    "colab": {
     "base_uri": "https://localhost:8080/"
    },
    "executionInfo": {
     "elapsed": 51091,
     "status": "ok",
     "timestamp": 1661806958097,
     "user": {
      "displayName": "Jason SJ Yim",
      "userId": "00695299170620821850"
     },
     "user_tz": -540
    },
    "id": "432f52f8",
    "outputId": "f03914d1-bcc7-4a4b-98d3-74338df6b02a"
   },
   "outputs": [],
   "source": [
    "#그리드 서치 실행\n",
    "from sklearn.model_selection import GridSearchCV\n",
    "from lightgbm import LGBMRegressor\n",
    "\n",
    "lgb = LGBMRegressor()\n",
    "\n",
    "parameters = {'colsample_bytree': [1.0,0.4,2.7],\n",
    "              'learning_rate': [0.7,0.9, 0.2],\n",
    "              'max_depth': [14],\n",
    "              'min_child_weight' : [9],\n",
    "              'n_estimators': [1000],\n",
    "              'subsample': [0.3, 0.6]\n",
    "              }\n",
    "\n",
    "lgb_grid = GridSearchCV(lgb,\n",
    "                        parameters,\n",
    "                        scoring = 'r2',\n",
    "                        cv = 3,\n",
    "                        n_jobs = -1,\n",
    "                        verbose=True)\n",
    "lgb_grid.fit(X_train, y_train)"
   ]
  },
  {
   "cell_type": "code",
   "execution_count": null,
   "id": "5062e0a0",
   "metadata": {
    "colab": {
     "base_uri": "https://localhost:8080/"
    },
    "executionInfo": {
     "elapsed": 316,
     "status": "ok",
     "timestamp": 1661806999018,
     "user": {
      "displayName": "Jason SJ Yim",
      "userId": "00695299170620821850"
     },
     "user_tz": -540
    },
    "id": "5062e0a0",
    "outputId": "77102105-b431-468a-ed0c-3527703c2de3"
   },
   "outputs": [],
   "source": [
    "print('GridSearchCV 최적 파라미터:', lgb_grid.best_params_)"
   ]
  },
  {
   "cell_type": "code",
   "execution_count": null,
   "id": "8e1daefd",
   "metadata": {
    "colab": {
     "base_uri": "https://localhost:8080/"
    },
    "executionInfo": {
     "elapsed": 1143,
     "status": "ok",
     "timestamp": 1661807039761,
     "user": {
      "displayName": "Jason SJ Yim",
      "userId": "00695299170620821850"
     },
     "user_tz": -540
    },
    "id": "8e1daefd",
    "outputId": "7fffef1c-a5e7-403a-f85b-8060598d6350"
   },
   "outputs": [],
   "source": [
    "from sklearn.metrics import r2_score\n",
    "\n",
    "model = lgb_grid.best_estimator_\n",
    "pred = model.predict(X_test)\n",
    "\n",
    "print('r2: {0:.5f}'.format(r2_score(y_test, pred)))"
   ]
  },
  {
   "cell_type": "code",
   "execution_count": null,
   "id": "176941bc",
   "metadata": {
    "colab": {
     "base_uri": "https://localhost:8080/",
     "height": 621
    },
    "executionInfo": {
     "elapsed": 1091,
     "status": "ok",
     "timestamp": 1661807100732,
     "user": {
      "displayName": "Jason SJ Yim",
      "userId": "00695299170620821850"
     },
     "user_tz": -540
    },
    "id": "176941bc",
    "outputId": "d99df50a-4d31-4673-9c71-0aff72bf0892"
   },
   "outputs": [],
   "source": [
    "from lightgbm import plot_importance\n",
    "import matplotlib.pyplot as plt\n",
    "%matplotlib inline\n",
    "\n",
    "fig, ax = plt.subplots(figsize=(8, 10))\n",
    "plot_importance(model, ax=ax);"
   ]
  },
  {
   "cell_type": "markdown",
   "id": "GEzUZU8G2FCg",
   "metadata": {
    "id": "GEzUZU8G2FCg"
   },
   "source": [
    "# 6.5 스태킹 모델(앙상블)"
   ]
  },
  {
   "cell_type": "code",
   "execution_count": null,
   "id": "0796501f",
   "metadata": {
    "id": "0796501f"
   },
   "outputs": [],
   "source": [
    "model_xgb = xgb_grid.best_estimator_\n",
    "pred_xgb = model_xgb.predict(X_test)\n",
    "\n",
    "model_lgb = lgb_grid.best_estimator_\n",
    "pred_lgb = model_lgb.predict(X_test)"
   ]
  },
  {
   "cell_type": "code",
   "execution_count": null,
   "id": "572a07cc",
   "metadata": {
    "colab": {
     "base_uri": "https://localhost:8080/"
    },
    "executionInfo": {
     "elapsed": 360,
     "status": "ok",
     "timestamp": 1661807220877,
     "user": {
      "displayName": "Jason SJ Yim",
      "userId": "00695299170620821850"
     },
     "user_tz": -540
    },
    "id": "572a07cc",
    "outputId": "4a7c729e-f978-4e2c-b8dc-240a63cb7193"
   },
   "outputs": [],
   "source": [
    "from sklearn.metrics import r2_score\n",
    "\n",
    "pred = 0.5*pred_xgb + 0.5*pred_lgb\n",
    "print('r2: {0:.5f}'.format(r2_score(y_test, pred)))"
   ]
  },
  {
   "cell_type": "code",
   "execution_count": null,
   "id": "ca36fbb0",
   "metadata": {
    "colab": {
     "base_uri": "https://localhost:8080/"
    },
    "executionInfo": {
     "elapsed": 315,
     "status": "ok",
     "timestamp": 1661807270165,
     "user": {
      "displayName": "Jason SJ Yim",
      "userId": "00695299170620821850"
     },
     "user_tz": -540
    },
    "id": "ca36fbb0",
    "outputId": "5be87b1e-b56b-4798-d86e-0d2bfe8b5e5a"
   },
   "outputs": [],
   "source": [
    "# 참조 코딩\n",
    "pred = 0.6*pred_xgb + 0.4*pred_lgb\n",
    "print('r2: {0:.5f}'.format(r2_score(y_test, pred)))"
   ]
  },
  {
   "cell_type": "code",
   "execution_count": null,
   "id": "fbaf9028",
   "metadata": {
    "colab": {
     "base_uri": "https://localhost:8080/"
    },
    "executionInfo": {
     "elapsed": 323,
     "status": "ok",
     "timestamp": 1661807274107,
     "user": {
      "displayName": "Jason SJ Yim",
      "userId": "00695299170620821850"
     },
     "user_tz": -540
    },
    "id": "fbaf9028",
    "outputId": "02e932a2-fa3d-408e-d871-eeedff266097"
   },
   "outputs": [],
   "source": [
    "# 참조 코딩\n",
    "pred = 0.7*pred_xgb + 0.3*pred_lgb\n",
    "print('r2: {0:.5f}'.format(r2_score(y_test, pred)))"
   ]
  },
  {
   "cell_type": "code",
   "execution_count": null,
   "id": "0c7c234f",
   "metadata": {
    "colab": {
     "base_uri": "https://localhost:8080/"
    },
    "executionInfo": {
     "elapsed": 294,
     "status": "ok",
     "timestamp": 1661807277313,
     "user": {
      "displayName": "Jason SJ Yim",
      "userId": "00695299170620821850"
     },
     "user_tz": -540
    },
    "id": "0c7c234f",
    "outputId": "21eee0d0-d4c6-48f8-89e5-7d5f21a0416e"
   },
   "outputs": [],
   "source": [
    "# 참조 코딩\n",
    "pred = 0.8*pred_xgb + 0.2*pred_lgb\n",
    "print('r2: {0:.5f}'.format(r2_score(y_test, pred)))"
   ]
  },
  {
   "cell_type": "code",
   "execution_count": null,
   "id": "d3b22e25",
   "metadata": {
    "colab": {
     "base_uri": "https://localhost:8080/"
    },
    "executionInfo": {
     "elapsed": 302,
     "status": "ok",
     "timestamp": 1661807280649,
     "user": {
      "displayName": "Jason SJ Yim",
      "userId": "00695299170620821850"
     },
     "user_tz": -540
    },
    "id": "d3b22e25",
    "outputId": "bd934c8e-0e48-4ad8-f328-d80a837ec0fa"
   },
   "outputs": [],
   "source": [
    "pred = 0.9*pred_xgb + 0.1*pred_lgb\n",
    "print('r2: {0:.5f}'.format(r2_score(y_test, pred)))"
   ]
  },
  {
   "cell_type": "code",
   "execution_count": null,
   "id": "894d2aa7",
   "metadata": {
    "id": "894d2aa7"
   },
   "outputs": [],
   "source": []
  }
 ],
 "metadata": {
  "colab": {
   "collapsed_sections": [],
   "provenance": []
  },
  "kernelspec": {
   "display_name": "Python 3 (ipykernel)",
   "language": "python",
   "name": "python3"
  },
  "language_info": {
   "codemirror_mode": {
    "name": "ipython",
    "version": 3
   },
   "file_extension": ".py",
   "mimetype": "text/x-python",
   "name": "python",
   "nbconvert_exporter": "python",
   "pygments_lexer": "ipython3",
   "version": "3.10.9"
  }
 },
 "nbformat": 4,
 "nbformat_minor": 5
}
